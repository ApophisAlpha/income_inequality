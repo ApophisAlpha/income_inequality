{
 "cells": [
  {
   "cell_type": "markdown",
   "metadata": {},
   "source": [
    "# Investigating Income Inequality, Corruption, Health and Literacy\n",
    "\n",
    "### Author: David Oguara, May 2018\n",
    "\n",
    "## Table of Contents\n",
    "<ul>\n",
    "<li><a href=\"#intro\">Introduction</a></li>\n",
    "<li><a href=\"#wrangling\">Data Wrangling</a></li>\n",
    "<li><a href=\"#eda\">Exploratory Data Analysis</a></li>\n",
    "<li><a href=\"#conclusions\">Conclusions</a></li>\n",
    "</ul>"
   ]
  },
  {
   "cell_type": "markdown",
   "metadata": {},
   "source": [
    "<a id='intro'></a>\n",
    "## Introduction\n",
    "\n",
    "For this project, we will be investigating income inequality, corruption perception, literacy and health. We will consider which countries are the best and worst in each of these metrics, and seek to uncover relationships between these metrics within countries of the world.\n"
   ]
  },
  {
   "cell_type": "markdown",
   "metadata": {},
   "source": [
    "#### Dataset Selection\n",
    "\n",
    "Gapminder data on literacy, poverty and inequality, and incomes and growth has been selected for use in this analysis. This data comes from multiple original sources, including World Bank, UNESCO, and Transparency International. \n",
    "\n",
    "For consistency, we have selected a five-year period, 2007 to 2011, as the active window for investigation. Where gapminder is missing data within this window, we have sourced data directly from the source organization. \n",
    "\n",
    "This analysis is not focused on trends over time; rather, it seeks to identify relationships among variables related to socio-economic indicators. Therefore, in most cases, averages over this five-year window are used to investigate these correlations. Five years is seen as short enough to minimise changes in trendline for each variable, and long enough that gaps in data can be filled from alternate years.\n",
    "\n",
    "CSV files and their sources are listed below:\n",
    "\n",
    ">**Dataset** / Provider / Filename csv\n",
    "\n",
    ">**Corruption Perception Index (CPI)** / Transparency International / corruption_2008_2009.csv, corruption_2007_2010_2011.csv\n",
    "\n",
    ">**Infant Mortality Rate (rate per 1000 births)** / Various sources / infant.csv\n",
    "\n",
    ">**Literacy rate, adult total (% of people ages 15 and above)** / UNESCO / literacy.csv\n",
    "\n",
    ">**Inequality index (Gini)** / The World Bank (WEBSITE) / inequality.csv\n",
    "\n",
    ">**Poverty (% people below USD1.90 a day)** / The World Bank / poverty_2usd.csv\n",
    "\n",
    ">**GDP/capita (USD, inflation-adjusted)** / The World Bank / gdp.csv"
   ]
  },
  {
   "cell_type": "markdown",
   "metadata": {},
   "source": [
    "#### Investigation Questions\n",
    "\n",
    "The following questions will be investigated in this analysis.\n",
    "\n",
    "**Q1. Which five countries have the highest and lowest income inequality?**\n",
    "\n",
    "**Q2. Is there a relationship between income inequality and corruption?**\n",
    "\n",
    "**Q3. Is GDP per capita a good predictor of income inequality?**\n",
    "\n",
    "**Q4. Does a correlation exist between literacy and health?**"
   ]
  },
  {
   "cell_type": "markdown",
   "metadata": {},
   "source": [
    "The packages inported below are required to conduct this analysis."
   ]
  },
  {
   "cell_type": "code",
   "execution_count": 1,
   "metadata": {},
   "outputs": [],
   "source": [
    "#Import packages\n",
    "\n",
    "import pandas as pd\n",
    "import numpy as np\n",
    "import matplotlib.pyplot as plt\n",
    "import seaborn as sns\n",
    "% matplotlib inline\n"
   ]
  },
  {
   "cell_type": "markdown",
   "metadata": {},
   "source": [
    "<a id='wrangling'></a>\n",
    "## Data Wrangling\n",
    "\n",
    "In this section, we will load the data, inspect it for fitness, and then perform any necessary cleaning and trimming operations to get the data ready for analysis.\n",
    "\n",
    "### General Properties"
   ]
  },
  {
   "cell_type": "markdown",
   "metadata": {},
   "source": [
    "**Corruption Perception Index (CPI) - Data Inspection**"
   ]
  },
  {
   "cell_type": "markdown",
   "metadata": {},
   "source": [
    "From Transparency International website https://www.transparency.org/cpi2011/results: \n",
    "\n",
    ">The Corruption Perception Index ranks countries/territories based on how corrupt their public sector is perceived to be. A country/territory’s score indicates the perceived level of public sector corruption on a scale of 0 - 10, where 0 means that a country is perceived as highly corrupt and 10 means that a country is perceived as very clean."
   ]
  },
  {
   "cell_type": "code",
   "execution_count": 2,
   "metadata": {
    "scrolled": true
   },
   "outputs": [
    {
     "data": {
      "text/html": [
       "<div>\n",
       "<style scoped>\n",
       "    .dataframe tbody tr th:only-of-type {\n",
       "        vertical-align: middle;\n",
       "    }\n",
       "\n",
       "    .dataframe tbody tr th {\n",
       "        vertical-align: top;\n",
       "    }\n",
       "\n",
       "    .dataframe thead th {\n",
       "        text-align: right;\n",
       "    }\n",
       "</style>\n",
       "<table border=\"1\" class=\"dataframe\">\n",
       "  <thead>\n",
       "    <tr style=\"text-align: right;\">\n",
       "      <th></th>\n",
       "      <th>Country</th>\n",
       "      <th>2008</th>\n",
       "      <th>2009</th>\n",
       "    </tr>\n",
       "  </thead>\n",
       "  <tbody>\n",
       "    <tr>\n",
       "      <th>0</th>\n",
       "      <td>New Zealand</td>\n",
       "      <td>9.4</td>\n",
       "      <td>9.3</td>\n",
       "    </tr>\n",
       "    <tr>\n",
       "      <th>1</th>\n",
       "      <td>Denmark</td>\n",
       "      <td>9.3</td>\n",
       "      <td>9.3</td>\n",
       "    </tr>\n",
       "    <tr>\n",
       "      <th>2</th>\n",
       "      <td>Sweden</td>\n",
       "      <td>9.2</td>\n",
       "      <td>9.2</td>\n",
       "    </tr>\n",
       "    <tr>\n",
       "      <th>3</th>\n",
       "      <td>Singapore</td>\n",
       "      <td>9.2</td>\n",
       "      <td>9.3</td>\n",
       "    </tr>\n",
       "    <tr>\n",
       "      <th>4</th>\n",
       "      <td>Switzerland</td>\n",
       "      <td>9.0</td>\n",
       "      <td>8.7</td>\n",
       "    </tr>\n",
       "  </tbody>\n",
       "</table>\n",
       "</div>"
      ],
      "text/plain": [
       "       Country  2008  2009\n",
       "0  New Zealand   9.4   9.3\n",
       "1      Denmark   9.3   9.3\n",
       "2       Sweden   9.2   9.2\n",
       "3    Singapore   9.2   9.3\n",
       "4  Switzerland   9.0   8.7"
      ]
     },
     "execution_count": 2,
     "metadata": {},
     "output_type": "execute_result"
    }
   ],
   "source": [
    "# Import Gapminder cpi data\n",
    "\n",
    "df_corr_a = pd.read_csv('corruption_2008_2009.csv')\n",
    "df_corr_a.head()"
   ]
  },
  {
   "cell_type": "code",
   "execution_count": 3,
   "metadata": {},
   "outputs": [
    {
     "data": {
      "text/plain": [
       "(180, 3)"
      ]
     },
     "execution_count": 3,
     "metadata": {},
     "output_type": "execute_result"
    }
   ],
   "source": [
    "# Check dimensions\n",
    "\n",
    "df_corr_a.shape"
   ]
  },
  {
   "cell_type": "code",
   "execution_count": 4,
   "metadata": {},
   "outputs": [
    {
     "name": "stdout",
     "output_type": "stream",
     "text": [
      "<class 'pandas.core.frame.DataFrame'>\n",
      "RangeIndex: 180 entries, 0 to 179\n",
      "Data columns (total 3 columns):\n",
      "Country    180 non-null object\n",
      "2008       180 non-null float64\n",
      "2009       176 non-null float64\n",
      "dtypes: float64(2), object(1)\n",
      "memory usage: 4.3+ KB\n"
     ]
    }
   ],
   "source": [
    "df_corr_a.info()"
   ]
  },
  {
   "cell_type": "markdown",
   "metadata": {},
   "source": [
    "Gapminder data only contains 2008 and 2009 data. Note that this data is stored in table format, with years as columns. It will need to be converted to long format, with years in a single column. \n",
    "\n",
    "Further, our analysis requires 2007 to 2011 data. We have sourced the missing years data from Transparency International website, https://www.transparency.org/research/cpi/overview"
   ]
  },
  {
   "cell_type": "code",
   "execution_count": 5,
   "metadata": {
    "scrolled": true
   },
   "outputs": [
    {
     "data": {
      "text/html": [
       "<div>\n",
       "<style scoped>\n",
       "    .dataframe tbody tr th:only-of-type {\n",
       "        vertical-align: middle;\n",
       "    }\n",
       "\n",
       "    .dataframe tbody tr th {\n",
       "        vertical-align: top;\n",
       "    }\n",
       "\n",
       "    .dataframe thead th {\n",
       "        text-align: right;\n",
       "    }\n",
       "</style>\n",
       "<table border=\"1\" class=\"dataframe\">\n",
       "  <thead>\n",
       "    <tr style=\"text-align: right;\">\n",
       "      <th></th>\n",
       "      <th>country</th>\n",
       "      <th>year</th>\n",
       "      <th>cpi_score</th>\n",
       "    </tr>\n",
       "  </thead>\n",
       "  <tbody>\n",
       "    <tr>\n",
       "      <th>0</th>\n",
       "      <td>Denmark</td>\n",
       "      <td>2007</td>\n",
       "      <td>9.4</td>\n",
       "    </tr>\n",
       "    <tr>\n",
       "      <th>1</th>\n",
       "      <td>Finland</td>\n",
       "      <td>2007</td>\n",
       "      <td>9.4</td>\n",
       "    </tr>\n",
       "    <tr>\n",
       "      <th>2</th>\n",
       "      <td>New Zealand</td>\n",
       "      <td>2007</td>\n",
       "      <td>9.4</td>\n",
       "    </tr>\n",
       "    <tr>\n",
       "      <th>3</th>\n",
       "      <td>Singapore</td>\n",
       "      <td>2007</td>\n",
       "      <td>9.3</td>\n",
       "    </tr>\n",
       "    <tr>\n",
       "      <th>4</th>\n",
       "      <td>Sweden</td>\n",
       "      <td>2007</td>\n",
       "      <td>9.3</td>\n",
       "    </tr>\n",
       "  </tbody>\n",
       "</table>\n",
       "</div>"
      ],
      "text/plain": [
       "       country  year  cpi_score\n",
       "0      Denmark  2007        9.4\n",
       "1      Finland  2007        9.4\n",
       "2  New Zealand  2007        9.4\n",
       "3    Singapore  2007        9.3\n",
       "4       Sweden  2007        9.3"
      ]
     },
     "execution_count": 5,
     "metadata": {},
     "output_type": "execute_result"
    }
   ],
   "source": [
    "# Import missing years data\n",
    "\n",
    "df_corr_b = pd.read_csv('corruption_2007_2010_2011.csv')\n",
    "df_corr_b.head()"
   ]
  },
  {
   "cell_type": "code",
   "execution_count": 6,
   "metadata": {
    "scrolled": false
   },
   "outputs": [
    {
     "data": {
      "text/plain": [
       "2011    183\n",
       "2007    180\n",
       "2010    178\n",
       "Name: year, dtype: int64"
      ]
     },
     "execution_count": 6,
     "metadata": {},
     "output_type": "execute_result"
    }
   ],
   "source": [
    "# Confirm data for desired years is present\n",
    "\n",
    "df_corr_b.year.value_counts()"
   ]
  },
  {
   "cell_type": "code",
   "execution_count": 7,
   "metadata": {},
   "outputs": [
    {
     "name": "stdout",
     "output_type": "stream",
     "text": [
      "<class 'pandas.core.frame.DataFrame'>\n",
      "RangeIndex: 541 entries, 0 to 540\n",
      "Data columns (total 3 columns):\n",
      "country      541 non-null object\n",
      "year         541 non-null int64\n",
      "cpi_score    541 non-null float64\n",
      "dtypes: float64(1), int64(1), object(1)\n",
      "memory usage: 12.8+ KB\n"
     ]
    }
   ],
   "source": [
    "# Inspect data types\n",
    "\n",
    "df_corr_b.info()"
   ]
  },
  {
   "cell_type": "markdown",
   "metadata": {},
   "source": [
    "Data for 2007, 2010, 2011 is stored in ideal long format. Tasks for this dataset will be: \n",
    "- transform gapminder subset data into long format\n",
    "- check and convert data types as needed\n",
    "- combine gapminder data with manually downloaded missing years data.\n",
    "\n",
    "Let us proceed to import and inspect the other datasets and identify any data-cleansing tasks."
   ]
  },
  {
   "cell_type": "markdown",
   "metadata": {},
   "source": [
    "#### Infant Mortality Rate (rate per 1000 births) - Data Inspection"
   ]
  },
  {
   "cell_type": "markdown",
   "metadata": {},
   "source": [
    "According to a 2003 paper published in Journal of Epidiemology and Public Health:\n",
    "\n",
    ">The infant mortality rate (IMR), defined as the number of deaths in children under 1 year of age per 1000 live births in the same year, has in the past been regarded as a highly sensitive (proxy) measure of population health.2 This reflects the apparent association between the causes of infant mortality and other factors that are likely to influence the health status of whole populations such as their economic development, general living conditions, social well being, rates of illness, and the quality of the environment. \n",
    "\n",
    "Source: https://www.ncbi.nlm.nih.gov/pmc/articles/PMC1732453/\n",
    "\n",
    "**We have therefore selected infant mortality rate as a measure of whole-country population health for this investigation.**\n",
    "\n",
    "Data has been sourced from Gapminder."
   ]
  },
  {
   "cell_type": "code",
   "execution_count": 8,
   "metadata": {
    "scrolled": true
   },
   "outputs": [
    {
     "data": {
      "text/html": [
       "<div>\n",
       "<style scoped>\n",
       "    .dataframe tbody tr th:only-of-type {\n",
       "        vertical-align: middle;\n",
       "    }\n",
       "\n",
       "    .dataframe tbody tr th {\n",
       "        vertical-align: top;\n",
       "    }\n",
       "\n",
       "    .dataframe thead th {\n",
       "        text-align: right;\n",
       "    }\n",
       "</style>\n",
       "<table border=\"1\" class=\"dataframe\">\n",
       "  <thead>\n",
       "    <tr style=\"text-align: right;\">\n",
       "      <th></th>\n",
       "      <th>Infant mortality rate</th>\n",
       "      <th>1800</th>\n",
       "      <th>1801</th>\n",
       "      <th>1802</th>\n",
       "      <th>1803</th>\n",
       "      <th>1804</th>\n",
       "      <th>1805</th>\n",
       "      <th>1806</th>\n",
       "      <th>1807</th>\n",
       "      <th>1808</th>\n",
       "      <th>...</th>\n",
       "      <th>2006</th>\n",
       "      <th>2007</th>\n",
       "      <th>2008</th>\n",
       "      <th>2009</th>\n",
       "      <th>2010</th>\n",
       "      <th>2011</th>\n",
       "      <th>2012</th>\n",
       "      <th>2013</th>\n",
       "      <th>2014</th>\n",
       "      <th>2015</th>\n",
       "    </tr>\n",
       "  </thead>\n",
       "  <tbody>\n",
       "    <tr>\n",
       "      <th>0</th>\n",
       "      <td>Abkhazia</td>\n",
       "      <td>NaN</td>\n",
       "      <td>NaN</td>\n",
       "      <td>NaN</td>\n",
       "      <td>NaN</td>\n",
       "      <td>NaN</td>\n",
       "      <td>NaN</td>\n",
       "      <td>NaN</td>\n",
       "      <td>NaN</td>\n",
       "      <td>NaN</td>\n",
       "      <td>...</td>\n",
       "      <td>NaN</td>\n",
       "      <td>NaN</td>\n",
       "      <td>NaN</td>\n",
       "      <td>NaN</td>\n",
       "      <td>NaN</td>\n",
       "      <td>NaN</td>\n",
       "      <td>NaN</td>\n",
       "      <td>NaN</td>\n",
       "      <td>NaN</td>\n",
       "      <td>NaN</td>\n",
       "    </tr>\n",
       "    <tr>\n",
       "      <th>1</th>\n",
       "      <td>Afghanistan</td>\n",
       "      <td>NaN</td>\n",
       "      <td>NaN</td>\n",
       "      <td>NaN</td>\n",
       "      <td>NaN</td>\n",
       "      <td>NaN</td>\n",
       "      <td>NaN</td>\n",
       "      <td>NaN</td>\n",
       "      <td>NaN</td>\n",
       "      <td>NaN</td>\n",
       "      <td>...</td>\n",
       "      <td>82.3</td>\n",
       "      <td>80.4</td>\n",
       "      <td>78.6</td>\n",
       "      <td>76.8</td>\n",
       "      <td>75.1</td>\n",
       "      <td>73.4</td>\n",
       "      <td>71.7</td>\n",
       "      <td>69.9</td>\n",
       "      <td>68.1</td>\n",
       "      <td>66.3</td>\n",
       "    </tr>\n",
       "    <tr>\n",
       "      <th>2</th>\n",
       "      <td>Akrotiri and Dhekelia</td>\n",
       "      <td>NaN</td>\n",
       "      <td>NaN</td>\n",
       "      <td>NaN</td>\n",
       "      <td>NaN</td>\n",
       "      <td>NaN</td>\n",
       "      <td>NaN</td>\n",
       "      <td>NaN</td>\n",
       "      <td>NaN</td>\n",
       "      <td>NaN</td>\n",
       "      <td>...</td>\n",
       "      <td>NaN</td>\n",
       "      <td>NaN</td>\n",
       "      <td>NaN</td>\n",
       "      <td>NaN</td>\n",
       "      <td>NaN</td>\n",
       "      <td>NaN</td>\n",
       "      <td>NaN</td>\n",
       "      <td>NaN</td>\n",
       "      <td>NaN</td>\n",
       "      <td>NaN</td>\n",
       "    </tr>\n",
       "    <tr>\n",
       "      <th>3</th>\n",
       "      <td>Albania</td>\n",
       "      <td>NaN</td>\n",
       "      <td>NaN</td>\n",
       "      <td>NaN</td>\n",
       "      <td>NaN</td>\n",
       "      <td>NaN</td>\n",
       "      <td>NaN</td>\n",
       "      <td>NaN</td>\n",
       "      <td>NaN</td>\n",
       "      <td>NaN</td>\n",
       "      <td>...</td>\n",
       "      <td>17.4</td>\n",
       "      <td>16.7</td>\n",
       "      <td>16.0</td>\n",
       "      <td>15.4</td>\n",
       "      <td>14.8</td>\n",
       "      <td>14.3</td>\n",
       "      <td>13.8</td>\n",
       "      <td>13.3</td>\n",
       "      <td>12.9</td>\n",
       "      <td>12.5</td>\n",
       "    </tr>\n",
       "    <tr>\n",
       "      <th>4</th>\n",
       "      <td>Algeria</td>\n",
       "      <td>NaN</td>\n",
       "      <td>NaN</td>\n",
       "      <td>NaN</td>\n",
       "      <td>NaN</td>\n",
       "      <td>NaN</td>\n",
       "      <td>NaN</td>\n",
       "      <td>NaN</td>\n",
       "      <td>NaN</td>\n",
       "      <td>NaN</td>\n",
       "      <td>...</td>\n",
       "      <td>27.6</td>\n",
       "      <td>26.4</td>\n",
       "      <td>25.3</td>\n",
       "      <td>24.3</td>\n",
       "      <td>23.5</td>\n",
       "      <td>22.8</td>\n",
       "      <td>22.4</td>\n",
       "      <td>22.1</td>\n",
       "      <td>22.0</td>\n",
       "      <td>21.9</td>\n",
       "    </tr>\n",
       "  </tbody>\n",
       "</table>\n",
       "<p>5 rows × 217 columns</p>\n",
       "</div>"
      ],
      "text/plain": [
       "   Infant mortality rate  1800  1801  1802  1803  1804  1805  1806  1807  \\\n",
       "0               Abkhazia   NaN   NaN   NaN   NaN   NaN   NaN   NaN   NaN   \n",
       "1            Afghanistan   NaN   NaN   NaN   NaN   NaN   NaN   NaN   NaN   \n",
       "2  Akrotiri and Dhekelia   NaN   NaN   NaN   NaN   NaN   NaN   NaN   NaN   \n",
       "3                Albania   NaN   NaN   NaN   NaN   NaN   NaN   NaN   NaN   \n",
       "4                Algeria   NaN   NaN   NaN   NaN   NaN   NaN   NaN   NaN   \n",
       "\n",
       "   1808  ...   2006  2007  2008  2009  2010  2011  2012  2013  2014  2015  \n",
       "0   NaN  ...    NaN   NaN   NaN   NaN   NaN   NaN   NaN   NaN   NaN   NaN  \n",
       "1   NaN  ...   82.3  80.4  78.6  76.8  75.1  73.4  71.7  69.9  68.1  66.3  \n",
       "2   NaN  ...    NaN   NaN   NaN   NaN   NaN   NaN   NaN   NaN   NaN   NaN  \n",
       "3   NaN  ...   17.4  16.7  16.0  15.4  14.8  14.3  13.8  13.3  12.9  12.5  \n",
       "4   NaN  ...   27.6  26.4  25.3  24.3  23.5  22.8  22.4  22.1  22.0  21.9  \n",
       "\n",
       "[5 rows x 217 columns]"
      ]
     },
     "execution_count": 8,
     "metadata": {},
     "output_type": "execute_result"
    }
   ],
   "source": [
    "# Import infant_mortality data\n",
    "df_infant = pd.read_csv('infant.csv')\n",
    "df_infant.head()"
   ]
  },
  {
   "cell_type": "markdown",
   "metadata": {},
   "source": [
    "#### Literacy rate, adult total (% of people ages 15 and above) - Data Inspection"
   ]
  },
  {
   "cell_type": "markdown",
   "metadata": {},
   "source": [
    "Adult literacy rate is the percentage of people aged 15 years and above who can read and write. Data is almost entirely collected by UNESCO Institute for Statistis on behalf of UNESCO, and is collated by mostly surveys wherein participants self-declare. The global literacy rate for adults 15 years and older is 86% as at 2015.\n",
    "\n",
    "Our dataset will investigate average literacy from 2007 to 2011, and identify any relationships to other metrics like health, income inequality and corruption perception. "
   ]
  },
  {
   "cell_type": "code",
   "execution_count": 9,
   "metadata": {
    "scrolled": true
   },
   "outputs": [
    {
     "data": {
      "text/html": [
       "<div>\n",
       "<style scoped>\n",
       "    .dataframe tbody tr th:only-of-type {\n",
       "        vertical-align: middle;\n",
       "    }\n",
       "\n",
       "    .dataframe tbody tr th {\n",
       "        vertical-align: top;\n",
       "    }\n",
       "\n",
       "    .dataframe thead th {\n",
       "        text-align: right;\n",
       "    }\n",
       "</style>\n",
       "<table border=\"1\" class=\"dataframe\">\n",
       "  <thead>\n",
       "    <tr style=\"text-align: right;\">\n",
       "      <th></th>\n",
       "      <th>Adult (15+) literacy rate (%). Total</th>\n",
       "      <th>1975</th>\n",
       "      <th>1976</th>\n",
       "      <th>1977</th>\n",
       "      <th>1978</th>\n",
       "      <th>1979</th>\n",
       "      <th>1980</th>\n",
       "      <th>1981</th>\n",
       "      <th>1982</th>\n",
       "      <th>1983</th>\n",
       "      <th>...</th>\n",
       "      <th>2002</th>\n",
       "      <th>2003</th>\n",
       "      <th>2004</th>\n",
       "      <th>2005</th>\n",
       "      <th>2006</th>\n",
       "      <th>2007</th>\n",
       "      <th>2008</th>\n",
       "      <th>2009</th>\n",
       "      <th>2010</th>\n",
       "      <th>2011</th>\n",
       "    </tr>\n",
       "  </thead>\n",
       "  <tbody>\n",
       "    <tr>\n",
       "      <th>0</th>\n",
       "      <td>Afghanistan</td>\n",
       "      <td>NaN</td>\n",
       "      <td>NaN</td>\n",
       "      <td>NaN</td>\n",
       "      <td>NaN</td>\n",
       "      <td>18.157681</td>\n",
       "      <td>NaN</td>\n",
       "      <td>NaN</td>\n",
       "      <td>NaN</td>\n",
       "      <td>NaN</td>\n",
       "      <td>...</td>\n",
       "      <td>NaN</td>\n",
       "      <td>NaN</td>\n",
       "      <td>NaN</td>\n",
       "      <td>NaN</td>\n",
       "      <td>NaN</td>\n",
       "      <td>NaN</td>\n",
       "      <td>NaN</td>\n",
       "      <td>NaN</td>\n",
       "      <td>NaN</td>\n",
       "      <td>39.000000</td>\n",
       "    </tr>\n",
       "    <tr>\n",
       "      <th>1</th>\n",
       "      <td>Albania</td>\n",
       "      <td>NaN</td>\n",
       "      <td>NaN</td>\n",
       "      <td>NaN</td>\n",
       "      <td>NaN</td>\n",
       "      <td>NaN</td>\n",
       "      <td>NaN</td>\n",
       "      <td>NaN</td>\n",
       "      <td>NaN</td>\n",
       "      <td>NaN</td>\n",
       "      <td>...</td>\n",
       "      <td>NaN</td>\n",
       "      <td>NaN</td>\n",
       "      <td>NaN</td>\n",
       "      <td>NaN</td>\n",
       "      <td>NaN</td>\n",
       "      <td>NaN</td>\n",
       "      <td>95.93864</td>\n",
       "      <td>NaN</td>\n",
       "      <td>NaN</td>\n",
       "      <td>96.845299</td>\n",
       "    </tr>\n",
       "    <tr>\n",
       "      <th>2</th>\n",
       "      <td>Algeria</td>\n",
       "      <td>NaN</td>\n",
       "      <td>NaN</td>\n",
       "      <td>NaN</td>\n",
       "      <td>NaN</td>\n",
       "      <td>NaN</td>\n",
       "      <td>NaN</td>\n",
       "      <td>NaN</td>\n",
       "      <td>NaN</td>\n",
       "      <td>NaN</td>\n",
       "      <td>...</td>\n",
       "      <td>69.8735</td>\n",
       "      <td>NaN</td>\n",
       "      <td>NaN</td>\n",
       "      <td>NaN</td>\n",
       "      <td>72.648679</td>\n",
       "      <td>NaN</td>\n",
       "      <td>NaN</td>\n",
       "      <td>NaN</td>\n",
       "      <td>NaN</td>\n",
       "      <td>NaN</td>\n",
       "    </tr>\n",
       "    <tr>\n",
       "      <th>3</th>\n",
       "      <td>Andorra</td>\n",
       "      <td>NaN</td>\n",
       "      <td>NaN</td>\n",
       "      <td>NaN</td>\n",
       "      <td>NaN</td>\n",
       "      <td>NaN</td>\n",
       "      <td>NaN</td>\n",
       "      <td>NaN</td>\n",
       "      <td>NaN</td>\n",
       "      <td>NaN</td>\n",
       "      <td>...</td>\n",
       "      <td>NaN</td>\n",
       "      <td>NaN</td>\n",
       "      <td>NaN</td>\n",
       "      <td>NaN</td>\n",
       "      <td>NaN</td>\n",
       "      <td>NaN</td>\n",
       "      <td>NaN</td>\n",
       "      <td>NaN</td>\n",
       "      <td>NaN</td>\n",
       "      <td>NaN</td>\n",
       "    </tr>\n",
       "    <tr>\n",
       "      <th>4</th>\n",
       "      <td>Angola</td>\n",
       "      <td>NaN</td>\n",
       "      <td>NaN</td>\n",
       "      <td>NaN</td>\n",
       "      <td>NaN</td>\n",
       "      <td>NaN</td>\n",
       "      <td>NaN</td>\n",
       "      <td>NaN</td>\n",
       "      <td>NaN</td>\n",
       "      <td>NaN</td>\n",
       "      <td>...</td>\n",
       "      <td>NaN</td>\n",
       "      <td>NaN</td>\n",
       "      <td>NaN</td>\n",
       "      <td>NaN</td>\n",
       "      <td>NaN</td>\n",
       "      <td>NaN</td>\n",
       "      <td>NaN</td>\n",
       "      <td>NaN</td>\n",
       "      <td>NaN</td>\n",
       "      <td>70.362420</td>\n",
       "    </tr>\n",
       "  </tbody>\n",
       "</table>\n",
       "<p>5 rows × 38 columns</p>\n",
       "</div>"
      ],
      "text/plain": [
       "  Adult (15+) literacy rate (%). Total  1975  1976  1977  1978       1979  \\\n",
       "0                          Afghanistan   NaN   NaN   NaN   NaN  18.157681   \n",
       "1                              Albania   NaN   NaN   NaN   NaN        NaN   \n",
       "2                              Algeria   NaN   NaN   NaN   NaN        NaN   \n",
       "3                              Andorra   NaN   NaN   NaN   NaN        NaN   \n",
       "4                               Angola   NaN   NaN   NaN   NaN        NaN   \n",
       "\n",
       "   1980  1981  1982  1983    ...         2002  2003  2004  2005       2006  \\\n",
       "0   NaN   NaN   NaN   NaN    ...          NaN   NaN   NaN   NaN        NaN   \n",
       "1   NaN   NaN   NaN   NaN    ...          NaN   NaN   NaN   NaN        NaN   \n",
       "2   NaN   NaN   NaN   NaN    ...      69.8735   NaN   NaN   NaN  72.648679   \n",
       "3   NaN   NaN   NaN   NaN    ...          NaN   NaN   NaN   NaN        NaN   \n",
       "4   NaN   NaN   NaN   NaN    ...          NaN   NaN   NaN   NaN        NaN   \n",
       "\n",
       "   2007      2008  2009  2010       2011  \n",
       "0   NaN       NaN   NaN   NaN  39.000000  \n",
       "1   NaN  95.93864   NaN   NaN  96.845299  \n",
       "2   NaN       NaN   NaN   NaN        NaN  \n",
       "3   NaN       NaN   NaN   NaN        NaN  \n",
       "4   NaN       NaN   NaN   NaN  70.362420  \n",
       "\n",
       "[5 rows x 38 columns]"
      ]
     },
     "execution_count": 9,
     "metadata": {},
     "output_type": "execute_result"
    }
   ],
   "source": [
    "# Import literacy data\n",
    "df_literacy = pd.read_csv('literacy.csv')\n",
    "df_literacy.head()"
   ]
  },
  {
   "cell_type": "markdown",
   "metadata": {},
   "source": [
    "#### Inequality index (Gini) - Data Inspection"
   ]
  },
  {
   "cell_type": "markdown",
   "metadata": {},
   "source": [
    "World Bank website, https://data.worldbank.org/indicator/SI.POV.GINI explains the GINI index:\n",
    " \n",
    "> Gini index measures the extent to which the distribution of income (or, in some cases, consumption expenditure) among individuals or households within an economy deviates from a perfectly equal distribution. A Lorenz curve plots the cumulative percentages of total income received against the cumulative number of recipients, starting with the poorest individual or household. The Gini index measures the area between the Lorenz curve and a hypothetical line of absolute equality, expressed as a percentage of the maximum area under the line. Thus a Gini index of 0 represents perfect equality, while an index of 100 implies perfect inequality.\n",
    "\n",
    "Gapminder data only goes to 2010. For convenience, GINI data 2007 to 2011 is downloaded from  the Word Bank website above. This will allow us to match time period of data in other comparison variables."
   ]
  },
  {
   "cell_type": "code",
   "execution_count": 10,
   "metadata": {
    "scrolled": false
   },
   "outputs": [
    {
     "data": {
      "text/html": [
       "<div>\n",
       "<style scoped>\n",
       "    .dataframe tbody tr th:only-of-type {\n",
       "        vertical-align: middle;\n",
       "    }\n",
       "\n",
       "    .dataframe tbody tr th {\n",
       "        vertical-align: top;\n",
       "    }\n",
       "\n",
       "    .dataframe thead th {\n",
       "        text-align: right;\n",
       "    }\n",
       "</style>\n",
       "<table border=\"1\" class=\"dataframe\">\n",
       "  <thead>\n",
       "    <tr style=\"text-align: right;\">\n",
       "      <th></th>\n",
       "      <th>Country Name</th>\n",
       "      <th>1960</th>\n",
       "      <th>1961</th>\n",
       "      <th>1962</th>\n",
       "      <th>1963</th>\n",
       "      <th>1964</th>\n",
       "      <th>1965</th>\n",
       "      <th>1966</th>\n",
       "      <th>1967</th>\n",
       "      <th>1968</th>\n",
       "      <th>...</th>\n",
       "      <th>2008</th>\n",
       "      <th>2009</th>\n",
       "      <th>2010</th>\n",
       "      <th>2011</th>\n",
       "      <th>2012</th>\n",
       "      <th>2013</th>\n",
       "      <th>2014</th>\n",
       "      <th>2015</th>\n",
       "      <th>2016</th>\n",
       "      <th>2017</th>\n",
       "    </tr>\n",
       "  </thead>\n",
       "  <tbody>\n",
       "    <tr>\n",
       "      <th>0</th>\n",
       "      <td>Aruba</td>\n",
       "      <td>NaN</td>\n",
       "      <td>NaN</td>\n",
       "      <td>NaN</td>\n",
       "      <td>NaN</td>\n",
       "      <td>NaN</td>\n",
       "      <td>NaN</td>\n",
       "      <td>NaN</td>\n",
       "      <td>NaN</td>\n",
       "      <td>NaN</td>\n",
       "      <td>...</td>\n",
       "      <td>NaN</td>\n",
       "      <td>NaN</td>\n",
       "      <td>NaN</td>\n",
       "      <td>NaN</td>\n",
       "      <td>NaN</td>\n",
       "      <td>NaN</td>\n",
       "      <td>NaN</td>\n",
       "      <td>NaN</td>\n",
       "      <td>NaN</td>\n",
       "      <td>NaN</td>\n",
       "    </tr>\n",
       "    <tr>\n",
       "      <th>1</th>\n",
       "      <td>Afghanistan</td>\n",
       "      <td>NaN</td>\n",
       "      <td>NaN</td>\n",
       "      <td>NaN</td>\n",
       "      <td>NaN</td>\n",
       "      <td>NaN</td>\n",
       "      <td>NaN</td>\n",
       "      <td>NaN</td>\n",
       "      <td>NaN</td>\n",
       "      <td>NaN</td>\n",
       "      <td>...</td>\n",
       "      <td>NaN</td>\n",
       "      <td>NaN</td>\n",
       "      <td>NaN</td>\n",
       "      <td>NaN</td>\n",
       "      <td>NaN</td>\n",
       "      <td>NaN</td>\n",
       "      <td>NaN</td>\n",
       "      <td>NaN</td>\n",
       "      <td>NaN</td>\n",
       "      <td>NaN</td>\n",
       "    </tr>\n",
       "    <tr>\n",
       "      <th>2</th>\n",
       "      <td>Angola</td>\n",
       "      <td>NaN</td>\n",
       "      <td>NaN</td>\n",
       "      <td>NaN</td>\n",
       "      <td>NaN</td>\n",
       "      <td>NaN</td>\n",
       "      <td>NaN</td>\n",
       "      <td>NaN</td>\n",
       "      <td>NaN</td>\n",
       "      <td>NaN</td>\n",
       "      <td>...</td>\n",
       "      <td>42.7</td>\n",
       "      <td>NaN</td>\n",
       "      <td>NaN</td>\n",
       "      <td>NaN</td>\n",
       "      <td>NaN</td>\n",
       "      <td>NaN</td>\n",
       "      <td>NaN</td>\n",
       "      <td>NaN</td>\n",
       "      <td>NaN</td>\n",
       "      <td>NaN</td>\n",
       "    </tr>\n",
       "    <tr>\n",
       "      <th>3</th>\n",
       "      <td>Albania</td>\n",
       "      <td>NaN</td>\n",
       "      <td>NaN</td>\n",
       "      <td>NaN</td>\n",
       "      <td>NaN</td>\n",
       "      <td>NaN</td>\n",
       "      <td>NaN</td>\n",
       "      <td>NaN</td>\n",
       "      <td>NaN</td>\n",
       "      <td>NaN</td>\n",
       "      <td>...</td>\n",
       "      <td>30.0</td>\n",
       "      <td>NaN</td>\n",
       "      <td>NaN</td>\n",
       "      <td>NaN</td>\n",
       "      <td>29.0</td>\n",
       "      <td>NaN</td>\n",
       "      <td>NaN</td>\n",
       "      <td>NaN</td>\n",
       "      <td>NaN</td>\n",
       "      <td>NaN</td>\n",
       "    </tr>\n",
       "    <tr>\n",
       "      <th>4</th>\n",
       "      <td>Andorra</td>\n",
       "      <td>NaN</td>\n",
       "      <td>NaN</td>\n",
       "      <td>NaN</td>\n",
       "      <td>NaN</td>\n",
       "      <td>NaN</td>\n",
       "      <td>NaN</td>\n",
       "      <td>NaN</td>\n",
       "      <td>NaN</td>\n",
       "      <td>NaN</td>\n",
       "      <td>...</td>\n",
       "      <td>NaN</td>\n",
       "      <td>NaN</td>\n",
       "      <td>NaN</td>\n",
       "      <td>NaN</td>\n",
       "      <td>NaN</td>\n",
       "      <td>NaN</td>\n",
       "      <td>NaN</td>\n",
       "      <td>NaN</td>\n",
       "      <td>NaN</td>\n",
       "      <td>NaN</td>\n",
       "    </tr>\n",
       "  </tbody>\n",
       "</table>\n",
       "<p>5 rows × 59 columns</p>\n",
       "</div>"
      ],
      "text/plain": [
       "  Country Name  1960  1961  1962  1963  1964  1965  1966  1967  1968  ...   \\\n",
       "0        Aruba   NaN   NaN   NaN   NaN   NaN   NaN   NaN   NaN   NaN  ...    \n",
       "1  Afghanistan   NaN   NaN   NaN   NaN   NaN   NaN   NaN   NaN   NaN  ...    \n",
       "2       Angola   NaN   NaN   NaN   NaN   NaN   NaN   NaN   NaN   NaN  ...    \n",
       "3      Albania   NaN   NaN   NaN   NaN   NaN   NaN   NaN   NaN   NaN  ...    \n",
       "4      Andorra   NaN   NaN   NaN   NaN   NaN   NaN   NaN   NaN   NaN  ...    \n",
       "\n",
       "   2008  2009  2010  2011  2012  2013  2014  2015  2016  2017  \n",
       "0   NaN   NaN   NaN   NaN   NaN   NaN   NaN   NaN   NaN   NaN  \n",
       "1   NaN   NaN   NaN   NaN   NaN   NaN   NaN   NaN   NaN   NaN  \n",
       "2  42.7   NaN   NaN   NaN   NaN   NaN   NaN   NaN   NaN   NaN  \n",
       "3  30.0   NaN   NaN   NaN  29.0   NaN   NaN   NaN   NaN   NaN  \n",
       "4   NaN   NaN   NaN   NaN   NaN   NaN   NaN   NaN   NaN   NaN  \n",
       "\n",
       "[5 rows x 59 columns]"
      ]
     },
     "execution_count": 10,
     "metadata": {},
     "output_type": "execute_result"
    }
   ],
   "source": [
    "# Import inequality index data data\n",
    "df_inequality = pd.read_csv('inequality.csv')\n",
    "df_inequality.head()"
   ]
  },
  {
   "cell_type": "markdown",
   "metadata": {},
   "source": [
    "#### Poverty (% people below USD1.90 a day)\n"
   ]
  },
  {
   "cell_type": "markdown",
   "metadata": {},
   "source": [
    "According to World Bank website https://data.worldbank.org/indicator/SI.POV.DDAY:\n",
    "\n",
    "> Poverty headcount ratio at USD1.90 a day is the percentage of the population living on less than USD1.90 a day at 2011 international prices. As a result of revisions in PPP exchange rates, poverty rates for individual countries cannot be compared with poverty rates reported in earlier editions.\n",
    "\n",
    "Given the above, we will select and use data for 2011 only"
   ]
  },
  {
   "cell_type": "code",
   "execution_count": 11,
   "metadata": {},
   "outputs": [
    {
     "data": {
      "text/html": [
       "<div>\n",
       "<style scoped>\n",
       "    .dataframe tbody tr th:only-of-type {\n",
       "        vertical-align: middle;\n",
       "    }\n",
       "\n",
       "    .dataframe tbody tr th {\n",
       "        vertical-align: top;\n",
       "    }\n",
       "\n",
       "    .dataframe thead th {\n",
       "        text-align: right;\n",
       "    }\n",
       "</style>\n",
       "<table border=\"1\" class=\"dataframe\">\n",
       "  <thead>\n",
       "    <tr style=\"text-align: right;\">\n",
       "      <th></th>\n",
       "      <th>Country Name</th>\n",
       "      <th>1960</th>\n",
       "      <th>1961</th>\n",
       "      <th>1962</th>\n",
       "      <th>1963</th>\n",
       "      <th>1964</th>\n",
       "      <th>1965</th>\n",
       "      <th>1966</th>\n",
       "      <th>1967</th>\n",
       "      <th>1968</th>\n",
       "      <th>...</th>\n",
       "      <th>2008</th>\n",
       "      <th>2009</th>\n",
       "      <th>2010</th>\n",
       "      <th>2011</th>\n",
       "      <th>2012</th>\n",
       "      <th>2013</th>\n",
       "      <th>2014</th>\n",
       "      <th>2015</th>\n",
       "      <th>2016</th>\n",
       "      <th>2017</th>\n",
       "    </tr>\n",
       "  </thead>\n",
       "  <tbody>\n",
       "    <tr>\n",
       "      <th>0</th>\n",
       "      <td>Aruba</td>\n",
       "      <td>NaN</td>\n",
       "      <td>NaN</td>\n",
       "      <td>NaN</td>\n",
       "      <td>NaN</td>\n",
       "      <td>NaN</td>\n",
       "      <td>NaN</td>\n",
       "      <td>NaN</td>\n",
       "      <td>NaN</td>\n",
       "      <td>NaN</td>\n",
       "      <td>...</td>\n",
       "      <td>NaN</td>\n",
       "      <td>NaN</td>\n",
       "      <td>NaN</td>\n",
       "      <td>NaN</td>\n",
       "      <td>NaN</td>\n",
       "      <td>NaN</td>\n",
       "      <td>NaN</td>\n",
       "      <td>NaN</td>\n",
       "      <td>NaN</td>\n",
       "      <td>NaN</td>\n",
       "    </tr>\n",
       "    <tr>\n",
       "      <th>1</th>\n",
       "      <td>Afghanistan</td>\n",
       "      <td>NaN</td>\n",
       "      <td>NaN</td>\n",
       "      <td>NaN</td>\n",
       "      <td>NaN</td>\n",
       "      <td>NaN</td>\n",
       "      <td>NaN</td>\n",
       "      <td>NaN</td>\n",
       "      <td>NaN</td>\n",
       "      <td>NaN</td>\n",
       "      <td>...</td>\n",
       "      <td>NaN</td>\n",
       "      <td>NaN</td>\n",
       "      <td>NaN</td>\n",
       "      <td>NaN</td>\n",
       "      <td>NaN</td>\n",
       "      <td>NaN</td>\n",
       "      <td>NaN</td>\n",
       "      <td>NaN</td>\n",
       "      <td>NaN</td>\n",
       "      <td>NaN</td>\n",
       "    </tr>\n",
       "    <tr>\n",
       "      <th>2</th>\n",
       "      <td>Angola</td>\n",
       "      <td>NaN</td>\n",
       "      <td>NaN</td>\n",
       "      <td>NaN</td>\n",
       "      <td>NaN</td>\n",
       "      <td>NaN</td>\n",
       "      <td>NaN</td>\n",
       "      <td>NaN</td>\n",
       "      <td>NaN</td>\n",
       "      <td>NaN</td>\n",
       "      <td>...</td>\n",
       "      <td>30.1</td>\n",
       "      <td>NaN</td>\n",
       "      <td>NaN</td>\n",
       "      <td>NaN</td>\n",
       "      <td>NaN</td>\n",
       "      <td>NaN</td>\n",
       "      <td>NaN</td>\n",
       "      <td>NaN</td>\n",
       "      <td>NaN</td>\n",
       "      <td>NaN</td>\n",
       "    </tr>\n",
       "    <tr>\n",
       "      <th>3</th>\n",
       "      <td>Albania</td>\n",
       "      <td>NaN</td>\n",
       "      <td>NaN</td>\n",
       "      <td>NaN</td>\n",
       "      <td>NaN</td>\n",
       "      <td>NaN</td>\n",
       "      <td>NaN</td>\n",
       "      <td>NaN</td>\n",
       "      <td>NaN</td>\n",
       "      <td>NaN</td>\n",
       "      <td>...</td>\n",
       "      <td>0.4</td>\n",
       "      <td>NaN</td>\n",
       "      <td>NaN</td>\n",
       "      <td>NaN</td>\n",
       "      <td>1.1</td>\n",
       "      <td>NaN</td>\n",
       "      <td>NaN</td>\n",
       "      <td>NaN</td>\n",
       "      <td>NaN</td>\n",
       "      <td>NaN</td>\n",
       "    </tr>\n",
       "    <tr>\n",
       "      <th>4</th>\n",
       "      <td>Andorra</td>\n",
       "      <td>NaN</td>\n",
       "      <td>NaN</td>\n",
       "      <td>NaN</td>\n",
       "      <td>NaN</td>\n",
       "      <td>NaN</td>\n",
       "      <td>NaN</td>\n",
       "      <td>NaN</td>\n",
       "      <td>NaN</td>\n",
       "      <td>NaN</td>\n",
       "      <td>...</td>\n",
       "      <td>NaN</td>\n",
       "      <td>NaN</td>\n",
       "      <td>NaN</td>\n",
       "      <td>NaN</td>\n",
       "      <td>NaN</td>\n",
       "      <td>NaN</td>\n",
       "      <td>NaN</td>\n",
       "      <td>NaN</td>\n",
       "      <td>NaN</td>\n",
       "      <td>NaN</td>\n",
       "    </tr>\n",
       "  </tbody>\n",
       "</table>\n",
       "<p>5 rows × 59 columns</p>\n",
       "</div>"
      ],
      "text/plain": [
       "  Country Name  1960  1961  1962  1963  1964  1965  1966  1967  1968  ...   \\\n",
       "0        Aruba   NaN   NaN   NaN   NaN   NaN   NaN   NaN   NaN   NaN  ...    \n",
       "1  Afghanistan   NaN   NaN   NaN   NaN   NaN   NaN   NaN   NaN   NaN  ...    \n",
       "2       Angola   NaN   NaN   NaN   NaN   NaN   NaN   NaN   NaN   NaN  ...    \n",
       "3      Albania   NaN   NaN   NaN   NaN   NaN   NaN   NaN   NaN   NaN  ...    \n",
       "4      Andorra   NaN   NaN   NaN   NaN   NaN   NaN   NaN   NaN   NaN  ...    \n",
       "\n",
       "   2008  2009  2010  2011  2012  2013  2014  2015  2016  2017  \n",
       "0   NaN   NaN   NaN   NaN   NaN   NaN   NaN   NaN   NaN   NaN  \n",
       "1   NaN   NaN   NaN   NaN   NaN   NaN   NaN   NaN   NaN   NaN  \n",
       "2  30.1   NaN   NaN   NaN   NaN   NaN   NaN   NaN   NaN   NaN  \n",
       "3   0.4   NaN   NaN   NaN   1.1   NaN   NaN   NaN   NaN   NaN  \n",
       "4   NaN   NaN   NaN   NaN   NaN   NaN   NaN   NaN   NaN   NaN  \n",
       "\n",
       "[5 rows x 59 columns]"
      ]
     },
     "execution_count": 11,
     "metadata": {},
     "output_type": "execute_result"
    }
   ],
   "source": [
    "# Import poverty index data data\n",
    "df_poverty = pd.read_csv('poverty_below1_90usd.csv')\n",
    "df_poverty.head()"
   ]
  },
  {
   "cell_type": "code",
   "execution_count": 12,
   "metadata": {},
   "outputs": [
    {
     "data": {
      "text/html": [
       "<div>\n",
       "<style scoped>\n",
       "    .dataframe tbody tr th:only-of-type {\n",
       "        vertical-align: middle;\n",
       "    }\n",
       "\n",
       "    .dataframe tbody tr th {\n",
       "        vertical-align: top;\n",
       "    }\n",
       "\n",
       "    .dataframe thead th {\n",
       "        text-align: right;\n",
       "    }\n",
       "</style>\n",
       "<table border=\"1\" class=\"dataframe\">\n",
       "  <thead>\n",
       "    <tr style=\"text-align: right;\">\n",
       "      <th></th>\n",
       "      <th>Country Name</th>\n",
       "      <th>2011</th>\n",
       "    </tr>\n",
       "  </thead>\n",
       "  <tbody>\n",
       "    <tr>\n",
       "      <th>0</th>\n",
       "      <td>Aruba</td>\n",
       "      <td>NaN</td>\n",
       "    </tr>\n",
       "    <tr>\n",
       "      <th>1</th>\n",
       "      <td>Afghanistan</td>\n",
       "      <td>NaN</td>\n",
       "    </tr>\n",
       "    <tr>\n",
       "      <th>2</th>\n",
       "      <td>Angola</td>\n",
       "      <td>NaN</td>\n",
       "    </tr>\n",
       "    <tr>\n",
       "      <th>3</th>\n",
       "      <td>Albania</td>\n",
       "      <td>NaN</td>\n",
       "    </tr>\n",
       "    <tr>\n",
       "      <th>4</th>\n",
       "      <td>Andorra</td>\n",
       "      <td>NaN</td>\n",
       "    </tr>\n",
       "  </tbody>\n",
       "</table>\n",
       "</div>"
      ],
      "text/plain": [
       "  Country Name  2011\n",
       "0        Aruba   NaN\n",
       "1  Afghanistan   NaN\n",
       "2       Angola   NaN\n",
       "3      Albania   NaN\n",
       "4      Andorra   NaN"
      ]
     },
     "execution_count": 12,
     "metadata": {},
     "output_type": "execute_result"
    }
   ],
   "source": [
    "# Select only 2011 data\n",
    "df_poverty = df_poverty.loc[:,['Country Name','2011']]\n",
    "df_poverty.head()"
   ]
  },
  {
   "cell_type": "markdown",
   "metadata": {},
   "source": [
    "#### GDP/capita (USD, inflation-adjusted)"
   ]
  },
  {
   "cell_type": "markdown",
   "metadata": {},
   "source": [
    "According to Investopedia website:\n",
    "\n",
    ">Per capita GDP is a measure of the total output of a country that takes the gross domestic product (GDP) and divides it by the number of people in that country. The per capita GDP is especially useful when comparing one country to another, because it shows the relative performance of the countries. A rise in per capita GDP signals growth in the economy and tends to reflect an increase in productivity.\n",
    "\n",
    "Read more: Per Capita GDP https://www.investopedia.com/terms/p/per-capita-gdp.asp#ixzz5ER0jDGOi \n",
    "\n",
    "GDP per capita data is sourced entirely from Gapminder "
   ]
  },
  {
   "cell_type": "code",
   "execution_count": 13,
   "metadata": {
    "scrolled": true
   },
   "outputs": [
    {
     "data": {
      "text/html": [
       "<div>\n",
       "<style scoped>\n",
       "    .dataframe tbody tr th:only-of-type {\n",
       "        vertical-align: middle;\n",
       "    }\n",
       "\n",
       "    .dataframe tbody tr th {\n",
       "        vertical-align: top;\n",
       "    }\n",
       "\n",
       "    .dataframe thead th {\n",
       "        text-align: right;\n",
       "    }\n",
       "</style>\n",
       "<table border=\"1\" class=\"dataframe\">\n",
       "  <thead>\n",
       "    <tr style=\"text-align: right;\">\n",
       "      <th></th>\n",
       "      <th>Income per person (fixed 2000 US$)</th>\n",
       "      <th>1960</th>\n",
       "      <th>1961</th>\n",
       "      <th>1962</th>\n",
       "      <th>1963</th>\n",
       "      <th>1964</th>\n",
       "      <th>1965</th>\n",
       "      <th>1966</th>\n",
       "      <th>1967</th>\n",
       "      <th>1968</th>\n",
       "      <th>...</th>\n",
       "      <th>2002</th>\n",
       "      <th>2003</th>\n",
       "      <th>2004</th>\n",
       "      <th>2005</th>\n",
       "      <th>2006</th>\n",
       "      <th>2007</th>\n",
       "      <th>2008</th>\n",
       "      <th>2009</th>\n",
       "      <th>2010</th>\n",
       "      <th>2011</th>\n",
       "    </tr>\n",
       "  </thead>\n",
       "  <tbody>\n",
       "    <tr>\n",
       "      <th>0</th>\n",
       "      <td>Abkhazia</td>\n",
       "      <td>NaN</td>\n",
       "      <td>NaN</td>\n",
       "      <td>NaN</td>\n",
       "      <td>NaN</td>\n",
       "      <td>NaN</td>\n",
       "      <td>NaN</td>\n",
       "      <td>NaN</td>\n",
       "      <td>NaN</td>\n",
       "      <td>NaN</td>\n",
       "      <td>...</td>\n",
       "      <td>NaN</td>\n",
       "      <td>NaN</td>\n",
       "      <td>NaN</td>\n",
       "      <td>NaN</td>\n",
       "      <td>NaN</td>\n",
       "      <td>NaN</td>\n",
       "      <td>NaN</td>\n",
       "      <td>NaN</td>\n",
       "      <td>NaN</td>\n",
       "      <td>NaN</td>\n",
       "    </tr>\n",
       "    <tr>\n",
       "      <th>1</th>\n",
       "      <td>Afghanistan</td>\n",
       "      <td>NaN</td>\n",
       "      <td>NaN</td>\n",
       "      <td>NaN</td>\n",
       "      <td>NaN</td>\n",
       "      <td>NaN</td>\n",
       "      <td>NaN</td>\n",
       "      <td>NaN</td>\n",
       "      <td>NaN</td>\n",
       "      <td>NaN</td>\n",
       "      <td>...</td>\n",
       "      <td>NaN</td>\n",
       "      <td>NaN</td>\n",
       "      <td>NaN</td>\n",
       "      <td>NaN</td>\n",
       "      <td>NaN</td>\n",
       "      <td>NaN</td>\n",
       "      <td>NaN</td>\n",
       "      <td>NaN</td>\n",
       "      <td>NaN</td>\n",
       "      <td>NaN</td>\n",
       "    </tr>\n",
       "    <tr>\n",
       "      <th>2</th>\n",
       "      <td>Akrotiri and Dhekelia</td>\n",
       "      <td>NaN</td>\n",
       "      <td>NaN</td>\n",
       "      <td>NaN</td>\n",
       "      <td>NaN</td>\n",
       "      <td>NaN</td>\n",
       "      <td>NaN</td>\n",
       "      <td>NaN</td>\n",
       "      <td>NaN</td>\n",
       "      <td>NaN</td>\n",
       "      <td>...</td>\n",
       "      <td>NaN</td>\n",
       "      <td>NaN</td>\n",
       "      <td>NaN</td>\n",
       "      <td>NaN</td>\n",
       "      <td>NaN</td>\n",
       "      <td>NaN</td>\n",
       "      <td>NaN</td>\n",
       "      <td>NaN</td>\n",
       "      <td>NaN</td>\n",
       "      <td>NaN</td>\n",
       "    </tr>\n",
       "    <tr>\n",
       "      <th>3</th>\n",
       "      <td>Albania</td>\n",
       "      <td>NaN</td>\n",
       "      <td>NaN</td>\n",
       "      <td>NaN</td>\n",
       "      <td>NaN</td>\n",
       "      <td>NaN</td>\n",
       "      <td>NaN</td>\n",
       "      <td>NaN</td>\n",
       "      <td>NaN</td>\n",
       "      <td>NaN</td>\n",
       "      <td>...</td>\n",
       "      <td>1313.722725</td>\n",
       "      <td>1381.040832</td>\n",
       "      <td>1454.022854</td>\n",
       "      <td>1525.723589</td>\n",
       "      <td>1594.495067</td>\n",
       "      <td>1681.613910</td>\n",
       "      <td>1804.419415</td>\n",
       "      <td>1857.352947</td>\n",
       "      <td>1915.424459</td>\n",
       "      <td>1965.707230</td>\n",
       "    </tr>\n",
       "    <tr>\n",
       "      <th>4</th>\n",
       "      <td>Algeria</td>\n",
       "      <td>1280.384828</td>\n",
       "      <td>1085.414612</td>\n",
       "      <td>855.947986</td>\n",
       "      <td>1128.41578</td>\n",
       "      <td>1170.323896</td>\n",
       "      <td>1215.015783</td>\n",
       "      <td>1127.614288</td>\n",
       "      <td>1200.558225</td>\n",
       "      <td>1291.863983</td>\n",
       "      <td>...</td>\n",
       "      <td>1871.921986</td>\n",
       "      <td>1971.512803</td>\n",
       "      <td>2043.135713</td>\n",
       "      <td>2115.186028</td>\n",
       "      <td>2124.957754</td>\n",
       "      <td>2155.485231</td>\n",
       "      <td>2173.787903</td>\n",
       "      <td>2192.703976</td>\n",
       "      <td>2231.980246</td>\n",
       "      <td>2255.225482</td>\n",
       "    </tr>\n",
       "  </tbody>\n",
       "</table>\n",
       "<p>5 rows × 53 columns</p>\n",
       "</div>"
      ],
      "text/plain": [
       "  Income per person (fixed 2000 US$)         1960         1961        1962  \\\n",
       "0                           Abkhazia          NaN          NaN         NaN   \n",
       "1                        Afghanistan          NaN          NaN         NaN   \n",
       "2              Akrotiri and Dhekelia          NaN          NaN         NaN   \n",
       "3                            Albania          NaN          NaN         NaN   \n",
       "4                            Algeria  1280.384828  1085.414612  855.947986   \n",
       "\n",
       "         1963         1964         1965         1966         1967  \\\n",
       "0         NaN          NaN          NaN          NaN          NaN   \n",
       "1         NaN          NaN          NaN          NaN          NaN   \n",
       "2         NaN          NaN          NaN          NaN          NaN   \n",
       "3         NaN          NaN          NaN          NaN          NaN   \n",
       "4  1128.41578  1170.323896  1215.015783  1127.614288  1200.558225   \n",
       "\n",
       "          1968     ...              2002         2003         2004  \\\n",
       "0          NaN     ...               NaN          NaN          NaN   \n",
       "1          NaN     ...               NaN          NaN          NaN   \n",
       "2          NaN     ...               NaN          NaN          NaN   \n",
       "3          NaN     ...       1313.722725  1381.040832  1454.022854   \n",
       "4  1291.863983     ...       1871.921986  1971.512803  2043.135713   \n",
       "\n",
       "          2005         2006         2007         2008         2009  \\\n",
       "0          NaN          NaN          NaN          NaN          NaN   \n",
       "1          NaN          NaN          NaN          NaN          NaN   \n",
       "2          NaN          NaN          NaN          NaN          NaN   \n",
       "3  1525.723589  1594.495067  1681.613910  1804.419415  1857.352947   \n",
       "4  2115.186028  2124.957754  2155.485231  2173.787903  2192.703976   \n",
       "\n",
       "          2010         2011  \n",
       "0          NaN          NaN  \n",
       "1          NaN          NaN  \n",
       "2          NaN          NaN  \n",
       "3  1915.424459  1965.707230  \n",
       "4  2231.980246  2255.225482  \n",
       "\n",
       "[5 rows x 53 columns]"
      ]
     },
     "execution_count": 13,
     "metadata": {},
     "output_type": "execute_result"
    }
   ],
   "source": [
    "# Import gdp per capita data\n",
    "df_gdp = pd.read_csv('gdp.csv')\n",
    "df_gdp.head()"
   ]
  },
  {
   "cell_type": "markdown",
   "metadata": {},
   "source": [
    "We have now imported all the data we need for our analysis. During this process we have made a number of observations about the data, and identified initial actions that will need to be carried out to bring the data into a fit state for analysis."
   ]
  },
  {
   "cell_type": "markdown",
   "metadata": {},
   "source": [
    "### Data Cleaning"
   ]
  },
  {
   "cell_type": "markdown",
   "metadata": {},
   "source": [
    "These are our observations on imported data, and the cleaning actions that will need to be performed.\n",
    "\n",
    " - Data is held in table format and will need to be converted to long format, so that years appear in a single column\n",
    " - Some data will need to be combined, particularly corruption perception data\n",
    " - Since we only require 2007 to 2011, data will need to be trimmed to this window\n",
    " - Data types will need to be checked and converted as needed\n",
    " - The column names for the metrics we wish to investigate will need to be renamed for ease of referencing\n",
    " \n",
    " Let us now proceed to carry out these cleaning operations."
   ]
  },
  {
   "cell_type": "markdown",
   "metadata": {},
   "source": [
    "#### Corruption Perception Index (CPI) - Data Cleaning"
   ]
  },
  {
   "cell_type": "code",
   "execution_count": 14,
   "metadata": {},
   "outputs": [],
   "source": [
    "# Transpose Gapminder 2008/2009 data into long format, using pd.melt() function\n",
    "\n",
    "df_corr_a = pd.melt(df_corr_a, id_vars='Country', var_name='year', value_name='cpi_score')"
   ]
  },
  {
   "cell_type": "code",
   "execution_count": 15,
   "metadata": {},
   "outputs": [],
   "source": [
    "# Rename columns to lowercase to match both datasets\n",
    "# Recall that df_corr_a holds 2008 & 2009 data, and df_corr_b contains data for missing years (2007, 2010, 2011)\n",
    "\n",
    "df_corr_a.rename(columns=lambda x: x.lower(), inplace=True);\n",
    "df_corr_b.rename(columns=lambda x: x.lower().replace(' ', '_'), inplace=True);"
   ]
  },
  {
   "cell_type": "code",
   "execution_count": 16,
   "metadata": {},
   "outputs": [
    {
     "data": {
      "text/plain": [
       "array([ True,  True,  True])"
      ]
     },
     "execution_count": 16,
     "metadata": {},
     "output_type": "execute_result"
    }
   ],
   "source": [
    "# Check both corruption_perception dataset columns are aligned\n",
    "\n",
    "df_corr_a.columns == df_corr_b.columns"
   ]
  },
  {
   "cell_type": "code",
   "execution_count": 17,
   "metadata": {},
   "outputs": [],
   "source": [
    "# Combine corruption_perception datasets into single dataframe\n",
    "\n",
    "df_corruption = df_corr_a.append(df_corr_b, ignore_index=True)"
   ]
  },
  {
   "cell_type": "code",
   "execution_count": 18,
   "metadata": {},
   "outputs": [
    {
     "data": {
      "text/plain": [
       "(901, 3)"
      ]
     },
     "execution_count": 18,
     "metadata": {},
     "output_type": "execute_result"
    }
   ],
   "source": [
    "# Check number of records in combined dataframe\n",
    "\n",
    "df_corruption.shape"
   ]
  },
  {
   "cell_type": "code",
   "execution_count": 19,
   "metadata": {},
   "outputs": [
    {
     "data": {
      "text/plain": [
       "2011    183\n",
       "2007    180\n",
       "2009    180\n",
       "2008    180\n",
       "2010    178\n",
       "Name: year, dtype: int64"
      ]
     },
     "execution_count": 19,
     "metadata": {},
     "output_type": "execute_result"
    }
   ],
   "source": [
    "# Confirm all years data present\n",
    "\n",
    "df_corruption.year.value_counts()"
   ]
  },
  {
   "cell_type": "code",
   "execution_count": 20,
   "metadata": {},
   "outputs": [
    {
     "name": "stdout",
     "output_type": "stream",
     "text": [
      "<class 'pandas.core.frame.DataFrame'>\n",
      "RangeIndex: 901 entries, 0 to 900\n",
      "Data columns (total 3 columns):\n",
      "country      901 non-null object\n",
      "year         901 non-null object\n",
      "cpi_score    897 non-null float64\n",
      "dtypes: float64(1), object(2)\n",
      "memory usage: 21.2+ KB\n"
     ]
    }
   ],
   "source": [
    "# Check datatypes\n",
    "\n",
    "df_corruption.info()"
   ]
  },
  {
   "cell_type": "code",
   "execution_count": 21,
   "metadata": {
    "scrolled": true
   },
   "outputs": [
    {
     "data": {
      "text/html": [
       "<div>\n",
       "<style scoped>\n",
       "    .dataframe tbody tr th:only-of-type {\n",
       "        vertical-align: middle;\n",
       "    }\n",
       "\n",
       "    .dataframe tbody tr th {\n",
       "        vertical-align: top;\n",
       "    }\n",
       "\n",
       "    .dataframe thead th {\n",
       "        text-align: right;\n",
       "    }\n",
       "</style>\n",
       "<table border=\"1\" class=\"dataframe\">\n",
       "  <thead>\n",
       "    <tr style=\"text-align: right;\">\n",
       "      <th></th>\n",
       "      <th>country</th>\n",
       "      <th>year</th>\n",
       "      <th>cpi_score</th>\n",
       "    </tr>\n",
       "  </thead>\n",
       "  <tbody>\n",
       "    <tr>\n",
       "      <th>201</th>\n",
       "      <td>Saint Lucia</td>\n",
       "      <td>2009</td>\n",
       "      <td>NaN</td>\n",
       "    </tr>\n",
       "    <tr>\n",
       "      <th>210</th>\n",
       "      <td>Saint Vincent and the Grenadines</td>\n",
       "      <td>2009</td>\n",
       "      <td>NaN</td>\n",
       "    </tr>\n",
       "    <tr>\n",
       "      <th>219</th>\n",
       "      <td>Brunei Darussalam</td>\n",
       "      <td>2009</td>\n",
       "      <td>NaN</td>\n",
       "    </tr>\n",
       "    <tr>\n",
       "      <th>255</th>\n",
       "      <td>Suriname</td>\n",
       "      <td>2009</td>\n",
       "      <td>NaN</td>\n",
       "    </tr>\n",
       "  </tbody>\n",
       "</table>\n",
       "</div>"
      ],
      "text/plain": [
       "                              country  year  cpi_score\n",
       "201                       Saint Lucia  2009        NaN\n",
       "210  Saint Vincent and the Grenadines  2009        NaN\n",
       "219                 Brunei Darussalam  2009        NaN\n",
       "255                          Suriname  2009        NaN"
      ]
     },
     "execution_count": 21,
     "metadata": {},
     "output_type": "execute_result"
    }
   ],
   "source": [
    "# Inspect 'NaN' records\n",
    "df_corruption[pd.isnull(df_corruption).any(axis=1)]"
   ]
  },
  {
   "cell_type": "code",
   "execution_count": 22,
   "metadata": {},
   "outputs": [
    {
     "data": {
      "text/plain": [
       "str"
      ]
     },
     "execution_count": 22,
     "metadata": {},
     "output_type": "execute_result"
    }
   ],
   "source": [
    "# Inpsect 'year' object\n",
    "\n",
    "type(df_corruption['year'][0])"
   ]
  },
  {
   "cell_type": "markdown",
   "metadata": {},
   "source": [
    "Observation: 'year' appears to be string object and will need to be converted to integer. Also, NaN values will need to be removed"
   ]
  },
  {
   "cell_type": "code",
   "execution_count": 23,
   "metadata": {},
   "outputs": [],
   "source": [
    "# convert year to int, remove 'NaN' records\n",
    "df_corruption.year = pd.to_numeric(df_corruption.year, errors='coerce')\n",
    "df_corruption.dropna(inplace=True)"
   ]
  },
  {
   "cell_type": "code",
   "execution_count": 24,
   "metadata": {
    "scrolled": true
   },
   "outputs": [
    {
     "name": "stdout",
     "output_type": "stream",
     "text": [
      "<class 'pandas.core.frame.DataFrame'>\n",
      "Int64Index: 897 entries, 0 to 900\n",
      "Data columns (total 3 columns):\n",
      "country      897 non-null object\n",
      "year         897 non-null int64\n",
      "cpi_score    897 non-null float64\n",
      "dtypes: float64(1), int64(1), object(1)\n",
      "memory usage: 28.0+ KB\n"
     ]
    }
   ],
   "source": [
    "# Check data types and dataframe size\n",
    "\n",
    "df_corruption.info()"
   ]
  },
  {
   "cell_type": "code",
   "execution_count": 25,
   "metadata": {
    "scrolled": false
   },
   "outputs": [
    {
     "data": {
      "text/html": [
       "<div>\n",
       "<style scoped>\n",
       "    .dataframe tbody tr th:only-of-type {\n",
       "        vertical-align: middle;\n",
       "    }\n",
       "\n",
       "    .dataframe tbody tr th {\n",
       "        vertical-align: top;\n",
       "    }\n",
       "\n",
       "    .dataframe thead th {\n",
       "        text-align: right;\n",
       "    }\n",
       "</style>\n",
       "<table border=\"1\" class=\"dataframe\">\n",
       "  <thead>\n",
       "    <tr style=\"text-align: right;\">\n",
       "      <th></th>\n",
       "      <th>country</th>\n",
       "      <th>year</th>\n",
       "      <th>cpi_score</th>\n",
       "    </tr>\n",
       "  </thead>\n",
       "  <tbody>\n",
       "    <tr>\n",
       "      <th>0</th>\n",
       "      <td>New Zealand</td>\n",
       "      <td>2008</td>\n",
       "      <td>9.4</td>\n",
       "    </tr>\n",
       "    <tr>\n",
       "      <th>1</th>\n",
       "      <td>Denmark</td>\n",
       "      <td>2008</td>\n",
       "      <td>9.3</td>\n",
       "    </tr>\n",
       "    <tr>\n",
       "      <th>2</th>\n",
       "      <td>Sweden</td>\n",
       "      <td>2008</td>\n",
       "      <td>9.2</td>\n",
       "    </tr>\n",
       "    <tr>\n",
       "      <th>3</th>\n",
       "      <td>Singapore</td>\n",
       "      <td>2008</td>\n",
       "      <td>9.2</td>\n",
       "    </tr>\n",
       "    <tr>\n",
       "      <th>4</th>\n",
       "      <td>Switzerland</td>\n",
       "      <td>2008</td>\n",
       "      <td>9.0</td>\n",
       "    </tr>\n",
       "  </tbody>\n",
       "</table>\n",
       "</div>"
      ],
      "text/plain": [
       "       country  year  cpi_score\n",
       "0  New Zealand  2008        9.4\n",
       "1      Denmark  2008        9.3\n",
       "2       Sweden  2008        9.2\n",
       "3    Singapore  2008        9.2\n",
       "4  Switzerland  2008        9.0"
      ]
     },
     "execution_count": 25,
     "metadata": {},
     "output_type": "execute_result"
    }
   ],
   "source": [
    "df_corruption.head()"
   ]
  },
  {
   "cell_type": "markdown",
   "metadata": {},
   "source": [
    "We have now cleaned the 'corruption perception' dataset and brought it to a fit state for further work. Cleaning actions we successfully performed include:\n",
    "\n",
    "- Transposing 2008/2009 data into long format\n",
    "- Renaming columns\n",
    "- Combining 2008/2009 data with 2007/2010/2011 data\n",
    "- Converted data types\n",
    "- Removed NaN records\n",
    "\n",
    "We will proceed to clean the next dataset, infant mortality rate."
   ]
  },
  {
   "cell_type": "markdown",
   "metadata": {},
   "source": [
    "#### Infant Mortality Rate (rate per 1000 births) - Data Cleaning"
   ]
  },
  {
   "cell_type": "code",
   "execution_count": 26,
   "metadata": {},
   "outputs": [],
   "source": [
    "# Rename columns and Transpose data to long format\n",
    "df_infant.rename(columns=lambda x: x.replace('Infant mortality rate', 'country'), inplace=True)\n",
    "df_infant = pd.melt(df_infant, id_vars='country', var_name='year', value_name='infant_mortality_rate')"
   ]
  },
  {
   "cell_type": "code",
   "execution_count": 27,
   "metadata": {},
   "outputs": [],
   "source": [
    "# Filter data down to desired years, 2007 to 2011\n",
    "y1 = '2007'\n",
    "y2 = '2011'\n",
    "df_infant = df_infant.query('year >= @y1 and year <= @y2')"
   ]
  },
  {
   "cell_type": "code",
   "execution_count": 28,
   "metadata": {},
   "outputs": [
    {
     "data": {
      "text/plain": [
       "(983, 3)"
      ]
     },
     "execution_count": 28,
     "metadata": {},
     "output_type": "execute_result"
    }
   ],
   "source": [
    "# convert year to int and infant_mortality_rate to float, remove 'NAs', reset indexes \n",
    "df_infant.year = pd.to_numeric(df_infant.year, errors='coerce')\n",
    "df_infant.infant_mortality_rate = pd.to_numeric(df_infant.infant_mortality_rate, errors='coerce')\n",
    "df_infant.dropna(inplace=True)\n",
    "df_infant.reset_index(drop=True, inplace=True)\n",
    "df_infant.shape"
   ]
  },
  {
   "cell_type": "code",
   "execution_count": 29,
   "metadata": {},
   "outputs": [
    {
     "data": {
      "text/plain": [
       "2008    199\n",
       "2007    199\n",
       "2011    195\n",
       "2010    195\n",
       "2009    195\n",
       "Name: year, dtype: int64"
      ]
     },
     "execution_count": 29,
     "metadata": {},
     "output_type": "execute_result"
    }
   ],
   "source": [
    "# Check records per year\n",
    "df_infant.year.value_counts()"
   ]
  },
  {
   "cell_type": "code",
   "execution_count": 30,
   "metadata": {},
   "outputs": [
    {
     "name": "stdout",
     "output_type": "stream",
     "text": [
      "<class 'pandas.core.frame.DataFrame'>\n",
      "RangeIndex: 983 entries, 0 to 982\n",
      "Data columns (total 3 columns):\n",
      "country                  983 non-null object\n",
      "year                     983 non-null int64\n",
      "infant_mortality_rate    983 non-null float64\n",
      "dtypes: float64(1), int64(1), object(1)\n",
      "memory usage: 23.1+ KB\n"
     ]
    }
   ],
   "source": [
    "#Check data types, NaNs\n",
    "df_infant.info()"
   ]
  },
  {
   "cell_type": "code",
   "execution_count": 31,
   "metadata": {
    "scrolled": true
   },
   "outputs": [
    {
     "data": {
      "text/html": [
       "<div>\n",
       "<style scoped>\n",
       "    .dataframe tbody tr th:only-of-type {\n",
       "        vertical-align: middle;\n",
       "    }\n",
       "\n",
       "    .dataframe tbody tr th {\n",
       "        vertical-align: top;\n",
       "    }\n",
       "\n",
       "    .dataframe thead th {\n",
       "        text-align: right;\n",
       "    }\n",
       "</style>\n",
       "<table border=\"1\" class=\"dataframe\">\n",
       "  <thead>\n",
       "    <tr style=\"text-align: right;\">\n",
       "      <th></th>\n",
       "      <th>country</th>\n",
       "      <th>year</th>\n",
       "      <th>infant_mortality_rate</th>\n",
       "    </tr>\n",
       "  </thead>\n",
       "  <tbody>\n",
       "    <tr>\n",
       "      <th>0</th>\n",
       "      <td>Afghanistan</td>\n",
       "      <td>2007</td>\n",
       "      <td>80.4</td>\n",
       "    </tr>\n",
       "    <tr>\n",
       "      <th>1</th>\n",
       "      <td>Albania</td>\n",
       "      <td>2007</td>\n",
       "      <td>16.7</td>\n",
       "    </tr>\n",
       "    <tr>\n",
       "      <th>2</th>\n",
       "      <td>Algeria</td>\n",
       "      <td>2007</td>\n",
       "      <td>26.4</td>\n",
       "    </tr>\n",
       "    <tr>\n",
       "      <th>3</th>\n",
       "      <td>Andorra</td>\n",
       "      <td>2007</td>\n",
       "      <td>2.8</td>\n",
       "    </tr>\n",
       "    <tr>\n",
       "      <th>4</th>\n",
       "      <td>Angola</td>\n",
       "      <td>2007</td>\n",
       "      <td>117.1</td>\n",
       "    </tr>\n",
       "  </tbody>\n",
       "</table>\n",
       "</div>"
      ],
      "text/plain": [
       "       country  year  infant_mortality_rate\n",
       "0  Afghanistan  2007                   80.4\n",
       "1      Albania  2007                   16.7\n",
       "2      Algeria  2007                   26.4\n",
       "3      Andorra  2007                    2.8\n",
       "4       Angola  2007                  117.1"
      ]
     },
     "execution_count": 31,
     "metadata": {},
     "output_type": "execute_result"
    }
   ],
   "source": [
    "df_infant.head()"
   ]
  },
  {
   "cell_type": "markdown",
   "metadata": {},
   "source": [
    "Infant mortality rate data is now cleaned."
   ]
  },
  {
   "cell_type": "markdown",
   "metadata": {},
   "source": [
    "#### Literacy rate, adult total (% of people ages 15 and above) - Data Cleaning"
   ]
  },
  {
   "cell_type": "code",
   "execution_count": 32,
   "metadata": {
    "scrolled": false
   },
   "outputs": [
    {
     "data": {
      "text/html": [
       "<div>\n",
       "<style scoped>\n",
       "    .dataframe tbody tr th:only-of-type {\n",
       "        vertical-align: middle;\n",
       "    }\n",
       "\n",
       "    .dataframe tbody tr th {\n",
       "        vertical-align: top;\n",
       "    }\n",
       "\n",
       "    .dataframe thead th {\n",
       "        text-align: right;\n",
       "    }\n",
       "</style>\n",
       "<table border=\"1\" class=\"dataframe\">\n",
       "  <thead>\n",
       "    <tr style=\"text-align: right;\">\n",
       "      <th></th>\n",
       "      <th>country</th>\n",
       "      <th>year</th>\n",
       "      <th>literacy_rate</th>\n",
       "    </tr>\n",
       "  </thead>\n",
       "  <tbody>\n",
       "    <tr>\n",
       "      <th>0</th>\n",
       "      <td>Afghanistan</td>\n",
       "      <td>1975</td>\n",
       "      <td>NaN</td>\n",
       "    </tr>\n",
       "    <tr>\n",
       "      <th>1</th>\n",
       "      <td>Albania</td>\n",
       "      <td>1975</td>\n",
       "      <td>NaN</td>\n",
       "    </tr>\n",
       "    <tr>\n",
       "      <th>2</th>\n",
       "      <td>Algeria</td>\n",
       "      <td>1975</td>\n",
       "      <td>NaN</td>\n",
       "    </tr>\n",
       "    <tr>\n",
       "      <th>3</th>\n",
       "      <td>Andorra</td>\n",
       "      <td>1975</td>\n",
       "      <td>NaN</td>\n",
       "    </tr>\n",
       "    <tr>\n",
       "      <th>4</th>\n",
       "      <td>Angola</td>\n",
       "      <td>1975</td>\n",
       "      <td>NaN</td>\n",
       "    </tr>\n",
       "  </tbody>\n",
       "</table>\n",
       "</div>"
      ],
      "text/plain": [
       "       country  year  literacy_rate\n",
       "0  Afghanistan  1975            NaN\n",
       "1      Albania  1975            NaN\n",
       "2      Algeria  1975            NaN\n",
       "3      Andorra  1975            NaN\n",
       "4       Angola  1975            NaN"
      ]
     },
     "execution_count": 32,
     "metadata": {},
     "output_type": "execute_result"
    }
   ],
   "source": [
    "# Rename columns and Transpose data to long format\n",
    "\n",
    "df_literacy.rename(columns=lambda x: x.replace('Adult (15+) literacy rate (%). Total', 'country'), inplace=True)\n",
    "df_literacy = pd.melt(df_literacy, id_vars='country', var_name='year', value_name='literacy_rate')\n",
    "df_literacy.head()"
   ]
  },
  {
   "cell_type": "code",
   "execution_count": 33,
   "metadata": {},
   "outputs": [],
   "source": [
    "# Filter data down to desired years, 2006 to 2010\n",
    "y1 = '2007'\n",
    "y2 = '2011'\n",
    "df_literacy = df_literacy.query('year >= @y1 and year <= @y2')"
   ]
  },
  {
   "cell_type": "code",
   "execution_count": 34,
   "metadata": {},
   "outputs": [
    {
     "data": {
      "text/plain": [
       "(206, 3)"
      ]
     },
     "execution_count": 34,
     "metadata": {},
     "output_type": "execute_result"
    }
   ],
   "source": [
    "# convert year to int and literacy_rate to float, remove 'NAs', reset indexes \n",
    "\n",
    "df_literacy.year = pd.to_numeric(df_literacy.year, errors='coerce')\n",
    "df_literacy.literacy_rate = pd.to_numeric(df_literacy.literacy_rate, errors='coerce')\n",
    "df_literacy.dropna(inplace=True)\n",
    "df_literacy.reset_index(drop=True, inplace=True)\n",
    "df_literacy.shape"
   ]
  },
  {
   "cell_type": "code",
   "execution_count": 35,
   "metadata": {},
   "outputs": [
    {
     "data": {
      "text/plain": [
       "2011    84\n",
       "2010    35\n",
       "2007    32\n",
       "2009    28\n",
       "2008    27\n",
       "Name: year, dtype: int64"
      ]
     },
     "execution_count": 35,
     "metadata": {},
     "output_type": "execute_result"
    }
   ],
   "source": [
    "# Check records per year\n",
    "df_literacy.year.value_counts()"
   ]
  },
  {
   "cell_type": "code",
   "execution_count": 36,
   "metadata": {},
   "outputs": [
    {
     "name": "stdout",
     "output_type": "stream",
     "text": [
      "<class 'pandas.core.frame.DataFrame'>\n",
      "RangeIndex: 206 entries, 0 to 205\n",
      "Data columns (total 3 columns):\n",
      "country          206 non-null object\n",
      "year             206 non-null int64\n",
      "literacy_rate    206 non-null float64\n",
      "dtypes: float64(1), int64(1), object(1)\n",
      "memory usage: 4.9+ KB\n"
     ]
    }
   ],
   "source": [
    "# Check data types, null values\n",
    "df_literacy.info()"
   ]
  },
  {
   "cell_type": "code",
   "execution_count": 37,
   "metadata": {
    "scrolled": true
   },
   "outputs": [
    {
     "data": {
      "text/html": [
       "<div>\n",
       "<style scoped>\n",
       "    .dataframe tbody tr th:only-of-type {\n",
       "        vertical-align: middle;\n",
       "    }\n",
       "\n",
       "    .dataframe tbody tr th {\n",
       "        vertical-align: top;\n",
       "    }\n",
       "\n",
       "    .dataframe thead th {\n",
       "        text-align: right;\n",
       "    }\n",
       "</style>\n",
       "<table border=\"1\" class=\"dataframe\">\n",
       "  <thead>\n",
       "    <tr style=\"text-align: right;\">\n",
       "      <th></th>\n",
       "      <th>country</th>\n",
       "      <th>year</th>\n",
       "      <th>literacy_rate</th>\n",
       "    </tr>\n",
       "  </thead>\n",
       "  <tbody>\n",
       "    <tr>\n",
       "      <th>0</th>\n",
       "      <td>Azerbaijan</td>\n",
       "      <td>2007</td>\n",
       "      <td>99.601906</td>\n",
       "    </tr>\n",
       "    <tr>\n",
       "      <th>1</th>\n",
       "      <td>Bolivia</td>\n",
       "      <td>2007</td>\n",
       "      <td>90.743470</td>\n",
       "    </tr>\n",
       "    <tr>\n",
       "      <th>2</th>\n",
       "      <td>Brazil</td>\n",
       "      <td>2007</td>\n",
       "      <td>90.009370</td>\n",
       "    </tr>\n",
       "    <tr>\n",
       "      <th>3</th>\n",
       "      <td>Burkina Faso</td>\n",
       "      <td>2007</td>\n",
       "      <td>28.729214</td>\n",
       "    </tr>\n",
       "    <tr>\n",
       "      <th>4</th>\n",
       "      <td>Cameroon</td>\n",
       "      <td>2007</td>\n",
       "      <td>70.679938</td>\n",
       "    </tr>\n",
       "  </tbody>\n",
       "</table>\n",
       "</div>"
      ],
      "text/plain": [
       "        country  year  literacy_rate\n",
       "0    Azerbaijan  2007      99.601906\n",
       "1       Bolivia  2007      90.743470\n",
       "2        Brazil  2007      90.009370\n",
       "3  Burkina Faso  2007      28.729214\n",
       "4      Cameroon  2007      70.679938"
      ]
     },
     "execution_count": 37,
     "metadata": {},
     "output_type": "execute_result"
    }
   ],
   "source": [
    "df_literacy.head()"
   ]
  },
  {
   "cell_type": "markdown",
   "metadata": {},
   "source": [
    "Literacy rate data is now cleaned."
   ]
  },
  {
   "cell_type": "markdown",
   "metadata": {},
   "source": [
    "#### Inequality index (Gini) - Data Cleaning"
   ]
  },
  {
   "cell_type": "code",
   "execution_count": 38,
   "metadata": {},
   "outputs": [
    {
     "data": {
      "text/html": [
       "<div>\n",
       "<style scoped>\n",
       "    .dataframe tbody tr th:only-of-type {\n",
       "        vertical-align: middle;\n",
       "    }\n",
       "\n",
       "    .dataframe tbody tr th {\n",
       "        vertical-align: top;\n",
       "    }\n",
       "\n",
       "    .dataframe thead th {\n",
       "        text-align: right;\n",
       "    }\n",
       "</style>\n",
       "<table border=\"1\" class=\"dataframe\">\n",
       "  <thead>\n",
       "    <tr style=\"text-align: right;\">\n",
       "      <th></th>\n",
       "      <th>country</th>\n",
       "      <th>year</th>\n",
       "      <th>gini_index</th>\n",
       "    </tr>\n",
       "  </thead>\n",
       "  <tbody>\n",
       "    <tr>\n",
       "      <th>0</th>\n",
       "      <td>Aruba</td>\n",
       "      <td>1960</td>\n",
       "      <td>NaN</td>\n",
       "    </tr>\n",
       "    <tr>\n",
       "      <th>1</th>\n",
       "      <td>Afghanistan</td>\n",
       "      <td>1960</td>\n",
       "      <td>NaN</td>\n",
       "    </tr>\n",
       "    <tr>\n",
       "      <th>2</th>\n",
       "      <td>Angola</td>\n",
       "      <td>1960</td>\n",
       "      <td>NaN</td>\n",
       "    </tr>\n",
       "    <tr>\n",
       "      <th>3</th>\n",
       "      <td>Albania</td>\n",
       "      <td>1960</td>\n",
       "      <td>NaN</td>\n",
       "    </tr>\n",
       "    <tr>\n",
       "      <th>4</th>\n",
       "      <td>Andorra</td>\n",
       "      <td>1960</td>\n",
       "      <td>NaN</td>\n",
       "    </tr>\n",
       "  </tbody>\n",
       "</table>\n",
       "</div>"
      ],
      "text/plain": [
       "       country  year  gini_index\n",
       "0        Aruba  1960         NaN\n",
       "1  Afghanistan  1960         NaN\n",
       "2       Angola  1960         NaN\n",
       "3      Albania  1960         NaN\n",
       "4      Andorra  1960         NaN"
      ]
     },
     "execution_count": 38,
     "metadata": {},
     "output_type": "execute_result"
    }
   ],
   "source": [
    "# Rename columns and Transpose data to long format\n",
    "df_inequality.rename(columns=lambda x: x.replace('Country Name', 'country'), inplace=True)\n",
    "df_inequality = pd.melt(df_inequality, id_vars='country', var_name='year', value_name='gini_index')\n",
    "df_inequality.head()"
   ]
  },
  {
   "cell_type": "code",
   "execution_count": 39,
   "metadata": {},
   "outputs": [],
   "source": [
    "# Filter data down to desired years, 2007 to 2011\n",
    "y1 = '2007'\n",
    "y2 = '2011'\n",
    "df_inequality = df_inequality.query('year >= @y1 and year <= @y2')"
   ]
  },
  {
   "cell_type": "code",
   "execution_count": 40,
   "metadata": {},
   "outputs": [
    {
     "data": {
      "text/plain": [
       "(376, 3)"
      ]
     },
     "execution_count": 40,
     "metadata": {},
     "output_type": "execute_result"
    }
   ],
   "source": [
    "# Remove 'NaN' values, reset indexes, convert year to int and gini_index to float\n",
    "df_inequality.dropna(inplace=True)\n",
    "df_inequality.reset_index(drop=True, inplace=True)\n",
    "df_inequality.year = pd.to_numeric(df_inequality.year, errors='coerce')\n",
    "df_inequality.gini_index = pd.to_numeric(df_inequality.gini_index, errors='coerce')\n",
    "df_inequality.shape"
   ]
  },
  {
   "cell_type": "code",
   "execution_count": 41,
   "metadata": {},
   "outputs": [
    {
     "data": {
      "text/plain": [
       "2010    83\n",
       "2009    76\n",
       "2011    74\n",
       "2007    72\n",
       "2008    71\n",
       "Name: year, dtype: int64"
      ]
     },
     "execution_count": 41,
     "metadata": {},
     "output_type": "execute_result"
    }
   ],
   "source": [
    "# Check records per year\n",
    "df_inequality.year.value_counts()"
   ]
  },
  {
   "cell_type": "code",
   "execution_count": 42,
   "metadata": {
    "scrolled": true
   },
   "outputs": [
    {
     "name": "stdout",
     "output_type": "stream",
     "text": [
      "<class 'pandas.core.frame.DataFrame'>\n",
      "RangeIndex: 376 entries, 0 to 375\n",
      "Data columns (total 3 columns):\n",
      "country       376 non-null object\n",
      "year          376 non-null int64\n",
      "gini_index    376 non-null float64\n",
      "dtypes: float64(1), int64(1), object(1)\n",
      "memory usage: 8.9+ KB\n"
     ]
    }
   ],
   "source": [
    "# Check data types and null values\n",
    "df_inequality.info()"
   ]
  },
  {
   "cell_type": "code",
   "execution_count": 43,
   "metadata": {
    "scrolled": true
   },
   "outputs": [
    {
     "data": {
      "text/html": [
       "<div>\n",
       "<style scoped>\n",
       "    .dataframe tbody tr th:only-of-type {\n",
       "        vertical-align: middle;\n",
       "    }\n",
       "\n",
       "    .dataframe tbody tr th {\n",
       "        vertical-align: top;\n",
       "    }\n",
       "\n",
       "    .dataframe thead th {\n",
       "        text-align: right;\n",
       "    }\n",
       "</style>\n",
       "<table border=\"1\" class=\"dataframe\">\n",
       "  <thead>\n",
       "    <tr style=\"text-align: right;\">\n",
       "      <th></th>\n",
       "      <th>country</th>\n",
       "      <th>year</th>\n",
       "      <th>gini_index</th>\n",
       "    </tr>\n",
       "  </thead>\n",
       "  <tbody>\n",
       "    <tr>\n",
       "      <th>0</th>\n",
       "      <td>Argentina</td>\n",
       "      <td>2007</td>\n",
       "      <td>46.3</td>\n",
       "    </tr>\n",
       "    <tr>\n",
       "      <th>1</th>\n",
       "      <td>Armenia</td>\n",
       "      <td>2007</td>\n",
       "      <td>31.2</td>\n",
       "    </tr>\n",
       "    <tr>\n",
       "      <th>2</th>\n",
       "      <td>Austria</td>\n",
       "      <td>2007</td>\n",
       "      <td>30.6</td>\n",
       "    </tr>\n",
       "    <tr>\n",
       "      <th>3</th>\n",
       "      <td>Belgium</td>\n",
       "      <td>2007</td>\n",
       "      <td>29.2</td>\n",
       "    </tr>\n",
       "    <tr>\n",
       "      <th>4</th>\n",
       "      <td>Bulgaria</td>\n",
       "      <td>2007</td>\n",
       "      <td>36.1</td>\n",
       "    </tr>\n",
       "  </tbody>\n",
       "</table>\n",
       "</div>"
      ],
      "text/plain": [
       "     country  year  gini_index\n",
       "0  Argentina  2007        46.3\n",
       "1    Armenia  2007        31.2\n",
       "2    Austria  2007        30.6\n",
       "3    Belgium  2007        29.2\n",
       "4   Bulgaria  2007        36.1"
      ]
     },
     "execution_count": 43,
     "metadata": {},
     "output_type": "execute_result"
    }
   ],
   "source": [
    "df_inequality.head()"
   ]
  },
  {
   "cell_type": "markdown",
   "metadata": {},
   "source": [
    "Income inequality dataset is now cleaned and ready for further work."
   ]
  },
  {
   "cell_type": "markdown",
   "metadata": {},
   "source": [
    "#### Poverty (% people below USD1.90 a day) - Data Cleaning"
   ]
  },
  {
   "cell_type": "code",
   "execution_count": 44,
   "metadata": {},
   "outputs": [
    {
     "data": {
      "text/html": [
       "<div>\n",
       "<style scoped>\n",
       "    .dataframe tbody tr th:only-of-type {\n",
       "        vertical-align: middle;\n",
       "    }\n",
       "\n",
       "    .dataframe tbody tr th {\n",
       "        vertical-align: top;\n",
       "    }\n",
       "\n",
       "    .dataframe thead th {\n",
       "        text-align: right;\n",
       "    }\n",
       "</style>\n",
       "<table border=\"1\" class=\"dataframe\">\n",
       "  <thead>\n",
       "    <tr style=\"text-align: right;\">\n",
       "      <th></th>\n",
       "      <th>country</th>\n",
       "      <th>year</th>\n",
       "      <th>poverty_index</th>\n",
       "    </tr>\n",
       "  </thead>\n",
       "  <tbody>\n",
       "    <tr>\n",
       "      <th>0</th>\n",
       "      <td>Aruba</td>\n",
       "      <td>2011</td>\n",
       "      <td>NaN</td>\n",
       "    </tr>\n",
       "    <tr>\n",
       "      <th>1</th>\n",
       "      <td>Afghanistan</td>\n",
       "      <td>2011</td>\n",
       "      <td>NaN</td>\n",
       "    </tr>\n",
       "    <tr>\n",
       "      <th>2</th>\n",
       "      <td>Angola</td>\n",
       "      <td>2011</td>\n",
       "      <td>NaN</td>\n",
       "    </tr>\n",
       "    <tr>\n",
       "      <th>3</th>\n",
       "      <td>Albania</td>\n",
       "      <td>2011</td>\n",
       "      <td>NaN</td>\n",
       "    </tr>\n",
       "    <tr>\n",
       "      <th>4</th>\n",
       "      <td>Andorra</td>\n",
       "      <td>2011</td>\n",
       "      <td>NaN</td>\n",
       "    </tr>\n",
       "  </tbody>\n",
       "</table>\n",
       "</div>"
      ],
      "text/plain": [
       "       country  year  poverty_index\n",
       "0        Aruba  2011            NaN\n",
       "1  Afghanistan  2011            NaN\n",
       "2       Angola  2011            NaN\n",
       "3      Albania  2011            NaN\n",
       "4      Andorra  2011            NaN"
      ]
     },
     "execution_count": 44,
     "metadata": {},
     "output_type": "execute_result"
    }
   ],
   "source": [
    "# Rename columns and Transpose data to long format\n",
    "df_poverty.rename(columns=lambda x: x.replace('Country Name', 'country'), inplace=True)\n",
    "df_poverty = pd.melt(df_poverty, id_vars='country', var_name='year', value_name='poverty_index')\n",
    "df_poverty.head()"
   ]
  },
  {
   "cell_type": "code",
   "execution_count": 45,
   "metadata": {},
   "outputs": [
    {
     "data": {
      "text/plain": [
       "(90, 3)"
      ]
     },
     "execution_count": 45,
     "metadata": {},
     "output_type": "execute_result"
    }
   ],
   "source": [
    "# Remove 'NaN' values, reset indexes, convert year to int and poverty_index to float\n",
    "df_poverty.dropna(inplace=True)\n",
    "df_poverty.reset_index(drop=True, inplace=True)\n",
    "df_poverty.year = pd.to_numeric(df_poverty.year, errors='coerce')\n",
    "df_poverty.poverty_index = pd.to_numeric(df_poverty.poverty_index, errors='coerce')\n",
    "df_poverty.shape"
   ]
  },
  {
   "cell_type": "code",
   "execution_count": 46,
   "metadata": {},
   "outputs": [
    {
     "data": {
      "text/plain": [
       "2011    90\n",
       "Name: year, dtype: int64"
      ]
     },
     "execution_count": 46,
     "metadata": {},
     "output_type": "execute_result"
    }
   ],
   "source": [
    "# Confirm only 2011 data present\n",
    "df_poverty.year.value_counts()"
   ]
  },
  {
   "cell_type": "code",
   "execution_count": 47,
   "metadata": {
    "scrolled": true
   },
   "outputs": [
    {
     "name": "stdout",
     "output_type": "stream",
     "text": [
      "<class 'pandas.core.frame.DataFrame'>\n",
      "RangeIndex: 90 entries, 0 to 89\n",
      "Data columns (total 3 columns):\n",
      "country          90 non-null object\n",
      "year             90 non-null int64\n",
      "poverty_index    90 non-null float64\n",
      "dtypes: float64(1), int64(1), object(1)\n",
      "memory usage: 2.2+ KB\n"
     ]
    }
   ],
   "source": [
    "# Check data types, null values\n",
    "df_poverty.info()"
   ]
  },
  {
   "cell_type": "code",
   "execution_count": 48,
   "metadata": {
    "scrolled": true
   },
   "outputs": [
    {
     "data": {
      "text/html": [
       "<div>\n",
       "<style scoped>\n",
       "    .dataframe tbody tr th:only-of-type {\n",
       "        vertical-align: middle;\n",
       "    }\n",
       "\n",
       "    .dataframe tbody tr th {\n",
       "        vertical-align: top;\n",
       "    }\n",
       "\n",
       "    .dataframe thead th {\n",
       "        text-align: right;\n",
       "    }\n",
       "</style>\n",
       "<table border=\"1\" class=\"dataframe\">\n",
       "  <thead>\n",
       "    <tr style=\"text-align: right;\">\n",
       "      <th></th>\n",
       "      <th>country</th>\n",
       "      <th>year</th>\n",
       "      <th>poverty_index</th>\n",
       "    </tr>\n",
       "  </thead>\n",
       "  <tbody>\n",
       "    <tr>\n",
       "      <th>0</th>\n",
       "      <td>Argentina</td>\n",
       "      <td>2011</td>\n",
       "      <td>0.9</td>\n",
       "    </tr>\n",
       "    <tr>\n",
       "      <th>1</th>\n",
       "      <td>Armenia</td>\n",
       "      <td>2011</td>\n",
       "      <td>2.2</td>\n",
       "    </tr>\n",
       "    <tr>\n",
       "      <th>2</th>\n",
       "      <td>Austria</td>\n",
       "      <td>2011</td>\n",
       "      <td>0.5</td>\n",
       "    </tr>\n",
       "    <tr>\n",
       "      <th>3</th>\n",
       "      <td>Belgium</td>\n",
       "      <td>2011</td>\n",
       "      <td>0.2</td>\n",
       "    </tr>\n",
       "    <tr>\n",
       "      <th>4</th>\n",
       "      <td>Benin</td>\n",
       "      <td>2011</td>\n",
       "      <td>53.1</td>\n",
       "    </tr>\n",
       "  </tbody>\n",
       "</table>\n",
       "</div>"
      ],
      "text/plain": [
       "     country  year  poverty_index\n",
       "0  Argentina  2011            0.9\n",
       "1    Armenia  2011            2.2\n",
       "2    Austria  2011            0.5\n",
       "3    Belgium  2011            0.2\n",
       "4      Benin  2011           53.1"
      ]
     },
     "execution_count": 48,
     "metadata": {},
     "output_type": "execute_result"
    }
   ],
   "source": [
    "df_poverty.head()"
   ]
  },
  {
   "cell_type": "markdown",
   "metadata": {},
   "source": [
    "We have now completed cleaning of the poverty_index dataset."
   ]
  },
  {
   "cell_type": "markdown",
   "metadata": {},
   "source": [
    "#### GDP/capita (USD, inflation-adjusted) - Data Cleaning**"
   ]
  },
  {
   "cell_type": "markdown",
   "metadata": {},
   "source": [
    "We will now perform cleaning on the GDP dataset"
   ]
  },
  {
   "cell_type": "code",
   "execution_count": 49,
   "metadata": {},
   "outputs": [
    {
     "data": {
      "text/html": [
       "<div>\n",
       "<style scoped>\n",
       "    .dataframe tbody tr th:only-of-type {\n",
       "        vertical-align: middle;\n",
       "    }\n",
       "\n",
       "    .dataframe tbody tr th {\n",
       "        vertical-align: top;\n",
       "    }\n",
       "\n",
       "    .dataframe thead th {\n",
       "        text-align: right;\n",
       "    }\n",
       "</style>\n",
       "<table border=\"1\" class=\"dataframe\">\n",
       "  <thead>\n",
       "    <tr style=\"text-align: right;\">\n",
       "      <th></th>\n",
       "      <th>country</th>\n",
       "      <th>year</th>\n",
       "      <th>gdp_per_capita</th>\n",
       "    </tr>\n",
       "  </thead>\n",
       "  <tbody>\n",
       "    <tr>\n",
       "      <th>0</th>\n",
       "      <td>Abkhazia</td>\n",
       "      <td>1960</td>\n",
       "      <td>NaN</td>\n",
       "    </tr>\n",
       "    <tr>\n",
       "      <th>1</th>\n",
       "      <td>Afghanistan</td>\n",
       "      <td>1960</td>\n",
       "      <td>NaN</td>\n",
       "    </tr>\n",
       "    <tr>\n",
       "      <th>2</th>\n",
       "      <td>Akrotiri and Dhekelia</td>\n",
       "      <td>1960</td>\n",
       "      <td>NaN</td>\n",
       "    </tr>\n",
       "    <tr>\n",
       "      <th>3</th>\n",
       "      <td>Albania</td>\n",
       "      <td>1960</td>\n",
       "      <td>NaN</td>\n",
       "    </tr>\n",
       "    <tr>\n",
       "      <th>4</th>\n",
       "      <td>Algeria</td>\n",
       "      <td>1960</td>\n",
       "      <td>1280.384828</td>\n",
       "    </tr>\n",
       "  </tbody>\n",
       "</table>\n",
       "</div>"
      ],
      "text/plain": [
       "                 country  year  gdp_per_capita\n",
       "0               Abkhazia  1960             NaN\n",
       "1            Afghanistan  1960             NaN\n",
       "2  Akrotiri and Dhekelia  1960             NaN\n",
       "3                Albania  1960             NaN\n",
       "4                Algeria  1960     1280.384828"
      ]
     },
     "execution_count": 49,
     "metadata": {},
     "output_type": "execute_result"
    }
   ],
   "source": [
    "# Rename columns and Transpose data to long format\n",
    "df_gdp.rename(columns=lambda x: x.replace('Income per person (fixed 2000 US$)', 'country'), inplace=True)\n",
    "df_gdp = pd.melt(df_gdp, id_vars='country', var_name='year', value_name='gdp_per_capita')\n",
    "df_gdp.head()"
   ]
  },
  {
   "cell_type": "code",
   "execution_count": 50,
   "metadata": {},
   "outputs": [],
   "source": [
    "# Filter data down to desired years, 2007 to 2011\n",
    "y1 = '2007'\n",
    "y2 = '2011'\n",
    "df_gdp = df_gdp.query('year >= @y1 and year <= @y2')"
   ]
  },
  {
   "cell_type": "code",
   "execution_count": 51,
   "metadata": {},
   "outputs": [
    {
     "data": {
      "text/plain": [
       "(930, 3)"
      ]
     },
     "execution_count": 51,
     "metadata": {},
     "output_type": "execute_result"
    }
   ],
   "source": [
    "# Remove 'NaN' values, reset indexes, convert year to int and gdp_per_capita to float\n",
    "df_gdp.dropna(inplace=True)\n",
    "df_gdp.reset_index(drop=True, inplace=True)\n",
    "df_gdp.year = pd.to_numeric(df_gdp.year, errors='coerce')\n",
    "df_gdp.gdp_per_capita = pd.to_numeric(df_gdp.gdp_per_capita, errors='coerce')\n",
    "df_gdp.shape"
   ]
  },
  {
   "cell_type": "code",
   "execution_count": 52,
   "metadata": {},
   "outputs": [
    {
     "data": {
      "text/plain": [
       "2007    193\n",
       "2008    191\n",
       "2009    189\n",
       "2010    182\n",
       "2011    175\n",
       "Name: year, dtype: int64"
      ]
     },
     "execution_count": 52,
     "metadata": {},
     "output_type": "execute_result"
    }
   ],
   "source": [
    "# Check records per year\n",
    "df_gdp.year.value_counts()"
   ]
  },
  {
   "cell_type": "code",
   "execution_count": 53,
   "metadata": {},
   "outputs": [
    {
     "name": "stdout",
     "output_type": "stream",
     "text": [
      "<class 'pandas.core.frame.DataFrame'>\n",
      "RangeIndex: 930 entries, 0 to 929\n",
      "Data columns (total 3 columns):\n",
      "country           930 non-null object\n",
      "year              930 non-null int64\n",
      "gdp_per_capita    930 non-null float64\n",
      "dtypes: float64(1), int64(1), object(1)\n",
      "memory usage: 21.9+ KB\n"
     ]
    }
   ],
   "source": [
    "# Check data types and nulls\n",
    "\n",
    "df_gdp.info()"
   ]
  },
  {
   "cell_type": "code",
   "execution_count": 54,
   "metadata": {},
   "outputs": [
    {
     "data": {
      "text/html": [
       "<div>\n",
       "<style scoped>\n",
       "    .dataframe tbody tr th:only-of-type {\n",
       "        vertical-align: middle;\n",
       "    }\n",
       "\n",
       "    .dataframe tbody tr th {\n",
       "        vertical-align: top;\n",
       "    }\n",
       "\n",
       "    .dataframe thead th {\n",
       "        text-align: right;\n",
       "    }\n",
       "</style>\n",
       "<table border=\"1\" class=\"dataframe\">\n",
       "  <thead>\n",
       "    <tr style=\"text-align: right;\">\n",
       "      <th></th>\n",
       "      <th>country</th>\n",
       "      <th>year</th>\n",
       "      <th>gdp_per_capita</th>\n",
       "    </tr>\n",
       "  </thead>\n",
       "  <tbody>\n",
       "    <tr>\n",
       "      <th>0</th>\n",
       "      <td>Albania</td>\n",
       "      <td>2007</td>\n",
       "      <td>1681.61391</td>\n",
       "    </tr>\n",
       "  </tbody>\n",
       "</table>\n",
       "</div>"
      ],
      "text/plain": [
       "   country  year  gdp_per_capita\n",
       "0  Albania  2007      1681.61391"
      ]
     },
     "execution_count": 54,
     "metadata": {},
     "output_type": "execute_result"
    }
   ],
   "source": [
    "df_gdp.head(1)"
   ]
  },
  {
   "cell_type": "markdown",
   "metadata": {},
   "source": [
    "GDP per capita data is now cleaned.\n",
    "\n",
    "At this stage, we have cleaned the single-variable data sets. We shall now comine them into a single dataframe, to allow for comparisons across variable"
   ]
  },
  {
   "cell_type": "markdown",
   "metadata": {},
   "source": [
    "#### Combined Data"
   ]
  },
  {
   "cell_type": "markdown",
   "metadata": {},
   "source": [
    "In the cell below, we will combine all individual datasets into a single dataframe."
   ]
  },
  {
   "cell_type": "code",
   "execution_count": 55,
   "metadata": {},
   "outputs": [],
   "source": [
    "# Combine individual datasets into a single dataframe\n",
    "\n",
    "df = pd.merge(df_corruption, df_infant, on=['country', 'year'], how='outer')\n",
    "df = pd.merge(df, df_literacy, on=['country', 'year'], how='outer')\n",
    "df = pd.merge(df, df_inequality, on=['country', 'year'], how='outer')\n",
    "df = pd.merge(df, df_poverty, on=['country', 'year'], how='outer')\n",
    "df = pd.merge(df, df_gdp, on=['country', 'year'], how='outer')"
   ]
  },
  {
   "cell_type": "markdown",
   "metadata": {},
   "source": [
    "Let us inspect the combined data."
   ]
  },
  {
   "cell_type": "code",
   "execution_count": 56,
   "metadata": {},
   "outputs": [
    {
     "data": {
      "text/html": [
       "<div>\n",
       "<style scoped>\n",
       "    .dataframe tbody tr th:only-of-type {\n",
       "        vertical-align: middle;\n",
       "    }\n",
       "\n",
       "    .dataframe tbody tr th {\n",
       "        vertical-align: top;\n",
       "    }\n",
       "\n",
       "    .dataframe thead th {\n",
       "        text-align: right;\n",
       "    }\n",
       "</style>\n",
       "<table border=\"1\" class=\"dataframe\">\n",
       "  <thead>\n",
       "    <tr style=\"text-align: right;\">\n",
       "      <th></th>\n",
       "      <th>country</th>\n",
       "      <th>year</th>\n",
       "      <th>cpi_score</th>\n",
       "      <th>infant_mortality_rate</th>\n",
       "      <th>literacy_rate</th>\n",
       "      <th>gini_index</th>\n",
       "      <th>poverty_index</th>\n",
       "      <th>gdp_per_capita</th>\n",
       "    </tr>\n",
       "  </thead>\n",
       "  <tbody>\n",
       "    <tr>\n",
       "      <th>0</th>\n",
       "      <td>New Zealand</td>\n",
       "      <td>2008</td>\n",
       "      <td>9.4</td>\n",
       "      <td>5.3</td>\n",
       "      <td>NaN</td>\n",
       "      <td>NaN</td>\n",
       "      <td>NaN</td>\n",
       "      <td>15011.18385</td>\n",
       "    </tr>\n",
       "    <tr>\n",
       "      <th>1</th>\n",
       "      <td>Denmark</td>\n",
       "      <td>2008</td>\n",
       "      <td>9.3</td>\n",
       "      <td>3.6</td>\n",
       "      <td>NaN</td>\n",
       "      <td>25.2</td>\n",
       "      <td>NaN</td>\n",
       "      <td>32320.10054</td>\n",
       "    </tr>\n",
       "    <tr>\n",
       "      <th>2</th>\n",
       "      <td>Sweden</td>\n",
       "      <td>2008</td>\n",
       "      <td>9.2</td>\n",
       "      <td>2.6</td>\n",
       "      <td>NaN</td>\n",
       "      <td>26.8</td>\n",
       "      <td>NaN</td>\n",
       "      <td>32798.73425</td>\n",
       "    </tr>\n",
       "    <tr>\n",
       "      <th>3</th>\n",
       "      <td>Singapore</td>\n",
       "      <td>2008</td>\n",
       "      <td>9.2</td>\n",
       "      <td>2.2</td>\n",
       "      <td>NaN</td>\n",
       "      <td>NaN</td>\n",
       "      <td>NaN</td>\n",
       "      <td>30131.61718</td>\n",
       "    </tr>\n",
       "    <tr>\n",
       "      <th>4</th>\n",
       "      <td>Switzerland</td>\n",
       "      <td>2008</td>\n",
       "      <td>9.0</td>\n",
       "      <td>4.0</td>\n",
       "      <td>NaN</td>\n",
       "      <td>33.8</td>\n",
       "      <td>NaN</td>\n",
       "      <td>39324.73112</td>\n",
       "    </tr>\n",
       "  </tbody>\n",
       "</table>\n",
       "</div>"
      ],
      "text/plain": [
       "       country  year  cpi_score  infant_mortality_rate  literacy_rate  \\\n",
       "0  New Zealand  2008        9.4                    5.3            NaN   \n",
       "1      Denmark  2008        9.3                    3.6            NaN   \n",
       "2       Sweden  2008        9.2                    2.6            NaN   \n",
       "3    Singapore  2008        9.2                    2.2            NaN   \n",
       "4  Switzerland  2008        9.0                    4.0            NaN   \n",
       "\n",
       "   gini_index  poverty_index  gdp_per_capita  \n",
       "0         NaN            NaN     15011.18385  \n",
       "1        25.2            NaN     32320.10054  \n",
       "2        26.8            NaN     32798.73425  \n",
       "3         NaN            NaN     30131.61718  \n",
       "4        33.8            NaN     39324.73112  "
      ]
     },
     "execution_count": 56,
     "metadata": {},
     "output_type": "execute_result"
    }
   ],
   "source": [
    "df.head()"
   ]
  },
  {
   "cell_type": "code",
   "execution_count": 57,
   "metadata": {},
   "outputs": [
    {
     "data": {
      "text/plain": [
       "(1104, 8)"
      ]
     },
     "execution_count": 57,
     "metadata": {},
     "output_type": "execute_result"
    }
   ],
   "source": [
    "df.shape"
   ]
  },
  {
   "cell_type": "code",
   "execution_count": 58,
   "metadata": {},
   "outputs": [
    {
     "name": "stdout",
     "output_type": "stream",
     "text": [
      "<class 'pandas.core.frame.DataFrame'>\n",
      "Int64Index: 1104 entries, 0 to 1103\n",
      "Data columns (total 8 columns):\n",
      "country                  1104 non-null object\n",
      "year                     1104 non-null int64\n",
      "cpi_score                897 non-null float64\n",
      "infant_mortality_rate    983 non-null float64\n",
      "literacy_rate            206 non-null float64\n",
      "gini_index               376 non-null float64\n",
      "poverty_index            90 non-null float64\n",
      "gdp_per_capita           930 non-null float64\n",
      "dtypes: float64(6), int64(1), object(1)\n",
      "memory usage: 77.6+ KB\n"
     ]
    }
   ],
   "source": [
    "df.info()"
   ]
  },
  {
   "cell_type": "code",
   "execution_count": 59,
   "metadata": {},
   "outputs": [
    {
     "data": {
      "text/html": [
       "<div>\n",
       "<style scoped>\n",
       "    .dataframe tbody tr th:only-of-type {\n",
       "        vertical-align: middle;\n",
       "    }\n",
       "\n",
       "    .dataframe tbody tr th {\n",
       "        vertical-align: top;\n",
       "    }\n",
       "\n",
       "    .dataframe thead th {\n",
       "        text-align: right;\n",
       "    }\n",
       "</style>\n",
       "<table border=\"1\" class=\"dataframe\">\n",
       "  <thead>\n",
       "    <tr style=\"text-align: right;\">\n",
       "      <th></th>\n",
       "      <th>year</th>\n",
       "      <th>cpi_score</th>\n",
       "      <th>infant_mortality_rate</th>\n",
       "      <th>literacy_rate</th>\n",
       "      <th>gini_index</th>\n",
       "      <th>poverty_index</th>\n",
       "      <th>gdp_per_capita</th>\n",
       "    </tr>\n",
       "  </thead>\n",
       "  <tbody>\n",
       "    <tr>\n",
       "      <th>count</th>\n",
       "      <td>1104.000000</td>\n",
       "      <td>897.000000</td>\n",
       "      <td>983.000000</td>\n",
       "      <td>206.000000</td>\n",
       "      <td>376.000000</td>\n",
       "      <td>90.000000</td>\n",
       "      <td>930.000000</td>\n",
       "    </tr>\n",
       "    <tr>\n",
       "      <th>mean</th>\n",
       "      <td>2009.009058</td>\n",
       "      <td>4.014158</td>\n",
       "      <td>28.860905</td>\n",
       "      <td>84.283146</td>\n",
       "      <td>36.582979</td>\n",
       "      <td>9.026667</td>\n",
       "      <td>8418.930436</td>\n",
       "    </tr>\n",
       "    <tr>\n",
       "      <th>std</th>\n",
       "      <td>1.437078</td>\n",
       "      <td>2.088395</td>\n",
       "      <td>26.159773</td>\n",
       "      <td>17.152699</td>\n",
       "      <td>8.551911</td>\n",
       "      <td>15.310287</td>\n",
       "      <td>13276.734101</td>\n",
       "    </tr>\n",
       "    <tr>\n",
       "      <th>min</th>\n",
       "      <td>2007.000000</td>\n",
       "      <td>1.000000</td>\n",
       "      <td>1.760000</td>\n",
       "      <td>25.307745</td>\n",
       "      <td>23.700000</td>\n",
       "      <td>0.000000</td>\n",
       "      <td>97.910183</td>\n",
       "    </tr>\n",
       "    <tr>\n",
       "      <th>25%</th>\n",
       "      <td>2008.000000</td>\n",
       "      <td>2.500000</td>\n",
       "      <td>7.750000</td>\n",
       "      <td>76.014593</td>\n",
       "      <td>30.175000</td>\n",
       "      <td>0.200000</td>\n",
       "      <td>672.367236</td>\n",
       "    </tr>\n",
       "    <tr>\n",
       "      <th>50%</th>\n",
       "      <td>2009.000000</td>\n",
       "      <td>3.300000</td>\n",
       "      <td>18.300000</td>\n",
       "      <td>91.845252</td>\n",
       "      <td>33.950000</td>\n",
       "      <td>1.200000</td>\n",
       "      <td>2503.908898</td>\n",
       "    </tr>\n",
       "    <tr>\n",
       "      <th>75%</th>\n",
       "      <td>2010.000000</td>\n",
       "      <td>5.100000</td>\n",
       "      <td>45.400000</td>\n",
       "      <td>96.178175</td>\n",
       "      <td>42.325000</td>\n",
       "      <td>8.425000</td>\n",
       "      <td>9783.327358</td>\n",
       "    </tr>\n",
       "    <tr>\n",
       "      <th>max</th>\n",
       "      <td>2011.000000</td>\n",
       "      <td>9.500000</td>\n",
       "      <td>120.500000</td>\n",
       "      <td>99.998262</td>\n",
       "      <td>63.400000</td>\n",
       "      <td>54.200000</td>\n",
       "      <td>108111.212800</td>\n",
       "    </tr>\n",
       "  </tbody>\n",
       "</table>\n",
       "</div>"
      ],
      "text/plain": [
       "              year   cpi_score  infant_mortality_rate  literacy_rate  \\\n",
       "count  1104.000000  897.000000             983.000000     206.000000   \n",
       "mean   2009.009058    4.014158              28.860905      84.283146   \n",
       "std       1.437078    2.088395              26.159773      17.152699   \n",
       "min    2007.000000    1.000000               1.760000      25.307745   \n",
       "25%    2008.000000    2.500000               7.750000      76.014593   \n",
       "50%    2009.000000    3.300000              18.300000      91.845252   \n",
       "75%    2010.000000    5.100000              45.400000      96.178175   \n",
       "max    2011.000000    9.500000             120.500000      99.998262   \n",
       "\n",
       "       gini_index  poverty_index  gdp_per_capita  \n",
       "count  376.000000      90.000000      930.000000  \n",
       "mean    36.582979       9.026667     8418.930436  \n",
       "std      8.551911      15.310287    13276.734101  \n",
       "min     23.700000       0.000000       97.910183  \n",
       "25%     30.175000       0.200000      672.367236  \n",
       "50%     33.950000       1.200000     2503.908898  \n",
       "75%     42.325000       8.425000     9783.327358  \n",
       "max     63.400000      54.200000   108111.212800  "
      ]
     },
     "execution_count": 59,
     "metadata": {},
     "output_type": "execute_result"
    }
   ],
   "source": [
    "df.describe()"
   ]
  },
  {
   "cell_type": "code",
   "execution_count": 60,
   "metadata": {},
   "outputs": [
    {
     "data": {
      "text/plain": [
       "2011    233\n",
       "2007    228\n",
       "2010    217\n",
       "2008    217\n",
       "2009    209\n",
       "Name: year, dtype: int64"
      ]
     },
     "execution_count": 60,
     "metadata": {},
     "output_type": "execute_result"
    }
   ],
   "source": [
    "# Check records per year\n",
    "df.year.value_counts()"
   ]
  },
  {
   "cell_type": "code",
   "execution_count": 61,
   "metadata": {},
   "outputs": [
    {
     "data": {
      "text/plain": [
       "False    1104\n",
       "dtype: int64"
      ]
     },
     "execution_count": 61,
     "metadata": {},
     "output_type": "execute_result"
    }
   ],
   "source": [
    "# Check for duplicated values\n",
    "df.duplicated().value_counts()"
   ]
  },
  {
   "cell_type": "code",
   "execution_count": 62,
   "metadata": {},
   "outputs": [
    {
     "data": {
      "text/plain": [
       "Pakistan                          5\n",
       "Luxembourg                        5\n",
       "Sudan                             5\n",
       "Bosnia and Herzegovina            5\n",
       "Angola                            5\n",
       "North Korea                       5\n",
       "Belize                            5\n",
       "Malawi                            5\n",
       "Russia                            5\n",
       "Cameroon                          5\n",
       "Canada                            5\n",
       "Dominican Republic                5\n",
       "Estonia                           5\n",
       "Nepal                             5\n",
       "Switzerland                       5\n",
       "Slovak Republic                   5\n",
       "Tanzania                          5\n",
       "Mexico                            5\n",
       "Finland                           5\n",
       "United States                     5\n",
       "Fiji                              5\n",
       "Vietnam                           5\n",
       "France                            5\n",
       "Chad                              5\n",
       "Afghanistan                       5\n",
       "Belarus                           5\n",
       "Turkey                            5\n",
       "St. Vincent and the Grenadines    5\n",
       "Iceland                           5\n",
       "Armenia                           5\n",
       "                                 ..\n",
       "Kuweit                            1\n",
       "Cayman Islands                    1\n",
       "Channel Islands                   1\n",
       "Europe & Central Asia             1\n",
       "IDA total                         1\n",
       "Viet Nam                          1\n",
       "Congo  Republic                   1\n",
       "Moldovaa                          1\n",
       "Gambia, The                       1\n",
       "Low income                        1\n",
       "High income                       1\n",
       "Congo-Brazzaville                 1\n",
       "South Asia                        1\n",
       "USA                               1\n",
       "Sub-Saharan Africa                1\n",
       "Korea, Dem. Rep.                  1\n",
       "Lao PDR                           1\n",
       "Central African Rep.              1\n",
       "Democratic Republic of Congo      1\n",
       "Upper middle income               1\n",
       "Low & middle income               1\n",
       "Korea (North)                     1\n",
       "Brunei Darussalam                 1\n",
       "East Asia & Pacific               1\n",
       "Cabo Verde                        1\n",
       "Aruba                             1\n",
       "Czech Republik                    1\n",
       "Middle East & North Africa        1\n",
       "Yemen, Rep.                       1\n",
       "Congo, Republic                   1\n",
       "Name: country, Length: 261, dtype: int64"
      ]
     },
     "execution_count": 62,
     "metadata": {},
     "output_type": "execute_result"
    }
   ],
   "source": [
    "df.country.value_counts()"
   ]
  },
  {
   "cell_type": "markdown",
   "metadata": {},
   "source": [
    "We have made a number of observations on this combined dataframe.\n",
    "\n",
    "Our variables where correctly combined into a single dataframe, there appear to be no duplicates, and the data types are correct.\n",
    "\n",
    "However, we observe that some country names are not consistently spelt, for example, 'Democratic Republic of Congo' and 'Democratic Republic of the Congo' likely refer to the same country. Similarly, 'Russia' and 'Russian Federation' both appear in the data.\n",
    "\n",
    "Also, some records appear to be for non-state entities, for example, 'High income' and 'Latin America & Carribean' and 'Fragile and conflict affected situations'.\n",
    "\n",
    "We also spot a row for 'Kuweit' and speculate there may be a separate row for 'Kuwait'."
   ]
  },
  {
   "cell_type": "code",
   "execution_count": 63,
   "metadata": {
    "scrolled": true
   },
   "outputs": [
    {
     "data": {
      "text/html": [
       "<div>\n",
       "<style scoped>\n",
       "    .dataframe tbody tr th:only-of-type {\n",
       "        vertical-align: middle;\n",
       "    }\n",
       "\n",
       "    .dataframe tbody tr th {\n",
       "        vertical-align: top;\n",
       "    }\n",
       "\n",
       "    .dataframe thead th {\n",
       "        text-align: right;\n",
       "    }\n",
       "</style>\n",
       "<table border=\"1\" class=\"dataframe\">\n",
       "  <thead>\n",
       "    <tr style=\"text-align: right;\">\n",
       "      <th></th>\n",
       "      <th>country</th>\n",
       "      <th>year</th>\n",
       "      <th>cpi_score</th>\n",
       "      <th>infant_mortality_rate</th>\n",
       "      <th>literacy_rate</th>\n",
       "      <th>gini_index</th>\n",
       "      <th>poverty_index</th>\n",
       "      <th>gdp_per_capita</th>\n",
       "    </tr>\n",
       "  </thead>\n",
       "  <tbody>\n",
       "    <tr>\n",
       "      <th>65</th>\n",
       "      <td>Kuwait</td>\n",
       "      <td>2008</td>\n",
       "      <td>4.1</td>\n",
       "      <td>9.7</td>\n",
       "      <td>93.906206</td>\n",
       "      <td>NaN</td>\n",
       "      <td>NaN</td>\n",
       "      <td>25308.08492</td>\n",
       "    </tr>\n",
       "    <tr>\n",
       "      <th>242</th>\n",
       "      <td>Kuwait</td>\n",
       "      <td>2009</td>\n",
       "      <td>4.5</td>\n",
       "      <td>9.5</td>\n",
       "      <td>NaN</td>\n",
       "      <td>NaN</td>\n",
       "      <td>NaN</td>\n",
       "      <td>23116.34061</td>\n",
       "    </tr>\n",
       "    <tr>\n",
       "      <th>415</th>\n",
       "      <td>Kuweit</td>\n",
       "      <td>2007</td>\n",
       "      <td>4.3</td>\n",
       "      <td>NaN</td>\n",
       "      <td>NaN</td>\n",
       "      <td>NaN</td>\n",
       "      <td>NaN</td>\n",
       "      <td>NaN</td>\n",
       "    </tr>\n",
       "    <tr>\n",
       "      <th>589</th>\n",
       "      <td>Kuwait</td>\n",
       "      <td>2010</td>\n",
       "      <td>4.5</td>\n",
       "      <td>9.2</td>\n",
       "      <td>NaN</td>\n",
       "      <td>NaN</td>\n",
       "      <td>NaN</td>\n",
       "      <td>23114.58667</td>\n",
       "    </tr>\n",
       "    <tr>\n",
       "      <th>768</th>\n",
       "      <td>Kuwait</td>\n",
       "      <td>2011</td>\n",
       "      <td>4.6</td>\n",
       "      <td>8.9</td>\n",
       "      <td>NaN</td>\n",
       "      <td>NaN</td>\n",
       "      <td>NaN</td>\n",
       "      <td>24286.11580</td>\n",
       "    </tr>\n",
       "    <tr>\n",
       "      <th>908</th>\n",
       "      <td>Kuwait</td>\n",
       "      <td>2007</td>\n",
       "      <td>NaN</td>\n",
       "      <td>9.8</td>\n",
       "      <td>93.664185</td>\n",
       "      <td>NaN</td>\n",
       "      <td>NaN</td>\n",
       "      <td>25100.02810</td>\n",
       "    </tr>\n",
       "  </tbody>\n",
       "</table>\n",
       "</div>"
      ],
      "text/plain": [
       "    country  year  cpi_score  infant_mortality_rate  literacy_rate  \\\n",
       "65   Kuwait  2008        4.1                    9.7      93.906206   \n",
       "242  Kuwait  2009        4.5                    9.5            NaN   \n",
       "415  Kuweit  2007        4.3                    NaN            NaN   \n",
       "589  Kuwait  2010        4.5                    9.2            NaN   \n",
       "768  Kuwait  2011        4.6                    8.9            NaN   \n",
       "908  Kuwait  2007        NaN                    9.8      93.664185   \n",
       "\n",
       "     gini_index  poverty_index  gdp_per_capita  \n",
       "65          NaN            NaN     25308.08492  \n",
       "242         NaN            NaN     23116.34061  \n",
       "415         NaN            NaN             NaN  \n",
       "589         NaN            NaN     23114.58667  \n",
       "768         NaN            NaN     24286.11580  \n",
       "908         NaN            NaN     25100.02810  "
      ]
     },
     "execution_count": 63,
     "metadata": {},
     "output_type": "execute_result"
    }
   ],
   "source": [
    "#Check for occurence of 'Kuwait' or 'Kuweit'\n",
    "\n",
    "a1 = 'kuweit'\n",
    "a2 = 'kuwait'\n",
    "\n",
    "df.query('country.str.lower() == @a1 or country.str.lower() == @a2')"
   ]
  },
  {
   "cell_type": "code",
   "execution_count": 64,
   "metadata": {
    "scrolled": true
   },
   "outputs": [
    {
     "data": {
      "text/html": [
       "<div>\n",
       "<style scoped>\n",
       "    .dataframe tbody tr th:only-of-type {\n",
       "        vertical-align: middle;\n",
       "    }\n",
       "\n",
       "    .dataframe tbody tr th {\n",
       "        vertical-align: top;\n",
       "    }\n",
       "\n",
       "    .dataframe thead th {\n",
       "        text-align: right;\n",
       "    }\n",
       "</style>\n",
       "<table border=\"1\" class=\"dataframe\">\n",
       "  <thead>\n",
       "    <tr style=\"text-align: right;\">\n",
       "      <th></th>\n",
       "      <th>country</th>\n",
       "      <th>year</th>\n",
       "      <th>cpi_score</th>\n",
       "      <th>infant_mortality_rate</th>\n",
       "      <th>literacy_rate</th>\n",
       "      <th>gini_index</th>\n",
       "      <th>poverty_index</th>\n",
       "      <th>gdp_per_capita</th>\n",
       "    </tr>\n",
       "  </thead>\n",
       "  <tbody>\n",
       "    <tr>\n",
       "      <th>146</th>\n",
       "      <td>Russia</td>\n",
       "      <td>2008</td>\n",
       "      <td>2.2</td>\n",
       "      <td>11.6</td>\n",
       "      <td>NaN</td>\n",
       "      <td>NaN</td>\n",
       "      <td>NaN</td>\n",
       "      <td>3043.665599</td>\n",
       "    </tr>\n",
       "    <tr>\n",
       "      <th>322</th>\n",
       "      <td>Russia</td>\n",
       "      <td>2009</td>\n",
       "      <td>2.1</td>\n",
       "      <td>10.9</td>\n",
       "      <td>NaN</td>\n",
       "      <td>NaN</td>\n",
       "      <td>NaN</td>\n",
       "      <td>2806.414830</td>\n",
       "    </tr>\n",
       "    <tr>\n",
       "      <th>500</th>\n",
       "      <td>Russia</td>\n",
       "      <td>2007</td>\n",
       "      <td>2.3</td>\n",
       "      <td>12.4</td>\n",
       "      <td>NaN</td>\n",
       "      <td>NaN</td>\n",
       "      <td>NaN</td>\n",
       "      <td>2888.847355</td>\n",
       "    </tr>\n",
       "    <tr>\n",
       "      <th>697</th>\n",
       "      <td>Russia</td>\n",
       "      <td>2010</td>\n",
       "      <td>2.1</td>\n",
       "      <td>10.3</td>\n",
       "      <td>99.684267</td>\n",
       "      <td>NaN</td>\n",
       "      <td>NaN</td>\n",
       "      <td>2928.005033</td>\n",
       "    </tr>\n",
       "    <tr>\n",
       "      <th>861</th>\n",
       "      <td>Russia</td>\n",
       "      <td>2011</td>\n",
       "      <td>2.4</td>\n",
       "      <td>9.8</td>\n",
       "      <td>NaN</td>\n",
       "      <td>NaN</td>\n",
       "      <td>NaN</td>\n",
       "      <td>3054.727742</td>\n",
       "    </tr>\n",
       "    <tr>\n",
       "      <th>1058</th>\n",
       "      <td>Russian Federation</td>\n",
       "      <td>2007</td>\n",
       "      <td>NaN</td>\n",
       "      <td>NaN</td>\n",
       "      <td>NaN</td>\n",
       "      <td>42.3</td>\n",
       "      <td>NaN</td>\n",
       "      <td>NaN</td>\n",
       "    </tr>\n",
       "    <tr>\n",
       "      <th>1061</th>\n",
       "      <td>Russian Federation</td>\n",
       "      <td>2008</td>\n",
       "      <td>NaN</td>\n",
       "      <td>NaN</td>\n",
       "      <td>NaN</td>\n",
       "      <td>41.6</td>\n",
       "      <td>NaN</td>\n",
       "      <td>NaN</td>\n",
       "    </tr>\n",
       "    <tr>\n",
       "      <th>1063</th>\n",
       "      <td>Russian Federation</td>\n",
       "      <td>2009</td>\n",
       "      <td>NaN</td>\n",
       "      <td>NaN</td>\n",
       "      <td>NaN</td>\n",
       "      <td>39.8</td>\n",
       "      <td>NaN</td>\n",
       "      <td>NaN</td>\n",
       "    </tr>\n",
       "    <tr>\n",
       "      <th>1068</th>\n",
       "      <td>Russian Federation</td>\n",
       "      <td>2010</td>\n",
       "      <td>NaN</td>\n",
       "      <td>NaN</td>\n",
       "      <td>NaN</td>\n",
       "      <td>39.5</td>\n",
       "      <td>NaN</td>\n",
       "      <td>NaN</td>\n",
       "    </tr>\n",
       "    <tr>\n",
       "      <th>1069</th>\n",
       "      <td>Russian Federation</td>\n",
       "      <td>2011</td>\n",
       "      <td>NaN</td>\n",
       "      <td>NaN</td>\n",
       "      <td>NaN</td>\n",
       "      <td>39.7</td>\n",
       "      <td>0.0</td>\n",
       "      <td>NaN</td>\n",
       "    </tr>\n",
       "  </tbody>\n",
       "</table>\n",
       "</div>"
      ],
      "text/plain": [
       "                 country  year  cpi_score  infant_mortality_rate  \\\n",
       "146               Russia  2008        2.2                   11.6   \n",
       "322               Russia  2009        2.1                   10.9   \n",
       "500               Russia  2007        2.3                   12.4   \n",
       "697               Russia  2010        2.1                   10.3   \n",
       "861               Russia  2011        2.4                    9.8   \n",
       "1058  Russian Federation  2007        NaN                    NaN   \n",
       "1061  Russian Federation  2008        NaN                    NaN   \n",
       "1063  Russian Federation  2009        NaN                    NaN   \n",
       "1068  Russian Federation  2010        NaN                    NaN   \n",
       "1069  Russian Federation  2011        NaN                    NaN   \n",
       "\n",
       "      literacy_rate  gini_index  poverty_index  gdp_per_capita  \n",
       "146             NaN         NaN            NaN     3043.665599  \n",
       "322             NaN         NaN            NaN     2806.414830  \n",
       "500             NaN         NaN            NaN     2888.847355  \n",
       "697       99.684267         NaN            NaN     2928.005033  \n",
       "861             NaN         NaN            NaN     3054.727742  \n",
       "1058            NaN        42.3            NaN             NaN  \n",
       "1061            NaN        41.6            NaN             NaN  \n",
       "1063            NaN        39.8            NaN             NaN  \n",
       "1068            NaN        39.5            NaN             NaN  \n",
       "1069            NaN        39.7            0.0             NaN  "
      ]
     },
     "execution_count": 64,
     "metadata": {},
     "output_type": "execute_result"
    }
   ],
   "source": [
    "# Check for occurence of 'Russia' or 'Russian Federation'\n",
    "\n",
    "a3 = 'russia'\n",
    "a4 = 'russian federation'\n",
    "\n",
    "df.query('country.str.lower() == @a3 or country.str.lower() == @a4')"
   ]
  },
  {
   "cell_type": "markdown",
   "metadata": {},
   "source": [
    "As suspected, 'Kuwait' and 'Kuweit' both occur in the data, as do records against both 'Russia' and 'Russian Federation'"
   ]
  },
  {
   "cell_type": "markdown",
   "metadata": {},
   "source": [
    "We therefore judge that a manual process of cleaning 'country' needs to be performed outside python, and the cleaned data then re-integrated into our analysis data.\n",
    "\n",
    "To accomplish this, we shall export a unique list of countries, manually create a mapping table containing valid countries with names spelt correctly, and then import this back into our dataframe.\n",
    "\n",
    "This edit will also afford us the opportunity to augment country data with Region categorization, to pose and answer additional questions. Regional classifications have been obtained from the website below.\n",
    "\n",
    "https://meta.wikimedia.org/wiki/List_of_countries_by_regional_classification"
   ]
  },
  {
   "cell_type": "markdown",
   "metadata": {},
   "source": [
    "Important to stress fixing errors in country names cannot be performed programatically."
   ]
  },
  {
   "cell_type": "code",
   "execution_count": 65,
   "metadata": {},
   "outputs": [],
   "source": [
    "# This snippet exports the original country list to a csv file\n",
    "pd.DataFrame.to_csv(pd.DataFrame(df.country.value_counts()),'country_list.csv')\n",
    "#pd.DataFrame(df.country.value_counts())\n"
   ]
  },
  {
   "cell_type": "markdown",
   "metadata": {},
   "source": [
    "After performing offline cleaning of the country list and adding of 'Region' information, we are now ready to import and integrate this list into our dataset.\n",
    "\n",
    "Filename holding our cleaned country list is: 'country_list_clean.csv'"
   ]
  },
  {
   "cell_type": "code",
   "execution_count": 66,
   "metadata": {
    "scrolled": true
   },
   "outputs": [
    {
     "data": {
      "text/html": [
       "<div>\n",
       "<style scoped>\n",
       "    .dataframe tbody tr th:only-of-type {\n",
       "        vertical-align: middle;\n",
       "    }\n",
       "\n",
       "    .dataframe tbody tr th {\n",
       "        vertical-align: top;\n",
       "    }\n",
       "\n",
       "    .dataframe thead th {\n",
       "        text-align: right;\n",
       "    }\n",
       "</style>\n",
       "<table border=\"1\" class=\"dataframe\">\n",
       "  <thead>\n",
       "    <tr style=\"text-align: right;\">\n",
       "      <th></th>\n",
       "      <th>country</th>\n",
       "      <th>country_fixed</th>\n",
       "      <th>region</th>\n",
       "    </tr>\n",
       "  </thead>\n",
       "  <tbody>\n",
       "    <tr>\n",
       "      <th>0</th>\n",
       "      <td>Uzbekistan</td>\n",
       "      <td>Uzbekistan</td>\n",
       "      <td>CIS</td>\n",
       "    </tr>\n",
       "    <tr>\n",
       "      <th>1</th>\n",
       "      <td>Tuvalu</td>\n",
       "      <td>Tuvalu</td>\n",
       "      <td>Asia &amp; Pacific</td>\n",
       "    </tr>\n",
       "    <tr>\n",
       "      <th>2</th>\n",
       "      <td>Estonia</td>\n",
       "      <td>Estonia</td>\n",
       "      <td>Europe</td>\n",
       "    </tr>\n",
       "    <tr>\n",
       "      <th>3</th>\n",
       "      <td>Papua New Guinea</td>\n",
       "      <td>Papua New Guinea</td>\n",
       "      <td>Asia &amp; Pacific</td>\n",
       "    </tr>\n",
       "    <tr>\n",
       "      <th>4</th>\n",
       "      <td>Slovakia</td>\n",
       "      <td>Slovakia</td>\n",
       "      <td>Europe</td>\n",
       "    </tr>\n",
       "  </tbody>\n",
       "</table>\n",
       "</div>"
      ],
      "text/plain": [
       "            country     country_fixed          region\n",
       "0        Uzbekistan        Uzbekistan             CIS\n",
       "1            Tuvalu            Tuvalu  Asia & Pacific\n",
       "2           Estonia           Estonia          Europe\n",
       "3  Papua New Guinea  Papua New Guinea  Asia & Pacific\n",
       "4          Slovakia          Slovakia          Europe"
      ]
     },
     "execution_count": 66,
     "metadata": {},
     "output_type": "execute_result"
    }
   ],
   "source": [
    "country_list = pd.read_csv('country_list_clean.csv')\n",
    "country_list.head()"
   ]
  },
  {
   "cell_type": "code",
   "execution_count": 67,
   "metadata": {},
   "outputs": [
    {
     "name": "stdout",
     "output_type": "stream",
     "text": [
      "Dimensions - Original Country List: (261, 1)\n",
      "Dimensions - Cleaned Country List: (261, 3)\n"
     ]
    }
   ],
   "source": [
    "# Check that same number of records exist in both country lists\n",
    "\n",
    "print('Dimensions - Original Country List: {}\\nDimensions - Cleaned Country List: {}'.\n",
    "      format(pd.DataFrame(df.country.value_counts()).shape, country_list.shape))"
   ]
  },
  {
   "cell_type": "code",
   "execution_count": 68,
   "metadata": {},
   "outputs": [
    {
     "data": {
      "text/html": [
       "<div>\n",
       "<style scoped>\n",
       "    .dataframe tbody tr th:only-of-type {\n",
       "        vertical-align: middle;\n",
       "    }\n",
       "\n",
       "    .dataframe tbody tr th {\n",
       "        vertical-align: top;\n",
       "    }\n",
       "\n",
       "    .dataframe thead th {\n",
       "        text-align: right;\n",
       "    }\n",
       "</style>\n",
       "<table border=\"1\" class=\"dataframe\">\n",
       "  <thead>\n",
       "    <tr style=\"text-align: right;\">\n",
       "      <th></th>\n",
       "      <th>country</th>\n",
       "      <th>year</th>\n",
       "      <th>cpi_score</th>\n",
       "      <th>infant_mortality_rate</th>\n",
       "      <th>literacy_rate</th>\n",
       "      <th>gini_index</th>\n",
       "      <th>poverty_index</th>\n",
       "      <th>gdp_per_capita</th>\n",
       "      <th>country_fixed</th>\n",
       "      <th>region</th>\n",
       "    </tr>\n",
       "  </thead>\n",
       "  <tbody>\n",
       "    <tr>\n",
       "      <th>0</th>\n",
       "      <td>New Zealand</td>\n",
       "      <td>2008</td>\n",
       "      <td>9.4</td>\n",
       "      <td>5.3</td>\n",
       "      <td>NaN</td>\n",
       "      <td>NaN</td>\n",
       "      <td>NaN</td>\n",
       "      <td>15011.18385</td>\n",
       "      <td>New Zealand</td>\n",
       "      <td>Asia &amp; Pacific</td>\n",
       "    </tr>\n",
       "    <tr>\n",
       "      <th>1</th>\n",
       "      <td>Denmark</td>\n",
       "      <td>2008</td>\n",
       "      <td>9.3</td>\n",
       "      <td>3.6</td>\n",
       "      <td>NaN</td>\n",
       "      <td>25.2</td>\n",
       "      <td>NaN</td>\n",
       "      <td>32320.10054</td>\n",
       "      <td>Denmark</td>\n",
       "      <td>Europe</td>\n",
       "    </tr>\n",
       "    <tr>\n",
       "      <th>2</th>\n",
       "      <td>Sweden</td>\n",
       "      <td>2008</td>\n",
       "      <td>9.2</td>\n",
       "      <td>2.6</td>\n",
       "      <td>NaN</td>\n",
       "      <td>26.8</td>\n",
       "      <td>NaN</td>\n",
       "      <td>32798.73425</td>\n",
       "      <td>Sweden</td>\n",
       "      <td>Europe</td>\n",
       "    </tr>\n",
       "    <tr>\n",
       "      <th>3</th>\n",
       "      <td>Singapore</td>\n",
       "      <td>2008</td>\n",
       "      <td>9.2</td>\n",
       "      <td>2.2</td>\n",
       "      <td>NaN</td>\n",
       "      <td>NaN</td>\n",
       "      <td>NaN</td>\n",
       "      <td>30131.61718</td>\n",
       "      <td>Singapore</td>\n",
       "      <td>Asia &amp; Pacific</td>\n",
       "    </tr>\n",
       "    <tr>\n",
       "      <th>4</th>\n",
       "      <td>Switzerland</td>\n",
       "      <td>2008</td>\n",
       "      <td>9.0</td>\n",
       "      <td>4.0</td>\n",
       "      <td>NaN</td>\n",
       "      <td>33.8</td>\n",
       "      <td>NaN</td>\n",
       "      <td>39324.73112</td>\n",
       "      <td>Switzerland</td>\n",
       "      <td>Europe</td>\n",
       "    </tr>\n",
       "  </tbody>\n",
       "</table>\n",
       "</div>"
      ],
      "text/plain": [
       "       country  year  cpi_score  infant_mortality_rate  literacy_rate  \\\n",
       "0  New Zealand  2008        9.4                    5.3            NaN   \n",
       "1      Denmark  2008        9.3                    3.6            NaN   \n",
       "2       Sweden  2008        9.2                    2.6            NaN   \n",
       "3    Singapore  2008        9.2                    2.2            NaN   \n",
       "4  Switzerland  2008        9.0                    4.0            NaN   \n",
       "\n",
       "   gini_index  poverty_index  gdp_per_capita country_fixed          region  \n",
       "0         NaN            NaN     15011.18385   New Zealand  Asia & Pacific  \n",
       "1        25.2            NaN     32320.10054       Denmark          Europe  \n",
       "2        26.8            NaN     32798.73425        Sweden          Europe  \n",
       "3         NaN            NaN     30131.61718     Singapore  Asia & Pacific  \n",
       "4        33.8            NaN     39324.73112   Switzerland          Europe  "
      ]
     },
     "execution_count": 68,
     "metadata": {},
     "output_type": "execute_result"
    }
   ],
   "source": [
    "# Import columns into analysis dataframe\n",
    "df = pd.merge(df, country_list, how='left', left_on='country', right_on='country')\n",
    "df.head()"
   ]
  },
  {
   "cell_type": "code",
   "execution_count": 69,
   "metadata": {},
   "outputs": [],
   "source": [
    "# Take a copy of the dataframe, and perfom cleaning in this copy\n",
    "df_clean = df.copy()"
   ]
  },
  {
   "cell_type": "markdown",
   "metadata": {},
   "source": [
    "One of the actions we performed in building a clean country list was to identify non-country records in our original data. These 'countries' have been marked as 'DELETE' in the country_fixed column of our cleaned data, so as to easily identify them for removal.\n",
    "\n",
    "We will now display and then remove these records."
   ]
  },
  {
   "cell_type": "code",
   "execution_count": 70,
   "metadata": {},
   "outputs": [
    {
     "data": {
      "text/html": [
       "<div>\n",
       "<style scoped>\n",
       "    .dataframe tbody tr th:only-of-type {\n",
       "        vertical-align: middle;\n",
       "    }\n",
       "\n",
       "    .dataframe tbody tr th {\n",
       "        vertical-align: top;\n",
       "    }\n",
       "\n",
       "    .dataframe thead th {\n",
       "        text-align: right;\n",
       "    }\n",
       "</style>\n",
       "<table border=\"1\" class=\"dataframe\">\n",
       "  <thead>\n",
       "    <tr style=\"text-align: right;\">\n",
       "      <th></th>\n",
       "      <th>country</th>\n",
       "      <th>year</th>\n",
       "      <th>cpi_score</th>\n",
       "      <th>infant_mortality_rate</th>\n",
       "      <th>literacy_rate</th>\n",
       "      <th>gini_index</th>\n",
       "      <th>poverty_index</th>\n",
       "      <th>gdp_per_capita</th>\n",
       "      <th>country_fixed</th>\n",
       "      <th>region</th>\n",
       "    </tr>\n",
       "  </thead>\n",
       "  <tbody>\n",
       "    <tr>\n",
       "      <th>1070</th>\n",
       "      <td>East Asia &amp; Pacific</td>\n",
       "      <td>2011</td>\n",
       "      <td>NaN</td>\n",
       "      <td>NaN</td>\n",
       "      <td>NaN</td>\n",
       "      <td>NaN</td>\n",
       "      <td>8.6</td>\n",
       "      <td>NaN</td>\n",
       "      <td>DELETE</td>\n",
       "      <td>NaN</td>\n",
       "    </tr>\n",
       "    <tr>\n",
       "      <th>1072</th>\n",
       "      <td>Fragile and conflict affected situations</td>\n",
       "      <td>2011</td>\n",
       "      <td>NaN</td>\n",
       "      <td>NaN</td>\n",
       "      <td>NaN</td>\n",
       "      <td>NaN</td>\n",
       "      <td>36.9</td>\n",
       "      <td>NaN</td>\n",
       "      <td>DELETE</td>\n",
       "      <td>NaN</td>\n",
       "    </tr>\n",
       "    <tr>\n",
       "      <th>1073</th>\n",
       "      <td>High income</td>\n",
       "      <td>2011</td>\n",
       "      <td>NaN</td>\n",
       "      <td>NaN</td>\n",
       "      <td>NaN</td>\n",
       "      <td>NaN</td>\n",
       "      <td>0.6</td>\n",
       "      <td>NaN</td>\n",
       "      <td>DELETE</td>\n",
       "      <td>NaN</td>\n",
       "    </tr>\n",
       "    <tr>\n",
       "      <th>1074</th>\n",
       "      <td>IDA total</td>\n",
       "      <td>2011</td>\n",
       "      <td>NaN</td>\n",
       "      <td>NaN</td>\n",
       "      <td>NaN</td>\n",
       "      <td>NaN</td>\n",
       "      <td>34.1</td>\n",
       "      <td>NaN</td>\n",
       "      <td>DELETE</td>\n",
       "      <td>NaN</td>\n",
       "    </tr>\n",
       "    <tr>\n",
       "      <th>1075</th>\n",
       "      <td>Latin America &amp; Caribbean</td>\n",
       "      <td>2011</td>\n",
       "      <td>NaN</td>\n",
       "      <td>NaN</td>\n",
       "      <td>NaN</td>\n",
       "      <td>NaN</td>\n",
       "      <td>5.6</td>\n",
       "      <td>NaN</td>\n",
       "      <td>DELETE</td>\n",
       "      <td>NaN</td>\n",
       "    </tr>\n",
       "    <tr>\n",
       "      <th>1076</th>\n",
       "      <td>Low income</td>\n",
       "      <td>2011</td>\n",
       "      <td>NaN</td>\n",
       "      <td>NaN</td>\n",
       "      <td>NaN</td>\n",
       "      <td>NaN</td>\n",
       "      <td>50.5</td>\n",
       "      <td>NaN</td>\n",
       "      <td>DELETE</td>\n",
       "      <td>NaN</td>\n",
       "    </tr>\n",
       "    <tr>\n",
       "      <th>1077</th>\n",
       "      <td>Lower middle income</td>\n",
       "      <td>2011</td>\n",
       "      <td>NaN</td>\n",
       "      <td>NaN</td>\n",
       "      <td>NaN</td>\n",
       "      <td>NaN</td>\n",
       "      <td>19.6</td>\n",
       "      <td>NaN</td>\n",
       "      <td>DELETE</td>\n",
       "      <td>NaN</td>\n",
       "    </tr>\n",
       "    <tr>\n",
       "      <th>1078</th>\n",
       "      <td>Low &amp; middle income</td>\n",
       "      <td>2011</td>\n",
       "      <td>NaN</td>\n",
       "      <td>NaN</td>\n",
       "      <td>NaN</td>\n",
       "      <td>NaN</td>\n",
       "      <td>16.4</td>\n",
       "      <td>NaN</td>\n",
       "      <td>DELETE</td>\n",
       "      <td>NaN</td>\n",
       "    </tr>\n",
       "    <tr>\n",
       "      <th>1079</th>\n",
       "      <td>Middle East &amp; North Africa</td>\n",
       "      <td>2011</td>\n",
       "      <td>NaN</td>\n",
       "      <td>NaN</td>\n",
       "      <td>NaN</td>\n",
       "      <td>NaN</td>\n",
       "      <td>2.7</td>\n",
       "      <td>NaN</td>\n",
       "      <td>DELETE</td>\n",
       "      <td>NaN</td>\n",
       "    </tr>\n",
       "    <tr>\n",
       "      <th>1080</th>\n",
       "      <td>South Asia</td>\n",
       "      <td>2011</td>\n",
       "      <td>NaN</td>\n",
       "      <td>NaN</td>\n",
       "      <td>NaN</td>\n",
       "      <td>NaN</td>\n",
       "      <td>20.1</td>\n",
       "      <td>NaN</td>\n",
       "      <td>DELETE</td>\n",
       "      <td>NaN</td>\n",
       "    </tr>\n",
       "    <tr>\n",
       "      <th>1081</th>\n",
       "      <td>Sub-Saharan Africa</td>\n",
       "      <td>2011</td>\n",
       "      <td>NaN</td>\n",
       "      <td>NaN</td>\n",
       "      <td>NaN</td>\n",
       "      <td>NaN</td>\n",
       "      <td>44.9</td>\n",
       "      <td>NaN</td>\n",
       "      <td>DELETE</td>\n",
       "      <td>NaN</td>\n",
       "    </tr>\n",
       "    <tr>\n",
       "      <th>1082</th>\n",
       "      <td>Upper middle income</td>\n",
       "      <td>2011</td>\n",
       "      <td>NaN</td>\n",
       "      <td>NaN</td>\n",
       "      <td>NaN</td>\n",
       "      <td>NaN</td>\n",
       "      <td>5.7</td>\n",
       "      <td>NaN</td>\n",
       "      <td>DELETE</td>\n",
       "      <td>NaN</td>\n",
       "    </tr>\n",
       "    <tr>\n",
       "      <th>1083</th>\n",
       "      <td>World</td>\n",
       "      <td>2011</td>\n",
       "      <td>NaN</td>\n",
       "      <td>NaN</td>\n",
       "      <td>NaN</td>\n",
       "      <td>NaN</td>\n",
       "      <td>13.8</td>\n",
       "      <td>NaN</td>\n",
       "      <td>DELETE</td>\n",
       "      <td>NaN</td>\n",
       "    </tr>\n",
       "  </tbody>\n",
       "</table>\n",
       "</div>"
      ],
      "text/plain": [
       "                                       country  year  cpi_score  \\\n",
       "1070                       East Asia & Pacific  2011        NaN   \n",
       "1072  Fragile and conflict affected situations  2011        NaN   \n",
       "1073                               High income  2011        NaN   \n",
       "1074                                 IDA total  2011        NaN   \n",
       "1075                 Latin America & Caribbean  2011        NaN   \n",
       "1076                                Low income  2011        NaN   \n",
       "1077                       Lower middle income  2011        NaN   \n",
       "1078                       Low & middle income  2011        NaN   \n",
       "1079                Middle East & North Africa  2011        NaN   \n",
       "1080                                South Asia  2011        NaN   \n",
       "1081                        Sub-Saharan Africa  2011        NaN   \n",
       "1082                       Upper middle income  2011        NaN   \n",
       "1083                                     World  2011        NaN   \n",
       "\n",
       "      infant_mortality_rate  literacy_rate  gini_index  poverty_index  \\\n",
       "1070                    NaN            NaN         NaN            8.6   \n",
       "1072                    NaN            NaN         NaN           36.9   \n",
       "1073                    NaN            NaN         NaN            0.6   \n",
       "1074                    NaN            NaN         NaN           34.1   \n",
       "1075                    NaN            NaN         NaN            5.6   \n",
       "1076                    NaN            NaN         NaN           50.5   \n",
       "1077                    NaN            NaN         NaN           19.6   \n",
       "1078                    NaN            NaN         NaN           16.4   \n",
       "1079                    NaN            NaN         NaN            2.7   \n",
       "1080                    NaN            NaN         NaN           20.1   \n",
       "1081                    NaN            NaN         NaN           44.9   \n",
       "1082                    NaN            NaN         NaN            5.7   \n",
       "1083                    NaN            NaN         NaN           13.8   \n",
       "\n",
       "      gdp_per_capita country_fixed region  \n",
       "1070             NaN        DELETE    NaN  \n",
       "1072             NaN        DELETE    NaN  \n",
       "1073             NaN        DELETE    NaN  \n",
       "1074             NaN        DELETE    NaN  \n",
       "1075             NaN        DELETE    NaN  \n",
       "1076             NaN        DELETE    NaN  \n",
       "1077             NaN        DELETE    NaN  \n",
       "1078             NaN        DELETE    NaN  \n",
       "1079             NaN        DELETE    NaN  \n",
       "1080             NaN        DELETE    NaN  \n",
       "1081             NaN        DELETE    NaN  \n",
       "1082             NaN        DELETE    NaN  \n",
       "1083             NaN        DELETE    NaN  "
      ]
     },
     "execution_count": 70,
     "metadata": {},
     "output_type": "execute_result"
    }
   ],
   "source": [
    "# List records for non-country entities, which have been identified with \"DELETE\" \n",
    "#   in 'country_fixed' column\n",
    "\n",
    "df_clean.query('country_fixed == \"DELETE\"')"
   ]
  },
  {
   "cell_type": "code",
   "execution_count": 71,
   "metadata": {},
   "outputs": [],
   "source": [
    "# Remove records\n",
    "\n",
    "df_clean = df_clean.query('country_fixed != \"DELETE\"')"
   ]
  },
  {
   "cell_type": "code",
   "execution_count": 72,
   "metadata": {},
   "outputs": [
    {
     "data": {
      "text/html": [
       "<div>\n",
       "<style scoped>\n",
       "    .dataframe tbody tr th:only-of-type {\n",
       "        vertical-align: middle;\n",
       "    }\n",
       "\n",
       "    .dataframe tbody tr th {\n",
       "        vertical-align: top;\n",
       "    }\n",
       "\n",
       "    .dataframe thead th {\n",
       "        text-align: right;\n",
       "    }\n",
       "</style>\n",
       "<table border=\"1\" class=\"dataframe\">\n",
       "  <thead>\n",
       "    <tr style=\"text-align: right;\">\n",
       "      <th></th>\n",
       "      <th>country</th>\n",
       "      <th>year</th>\n",
       "      <th>cpi_score</th>\n",
       "      <th>infant_mortality_rate</th>\n",
       "      <th>literacy_rate</th>\n",
       "      <th>gini_index</th>\n",
       "      <th>poverty_index</th>\n",
       "      <th>gdp_per_capita</th>\n",
       "      <th>country_fixed</th>\n",
       "      <th>region</th>\n",
       "    </tr>\n",
       "  </thead>\n",
       "  <tbody>\n",
       "  </tbody>\n",
       "</table>\n",
       "</div>"
      ],
      "text/plain": [
       "Empty DataFrame\n",
       "Columns: [country, year, cpi_score, infant_mortality_rate, literacy_rate, gini_index, poverty_index, gdp_per_capita, country_fixed, region]\n",
       "Index: []"
      ]
     },
     "execution_count": 72,
     "metadata": {},
     "output_type": "execute_result"
    }
   ],
   "source": [
    "# Check records no longer exist\n",
    "\n",
    "df_clean.query('country_fixed ==\"DELETE\"')"
   ]
  },
  {
   "cell_type": "markdown",
   "metadata": {},
   "source": [
    "Deletion of non-country records was successful.\n",
    "\n",
    "Next, let's look at instances where same countries have different spellings. Examples we spotted earlier are 'Kuwait vs Kuweit', and 'Russia vs Russian Federation'. Our manual check uncovered many more. In cells below however, let us display name anomalies for Kuwait and Russian Federation."
   ]
  },
  {
   "cell_type": "code",
   "execution_count": 73,
   "metadata": {},
   "outputs": [
    {
     "data": {
      "text/html": [
       "<div>\n",
       "<style scoped>\n",
       "    .dataframe tbody tr th:only-of-type {\n",
       "        vertical-align: middle;\n",
       "    }\n",
       "\n",
       "    .dataframe tbody tr th {\n",
       "        vertical-align: top;\n",
       "    }\n",
       "\n",
       "    .dataframe thead th {\n",
       "        text-align: right;\n",
       "    }\n",
       "</style>\n",
       "<table border=\"1\" class=\"dataframe\">\n",
       "  <thead>\n",
       "    <tr style=\"text-align: right;\">\n",
       "      <th></th>\n",
       "      <th>country</th>\n",
       "      <th>year</th>\n",
       "      <th>cpi_score</th>\n",
       "      <th>infant_mortality_rate</th>\n",
       "      <th>literacy_rate</th>\n",
       "      <th>gini_index</th>\n",
       "      <th>poverty_index</th>\n",
       "      <th>gdp_per_capita</th>\n",
       "      <th>country_fixed</th>\n",
       "      <th>region</th>\n",
       "    </tr>\n",
       "  </thead>\n",
       "  <tbody>\n",
       "    <tr>\n",
       "      <th>65</th>\n",
       "      <td>Kuwait</td>\n",
       "      <td>2008</td>\n",
       "      <td>4.1</td>\n",
       "      <td>9.7</td>\n",
       "      <td>93.906206</td>\n",
       "      <td>NaN</td>\n",
       "      <td>NaN</td>\n",
       "      <td>25308.08492</td>\n",
       "      <td>Kuwait</td>\n",
       "      <td>Arab States</td>\n",
       "    </tr>\n",
       "    <tr>\n",
       "      <th>242</th>\n",
       "      <td>Kuwait</td>\n",
       "      <td>2009</td>\n",
       "      <td>4.5</td>\n",
       "      <td>9.5</td>\n",
       "      <td>NaN</td>\n",
       "      <td>NaN</td>\n",
       "      <td>NaN</td>\n",
       "      <td>23116.34061</td>\n",
       "      <td>Kuwait</td>\n",
       "      <td>Arab States</td>\n",
       "    </tr>\n",
       "    <tr>\n",
       "      <th>415</th>\n",
       "      <td>Kuweit</td>\n",
       "      <td>2007</td>\n",
       "      <td>4.3</td>\n",
       "      <td>NaN</td>\n",
       "      <td>NaN</td>\n",
       "      <td>NaN</td>\n",
       "      <td>NaN</td>\n",
       "      <td>NaN</td>\n",
       "      <td>Kuwait</td>\n",
       "      <td>Arab States</td>\n",
       "    </tr>\n",
       "    <tr>\n",
       "      <th>589</th>\n",
       "      <td>Kuwait</td>\n",
       "      <td>2010</td>\n",
       "      <td>4.5</td>\n",
       "      <td>9.2</td>\n",
       "      <td>NaN</td>\n",
       "      <td>NaN</td>\n",
       "      <td>NaN</td>\n",
       "      <td>23114.58667</td>\n",
       "      <td>Kuwait</td>\n",
       "      <td>Arab States</td>\n",
       "    </tr>\n",
       "    <tr>\n",
       "      <th>768</th>\n",
       "      <td>Kuwait</td>\n",
       "      <td>2011</td>\n",
       "      <td>4.6</td>\n",
       "      <td>8.9</td>\n",
       "      <td>NaN</td>\n",
       "      <td>NaN</td>\n",
       "      <td>NaN</td>\n",
       "      <td>24286.11580</td>\n",
       "      <td>Kuwait</td>\n",
       "      <td>Arab States</td>\n",
       "    </tr>\n",
       "    <tr>\n",
       "      <th>908</th>\n",
       "      <td>Kuwait</td>\n",
       "      <td>2007</td>\n",
       "      <td>NaN</td>\n",
       "      <td>9.8</td>\n",
       "      <td>93.664185</td>\n",
       "      <td>NaN</td>\n",
       "      <td>NaN</td>\n",
       "      <td>25100.02810</td>\n",
       "      <td>Kuwait</td>\n",
       "      <td>Arab States</td>\n",
       "    </tr>\n",
       "  </tbody>\n",
       "</table>\n",
       "</div>"
      ],
      "text/plain": [
       "    country  year  cpi_score  infant_mortality_rate  literacy_rate  \\\n",
       "65   Kuwait  2008        4.1                    9.7      93.906206   \n",
       "242  Kuwait  2009        4.5                    9.5            NaN   \n",
       "415  Kuweit  2007        4.3                    NaN            NaN   \n",
       "589  Kuwait  2010        4.5                    9.2            NaN   \n",
       "768  Kuwait  2011        4.6                    8.9            NaN   \n",
       "908  Kuwait  2007        NaN                    9.8      93.664185   \n",
       "\n",
       "     gini_index  poverty_index  gdp_per_capita country_fixed       region  \n",
       "65          NaN            NaN     25308.08492        Kuwait  Arab States  \n",
       "242         NaN            NaN     23116.34061        Kuwait  Arab States  \n",
       "415         NaN            NaN             NaN        Kuwait  Arab States  \n",
       "589         NaN            NaN     23114.58667        Kuwait  Arab States  \n",
       "768         NaN            NaN     24286.11580        Kuwait  Arab States  \n",
       "908         NaN            NaN     25100.02810        Kuwait  Arab States  "
      ]
     },
     "execution_count": 73,
     "metadata": {},
     "output_type": "execute_result"
    }
   ],
   "source": [
    "# Using earlier example of 'Kuwait' or 'Kuweit'\n",
    "\n",
    "a1 = 'kuweit'\n",
    "a2 = 'kuwait'\n",
    "\n",
    "df.query('country.str.lower() == @a1 or country.str.lower() == @a2')"
   ]
  },
  {
   "cell_type": "code",
   "execution_count": 74,
   "metadata": {
    "scrolled": true
   },
   "outputs": [
    {
     "data": {
      "text/html": [
       "<div>\n",
       "<style scoped>\n",
       "    .dataframe tbody tr th:only-of-type {\n",
       "        vertical-align: middle;\n",
       "    }\n",
       "\n",
       "    .dataframe tbody tr th {\n",
       "        vertical-align: top;\n",
       "    }\n",
       "\n",
       "    .dataframe thead th {\n",
       "        text-align: right;\n",
       "    }\n",
       "</style>\n",
       "<table border=\"1\" class=\"dataframe\">\n",
       "  <thead>\n",
       "    <tr style=\"text-align: right;\">\n",
       "      <th></th>\n",
       "      <th>country</th>\n",
       "      <th>year</th>\n",
       "      <th>cpi_score</th>\n",
       "      <th>infant_mortality_rate</th>\n",
       "      <th>literacy_rate</th>\n",
       "      <th>gini_index</th>\n",
       "      <th>poverty_index</th>\n",
       "      <th>gdp_per_capita</th>\n",
       "      <th>country_fixed</th>\n",
       "      <th>region</th>\n",
       "    </tr>\n",
       "  </thead>\n",
       "  <tbody>\n",
       "    <tr>\n",
       "      <th>146</th>\n",
       "      <td>Russia</td>\n",
       "      <td>2008</td>\n",
       "      <td>2.2</td>\n",
       "      <td>11.6</td>\n",
       "      <td>NaN</td>\n",
       "      <td>NaN</td>\n",
       "      <td>NaN</td>\n",
       "      <td>3043.665599</td>\n",
       "      <td>Russian Federation</td>\n",
       "      <td>Europe</td>\n",
       "    </tr>\n",
       "    <tr>\n",
       "      <th>322</th>\n",
       "      <td>Russia</td>\n",
       "      <td>2009</td>\n",
       "      <td>2.1</td>\n",
       "      <td>10.9</td>\n",
       "      <td>NaN</td>\n",
       "      <td>NaN</td>\n",
       "      <td>NaN</td>\n",
       "      <td>2806.414830</td>\n",
       "      <td>Russian Federation</td>\n",
       "      <td>Europe</td>\n",
       "    </tr>\n",
       "    <tr>\n",
       "      <th>500</th>\n",
       "      <td>Russia</td>\n",
       "      <td>2007</td>\n",
       "      <td>2.3</td>\n",
       "      <td>12.4</td>\n",
       "      <td>NaN</td>\n",
       "      <td>NaN</td>\n",
       "      <td>NaN</td>\n",
       "      <td>2888.847355</td>\n",
       "      <td>Russian Federation</td>\n",
       "      <td>Europe</td>\n",
       "    </tr>\n",
       "    <tr>\n",
       "      <th>697</th>\n",
       "      <td>Russia</td>\n",
       "      <td>2010</td>\n",
       "      <td>2.1</td>\n",
       "      <td>10.3</td>\n",
       "      <td>99.684267</td>\n",
       "      <td>NaN</td>\n",
       "      <td>NaN</td>\n",
       "      <td>2928.005033</td>\n",
       "      <td>Russian Federation</td>\n",
       "      <td>Europe</td>\n",
       "    </tr>\n",
       "    <tr>\n",
       "      <th>861</th>\n",
       "      <td>Russia</td>\n",
       "      <td>2011</td>\n",
       "      <td>2.4</td>\n",
       "      <td>9.8</td>\n",
       "      <td>NaN</td>\n",
       "      <td>NaN</td>\n",
       "      <td>NaN</td>\n",
       "      <td>3054.727742</td>\n",
       "      <td>Russian Federation</td>\n",
       "      <td>Europe</td>\n",
       "    </tr>\n",
       "    <tr>\n",
       "      <th>1058</th>\n",
       "      <td>Russian Federation</td>\n",
       "      <td>2007</td>\n",
       "      <td>NaN</td>\n",
       "      <td>NaN</td>\n",
       "      <td>NaN</td>\n",
       "      <td>42.3</td>\n",
       "      <td>NaN</td>\n",
       "      <td>NaN</td>\n",
       "      <td>Russian Federation</td>\n",
       "      <td>Europe</td>\n",
       "    </tr>\n",
       "    <tr>\n",
       "      <th>1061</th>\n",
       "      <td>Russian Federation</td>\n",
       "      <td>2008</td>\n",
       "      <td>NaN</td>\n",
       "      <td>NaN</td>\n",
       "      <td>NaN</td>\n",
       "      <td>41.6</td>\n",
       "      <td>NaN</td>\n",
       "      <td>NaN</td>\n",
       "      <td>Russian Federation</td>\n",
       "      <td>Europe</td>\n",
       "    </tr>\n",
       "    <tr>\n",
       "      <th>1063</th>\n",
       "      <td>Russian Federation</td>\n",
       "      <td>2009</td>\n",
       "      <td>NaN</td>\n",
       "      <td>NaN</td>\n",
       "      <td>NaN</td>\n",
       "      <td>39.8</td>\n",
       "      <td>NaN</td>\n",
       "      <td>NaN</td>\n",
       "      <td>Russian Federation</td>\n",
       "      <td>Europe</td>\n",
       "    </tr>\n",
       "    <tr>\n",
       "      <th>1068</th>\n",
       "      <td>Russian Federation</td>\n",
       "      <td>2010</td>\n",
       "      <td>NaN</td>\n",
       "      <td>NaN</td>\n",
       "      <td>NaN</td>\n",
       "      <td>39.5</td>\n",
       "      <td>NaN</td>\n",
       "      <td>NaN</td>\n",
       "      <td>Russian Federation</td>\n",
       "      <td>Europe</td>\n",
       "    </tr>\n",
       "    <tr>\n",
       "      <th>1069</th>\n",
       "      <td>Russian Federation</td>\n",
       "      <td>2011</td>\n",
       "      <td>NaN</td>\n",
       "      <td>NaN</td>\n",
       "      <td>NaN</td>\n",
       "      <td>39.7</td>\n",
       "      <td>0.0</td>\n",
       "      <td>NaN</td>\n",
       "      <td>Russian Federation</td>\n",
       "      <td>Europe</td>\n",
       "    </tr>\n",
       "  </tbody>\n",
       "</table>\n",
       "</div>"
      ],
      "text/plain": [
       "                 country  year  cpi_score  infant_mortality_rate  \\\n",
       "146               Russia  2008        2.2                   11.6   \n",
       "322               Russia  2009        2.1                   10.9   \n",
       "500               Russia  2007        2.3                   12.4   \n",
       "697               Russia  2010        2.1                   10.3   \n",
       "861               Russia  2011        2.4                    9.8   \n",
       "1058  Russian Federation  2007        NaN                    NaN   \n",
       "1061  Russian Federation  2008        NaN                    NaN   \n",
       "1063  Russian Federation  2009        NaN                    NaN   \n",
       "1068  Russian Federation  2010        NaN                    NaN   \n",
       "1069  Russian Federation  2011        NaN                    NaN   \n",
       "\n",
       "      literacy_rate  gini_index  poverty_index  gdp_per_capita  \\\n",
       "146             NaN         NaN            NaN     3043.665599   \n",
       "322             NaN         NaN            NaN     2806.414830   \n",
       "500             NaN         NaN            NaN     2888.847355   \n",
       "697       99.684267         NaN            NaN     2928.005033   \n",
       "861             NaN         NaN            NaN     3054.727742   \n",
       "1058            NaN        42.3            NaN             NaN   \n",
       "1061            NaN        41.6            NaN             NaN   \n",
       "1063            NaN        39.8            NaN             NaN   \n",
       "1068            NaN        39.5            NaN             NaN   \n",
       "1069            NaN        39.7            0.0             NaN   \n",
       "\n",
       "           country_fixed  region  \n",
       "146   Russian Federation  Europe  \n",
       "322   Russian Federation  Europe  \n",
       "500   Russian Federation  Europe  \n",
       "697   Russian Federation  Europe  \n",
       "861   Russian Federation  Europe  \n",
       "1058  Russian Federation  Europe  \n",
       "1061  Russian Federation  Europe  \n",
       "1063  Russian Federation  Europe  \n",
       "1068  Russian Federation  Europe  \n",
       "1069  Russian Federation  Europe  "
      ]
     },
     "execution_count": 74,
     "metadata": {},
     "output_type": "execute_result"
    }
   ],
   "source": [
    "# Using the earlier seen 'Russia' vs 'Russian Federation' example\n",
    "\n",
    "a3 = 'russia'\n",
    "a4 = 'russian federation'\n",
    "df_clean.query('country.str.lower() == @a3 or country.str.lower() == @a4')"
   ]
  },
  {
   "cell_type": "markdown",
   "metadata": {},
   "source": [
    "Column 'country_fixed' contains the correct country names. \n",
    "\n",
    "However, our comparison metrics are split across variants of country spellings in 'country' column. How many rows are duplicated in this way?"
   ]
  },
  {
   "cell_type": "code",
   "execution_count": 75,
   "metadata": {
    "scrolled": true
   },
   "outputs": [
    {
     "data": {
      "text/plain": [
       "False    1023\n",
       "True       68\n",
       "dtype: int64"
      ]
     },
     "execution_count": 75,
     "metadata": {},
     "output_type": "execute_result"
    }
   ],
   "source": [
    "# Number of rows with duplicates on 'country_fixed' and 'year' columns\n",
    "\n",
    "df_clean.duplicated(['country_fixed','year']).value_counts()"
   ]
  },
  {
   "cell_type": "markdown",
   "metadata": {},
   "source": [
    "We have 68 duplicates.\n",
    "\n",
    "Let us illustrate a single instance of this problem, using Russia data for 2008."
   ]
  },
  {
   "cell_type": "code",
   "execution_count": 76,
   "metadata": {},
   "outputs": [
    {
     "data": {
      "text/html": [
       "<div>\n",
       "<style scoped>\n",
       "    .dataframe tbody tr th:only-of-type {\n",
       "        vertical-align: middle;\n",
       "    }\n",
       "\n",
       "    .dataframe tbody tr th {\n",
       "        vertical-align: top;\n",
       "    }\n",
       "\n",
       "    .dataframe thead th {\n",
       "        text-align: right;\n",
       "    }\n",
       "</style>\n",
       "<table border=\"1\" class=\"dataframe\">\n",
       "  <thead>\n",
       "    <tr style=\"text-align: right;\">\n",
       "      <th></th>\n",
       "      <th>country</th>\n",
       "      <th>year</th>\n",
       "      <th>cpi_score</th>\n",
       "      <th>infant_mortality_rate</th>\n",
       "      <th>literacy_rate</th>\n",
       "      <th>gini_index</th>\n",
       "      <th>poverty_index</th>\n",
       "      <th>gdp_per_capita</th>\n",
       "      <th>country_fixed</th>\n",
       "      <th>region</th>\n",
       "    </tr>\n",
       "  </thead>\n",
       "  <tbody>\n",
       "    <tr>\n",
       "      <th>146</th>\n",
       "      <td>Russia</td>\n",
       "      <td>2008</td>\n",
       "      <td>2.2</td>\n",
       "      <td>11.6</td>\n",
       "      <td>NaN</td>\n",
       "      <td>NaN</td>\n",
       "      <td>NaN</td>\n",
       "      <td>3043.665599</td>\n",
       "      <td>Russian Federation</td>\n",
       "      <td>Europe</td>\n",
       "    </tr>\n",
       "    <tr>\n",
       "      <th>1061</th>\n",
       "      <td>Russian Federation</td>\n",
       "      <td>2008</td>\n",
       "      <td>NaN</td>\n",
       "      <td>NaN</td>\n",
       "      <td>NaN</td>\n",
       "      <td>41.6</td>\n",
       "      <td>NaN</td>\n",
       "      <td>NaN</td>\n",
       "      <td>Russian Federation</td>\n",
       "      <td>Europe</td>\n",
       "    </tr>\n",
       "  </tbody>\n",
       "</table>\n",
       "</div>"
      ],
      "text/plain": [
       "                 country  year  cpi_score  infant_mortality_rate  \\\n",
       "146               Russia  2008        2.2                   11.6   \n",
       "1061  Russian Federation  2008        NaN                    NaN   \n",
       "\n",
       "      literacy_rate  gini_index  poverty_index  gdp_per_capita  \\\n",
       "146             NaN         NaN            NaN     3043.665599   \n",
       "1061            NaN        41.6            NaN             NaN   \n",
       "\n",
       "           country_fixed  region  \n",
       "146   Russian Federation  Europe  \n",
       "1061  Russian Federation  Europe  "
      ]
     },
     "execution_count": 76,
     "metadata": {},
     "output_type": "execute_result"
    }
   ],
   "source": [
    "# Show records for Russia, 2008\n",
    "\n",
    "y = int(2008)\n",
    "df_clean.query('country_fixed.str.lower() == @a4 and year == @y')"
   ]
  },
  {
   "cell_type": "markdown",
   "metadata": {},
   "source": [
    "As observed earlier, records for Russia in year 2008 are split across two rows, 146 and 1061. All metrics for Russia in year 2008 need to appear in a single row. This principle applies to all similarly duplicated records.  \n",
    "\n",
    "We will use groupby() to consolidate values, using 'country_fixed', 'year' and 'region' as keys, and reset index to restore keys to columns."
   ]
  },
  {
   "cell_type": "code",
   "execution_count": 77,
   "metadata": {},
   "outputs": [
    {
     "data": {
      "text/html": [
       "<div>\n",
       "<style scoped>\n",
       "    .dataframe tbody tr th:only-of-type {\n",
       "        vertical-align: middle;\n",
       "    }\n",
       "\n",
       "    .dataframe tbody tr th {\n",
       "        vertical-align: top;\n",
       "    }\n",
       "\n",
       "    .dataframe thead th {\n",
       "        text-align: right;\n",
       "    }\n",
       "</style>\n",
       "<table border=\"1\" class=\"dataframe\">\n",
       "  <thead>\n",
       "    <tr style=\"text-align: right;\">\n",
       "      <th></th>\n",
       "      <th>country_fixed</th>\n",
       "      <th>year</th>\n",
       "      <th>region</th>\n",
       "      <th>cpi_score</th>\n",
       "      <th>infant_mortality_rate</th>\n",
       "      <th>literacy_rate</th>\n",
       "      <th>gini_index</th>\n",
       "      <th>poverty_index</th>\n",
       "      <th>gdp_per_capita</th>\n",
       "    </tr>\n",
       "  </thead>\n",
       "  <tbody>\n",
       "    <tr>\n",
       "      <th>0</th>\n",
       "      <td>Afghanistan</td>\n",
       "      <td>2007</td>\n",
       "      <td>Asia &amp; Pacific</td>\n",
       "      <td>1.8</td>\n",
       "      <td>80.4</td>\n",
       "      <td>0.0</td>\n",
       "      <td>0.0</td>\n",
       "      <td>0.0</td>\n",
       "      <td>0.00000</td>\n",
       "    </tr>\n",
       "    <tr>\n",
       "      <th>1</th>\n",
       "      <td>Afghanistan</td>\n",
       "      <td>2008</td>\n",
       "      <td>Asia &amp; Pacific</td>\n",
       "      <td>1.3</td>\n",
       "      <td>78.6</td>\n",
       "      <td>0.0</td>\n",
       "      <td>0.0</td>\n",
       "      <td>0.0</td>\n",
       "      <td>0.00000</td>\n",
       "    </tr>\n",
       "    <tr>\n",
       "      <th>2</th>\n",
       "      <td>Afghanistan</td>\n",
       "      <td>2009</td>\n",
       "      <td>Asia &amp; Pacific</td>\n",
       "      <td>1.4</td>\n",
       "      <td>76.8</td>\n",
       "      <td>0.0</td>\n",
       "      <td>0.0</td>\n",
       "      <td>0.0</td>\n",
       "      <td>0.00000</td>\n",
       "    </tr>\n",
       "    <tr>\n",
       "      <th>3</th>\n",
       "      <td>Afghanistan</td>\n",
       "      <td>2010</td>\n",
       "      <td>Asia &amp; Pacific</td>\n",
       "      <td>1.4</td>\n",
       "      <td>75.1</td>\n",
       "      <td>0.0</td>\n",
       "      <td>0.0</td>\n",
       "      <td>0.0</td>\n",
       "      <td>0.00000</td>\n",
       "    </tr>\n",
       "    <tr>\n",
       "      <th>4</th>\n",
       "      <td>Afghanistan</td>\n",
       "      <td>2011</td>\n",
       "      <td>Asia &amp; Pacific</td>\n",
       "      <td>1.5</td>\n",
       "      <td>73.4</td>\n",
       "      <td>39.0</td>\n",
       "      <td>0.0</td>\n",
       "      <td>0.0</td>\n",
       "      <td>0.00000</td>\n",
       "    </tr>\n",
       "    <tr>\n",
       "      <th>5</th>\n",
       "      <td>Albania</td>\n",
       "      <td>2007</td>\n",
       "      <td>Europe</td>\n",
       "      <td>2.9</td>\n",
       "      <td>16.7</td>\n",
       "      <td>0.0</td>\n",
       "      <td>0.0</td>\n",
       "      <td>0.0</td>\n",
       "      <td>1681.61391</td>\n",
       "    </tr>\n",
       "  </tbody>\n",
       "</table>\n",
       "</div>"
      ],
      "text/plain": [
       "  country_fixed  year          region  cpi_score  infant_mortality_rate  \\\n",
       "0   Afghanistan  2007  Asia & Pacific        1.8                   80.4   \n",
       "1   Afghanistan  2008  Asia & Pacific        1.3                   78.6   \n",
       "2   Afghanistan  2009  Asia & Pacific        1.4                   76.8   \n",
       "3   Afghanistan  2010  Asia & Pacific        1.4                   75.1   \n",
       "4   Afghanistan  2011  Asia & Pacific        1.5                   73.4   \n",
       "5       Albania  2007          Europe        2.9                   16.7   \n",
       "\n",
       "   literacy_rate  gini_index  poverty_index  gdp_per_capita  \n",
       "0            0.0         0.0            0.0         0.00000  \n",
       "1            0.0         0.0            0.0         0.00000  \n",
       "2            0.0         0.0            0.0         0.00000  \n",
       "3            0.0         0.0            0.0         0.00000  \n",
       "4           39.0         0.0            0.0         0.00000  \n",
       "5            0.0         0.0            0.0      1681.61391  "
      ]
     },
     "execution_count": 77,
     "metadata": {},
     "output_type": "execute_result"
    }
   ],
   "source": [
    "# Groupby to consolidate values\n",
    "df_clean = pd.DataFrame(df_clean.groupby(['country_fixed','year','region']).sum())\n",
    "\n",
    "#reset index, to restore country, year and region to columns\n",
    "df_clean.reset_index(level=df_clean.index.names, inplace=True)\n",
    "df_clean.head(6)"
   ]
  },
  {
   "cell_type": "code",
   "execution_count": 78,
   "metadata": {
    "scrolled": true
   },
   "outputs": [
    {
     "data": {
      "text/html": [
       "<div>\n",
       "<style scoped>\n",
       "    .dataframe tbody tr th:only-of-type {\n",
       "        vertical-align: middle;\n",
       "    }\n",
       "\n",
       "    .dataframe tbody tr th {\n",
       "        vertical-align: top;\n",
       "    }\n",
       "\n",
       "    .dataframe thead th {\n",
       "        text-align: right;\n",
       "    }\n",
       "</style>\n",
       "<table border=\"1\" class=\"dataframe\">\n",
       "  <thead>\n",
       "    <tr style=\"text-align: right;\">\n",
       "      <th></th>\n",
       "      <th>country_fixed</th>\n",
       "      <th>year</th>\n",
       "      <th>region</th>\n",
       "      <th>cpi_score</th>\n",
       "      <th>infant_mortality_rate</th>\n",
       "      <th>literacy_rate</th>\n",
       "      <th>gini_index</th>\n",
       "      <th>poverty_index</th>\n",
       "      <th>gdp_per_capita</th>\n",
       "    </tr>\n",
       "  </thead>\n",
       "  <tbody>\n",
       "    <tr>\n",
       "      <th>745</th>\n",
       "      <td>Russian Federation</td>\n",
       "      <td>2008</td>\n",
       "      <td>Europe</td>\n",
       "      <td>2.2</td>\n",
       "      <td>11.6</td>\n",
       "      <td>0.0</td>\n",
       "      <td>41.6</td>\n",
       "      <td>0.0</td>\n",
       "      <td>3043.665599</td>\n",
       "    </tr>\n",
       "  </tbody>\n",
       "</table>\n",
       "</div>"
      ],
      "text/plain": [
       "          country_fixed  year  region  cpi_score  infant_mortality_rate  \\\n",
       "745  Russian Federation  2008  Europe        2.2                   11.6   \n",
       "\n",
       "     literacy_rate  gini_index  poverty_index  gdp_per_capita  \n",
       "745            0.0        41.6            0.0     3043.665599  "
      ]
     },
     "execution_count": 78,
     "metadata": {},
     "output_type": "execute_result"
    }
   ],
   "source": [
    "# Check to confirm \"Russian Federation\" record is now correctly displayed\n",
    "\n",
    "y = int(2008)\n",
    "df_clean.query('country_fixed.str.lower() == @a4 and year == @y')"
   ]
  },
  {
   "cell_type": "code",
   "execution_count": 79,
   "metadata": {},
   "outputs": [
    {
     "data": {
      "text/plain": [
       "False    1021\n",
       "dtype: int64"
      ]
     },
     "execution_count": 79,
     "metadata": {},
     "output_type": "execute_result"
    }
   ],
   "source": [
    "# Check if any duplicates on 'country_fixed' and 'year' columns\n",
    "\n",
    "df_clean.duplicated(['country_fixed','year']).value_counts()"
   ]
  },
  {
   "cell_type": "markdown",
   "metadata": {},
   "source": [
    "We sucessfully used groupby() to ensure all metrics for each year, country and region combination appear on a single row, and then removed the resulting duplicated. We now have correct unique records per country and year. We have confirmed this by checking the record for Russia in 2008.\n",
    "\n",
    "Let us now rename the country_fixed column, and proceed with further checks."
   ]
  },
  {
   "cell_type": "code",
   "execution_count": 80,
   "metadata": {},
   "outputs": [
    {
     "data": {
      "text/html": [
       "<div>\n",
       "<style scoped>\n",
       "    .dataframe tbody tr th:only-of-type {\n",
       "        vertical-align: middle;\n",
       "    }\n",
       "\n",
       "    .dataframe tbody tr th {\n",
       "        vertical-align: top;\n",
       "    }\n",
       "\n",
       "    .dataframe thead th {\n",
       "        text-align: right;\n",
       "    }\n",
       "</style>\n",
       "<table border=\"1\" class=\"dataframe\">\n",
       "  <thead>\n",
       "    <tr style=\"text-align: right;\">\n",
       "      <th></th>\n",
       "      <th>country</th>\n",
       "      <th>year</th>\n",
       "      <th>region</th>\n",
       "      <th>cpi_score</th>\n",
       "      <th>infant_mortality_rate</th>\n",
       "      <th>literacy_rate</th>\n",
       "      <th>gini_index</th>\n",
       "      <th>poverty_index</th>\n",
       "      <th>gdp_per_capita</th>\n",
       "    </tr>\n",
       "  </thead>\n",
       "  <tbody>\n",
       "    <tr>\n",
       "      <th>0</th>\n",
       "      <td>Afghanistan</td>\n",
       "      <td>2007</td>\n",
       "      <td>Asia &amp; Pacific</td>\n",
       "      <td>1.8</td>\n",
       "      <td>80.4</td>\n",
       "      <td>0.0</td>\n",
       "      <td>0.0</td>\n",
       "      <td>0.0</td>\n",
       "      <td>0.0</td>\n",
       "    </tr>\n",
       "  </tbody>\n",
       "</table>\n",
       "</div>"
      ],
      "text/plain": [
       "       country  year          region  cpi_score  infant_mortality_rate  \\\n",
       "0  Afghanistan  2007  Asia & Pacific        1.8                   80.4   \n",
       "\n",
       "   literacy_rate  gini_index  poverty_index  gdp_per_capita  \n",
       "0            0.0         0.0            0.0             0.0  "
      ]
     },
     "execution_count": 80,
     "metadata": {},
     "output_type": "execute_result"
    }
   ],
   "source": [
    "# Rename 'country_fixed' to 'country'\n",
    "\n",
    "df_clean.rename(columns=lambda x: x.replace('country_fixed', 'country'), inplace=True)\n",
    "df_clean.head(1)"
   ]
  },
  {
   "cell_type": "code",
   "execution_count": 81,
   "metadata": {
    "scrolled": false
   },
   "outputs": [
    {
     "data": {
      "text/html": [
       "<div>\n",
       "<style scoped>\n",
       "    .dataframe tbody tr th:only-of-type {\n",
       "        vertical-align: middle;\n",
       "    }\n",
       "\n",
       "    .dataframe tbody tr th {\n",
       "        vertical-align: top;\n",
       "    }\n",
       "\n",
       "    .dataframe thead th {\n",
       "        text-align: right;\n",
       "    }\n",
       "</style>\n",
       "<table border=\"1\" class=\"dataframe\">\n",
       "  <thead>\n",
       "    <tr style=\"text-align: right;\">\n",
       "      <th></th>\n",
       "      <th>year</th>\n",
       "      <th>cpi_score</th>\n",
       "      <th>infant_mortality_rate</th>\n",
       "      <th>literacy_rate</th>\n",
       "      <th>gini_index</th>\n",
       "      <th>poverty_index</th>\n",
       "      <th>gdp_per_capita</th>\n",
       "    </tr>\n",
       "  </thead>\n",
       "  <tbody>\n",
       "    <tr>\n",
       "      <th>count</th>\n",
       "      <td>1021.000000</td>\n",
       "      <td>1021.000000</td>\n",
       "      <td>1021.000000</td>\n",
       "      <td>1021.000000</td>\n",
       "      <td>1021.000000</td>\n",
       "      <td>1021.000000</td>\n",
       "      <td>1021.000000</td>\n",
       "    </tr>\n",
       "    <tr>\n",
       "      <th>mean</th>\n",
       "      <td>2008.980411</td>\n",
       "      <td>3.522331</td>\n",
       "      <td>27.786748</td>\n",
       "      <td>17.005218</td>\n",
       "      <td>13.472282</td>\n",
       "      <td>0.541528</td>\n",
       "      <td>7668.565432</td>\n",
       "    </tr>\n",
       "    <tr>\n",
       "      <th>std</th>\n",
       "      <td>1.416848</td>\n",
       "      <td>2.373268</td>\n",
       "      <td>26.243390</td>\n",
       "      <td>34.703443</td>\n",
       "      <td>18.399647</td>\n",
       "      <td>4.362516</td>\n",
       "      <td>12895.942581</td>\n",
       "    </tr>\n",
       "    <tr>\n",
       "      <th>min</th>\n",
       "      <td>2007.000000</td>\n",
       "      <td>0.000000</td>\n",
       "      <td>0.000000</td>\n",
       "      <td>0.000000</td>\n",
       "      <td>0.000000</td>\n",
       "      <td>0.000000</td>\n",
       "      <td>0.000000</td>\n",
       "    </tr>\n",
       "    <tr>\n",
       "      <th>25%</th>\n",
       "      <td>2008.000000</td>\n",
       "      <td>2.200000</td>\n",
       "      <td>7.000000</td>\n",
       "      <td>0.000000</td>\n",
       "      <td>0.000000</td>\n",
       "      <td>0.000000</td>\n",
       "      <td>498.570158</td>\n",
       "    </tr>\n",
       "    <tr>\n",
       "      <th>50%</th>\n",
       "      <td>2009.000000</td>\n",
       "      <td>3.000000</td>\n",
       "      <td>17.300000</td>\n",
       "      <td>0.000000</td>\n",
       "      <td>0.000000</td>\n",
       "      <td>0.000000</td>\n",
       "      <td>2134.037162</td>\n",
       "    </tr>\n",
       "    <tr>\n",
       "      <th>75%</th>\n",
       "      <td>2010.000000</td>\n",
       "      <td>4.700000</td>\n",
       "      <td>43.900000</td>\n",
       "      <td>0.000000</td>\n",
       "      <td>31.500000</td>\n",
       "      <td>0.000000</td>\n",
       "      <td>8151.712950</td>\n",
       "    </tr>\n",
       "    <tr>\n",
       "      <th>max</th>\n",
       "      <td>2011.000000</td>\n",
       "      <td>11.000000</td>\n",
       "      <td>120.500000</td>\n",
       "      <td>99.998262</td>\n",
       "      <td>63.400000</td>\n",
       "      <td>54.200000</td>\n",
       "      <td>108111.212800</td>\n",
       "    </tr>\n",
       "  </tbody>\n",
       "</table>\n",
       "</div>"
      ],
      "text/plain": [
       "              year    cpi_score  infant_mortality_rate  literacy_rate  \\\n",
       "count  1021.000000  1021.000000            1021.000000    1021.000000   \n",
       "mean   2008.980411     3.522331              27.786748      17.005218   \n",
       "std       1.416848     2.373268              26.243390      34.703443   \n",
       "min    2007.000000     0.000000               0.000000       0.000000   \n",
       "25%    2008.000000     2.200000               7.000000       0.000000   \n",
       "50%    2009.000000     3.000000              17.300000       0.000000   \n",
       "75%    2010.000000     4.700000              43.900000       0.000000   \n",
       "max    2011.000000    11.000000             120.500000      99.998262   \n",
       "\n",
       "        gini_index  poverty_index  gdp_per_capita  \n",
       "count  1021.000000    1021.000000     1021.000000  \n",
       "mean     13.472282       0.541528     7668.565432  \n",
       "std      18.399647       4.362516    12895.942581  \n",
       "min       0.000000       0.000000        0.000000  \n",
       "25%       0.000000       0.000000      498.570158  \n",
       "50%       0.000000       0.000000     2134.037162  \n",
       "75%      31.500000       0.000000     8151.712950  \n",
       "max      63.400000      54.200000   108111.212800  "
      ]
     },
     "execution_count": 81,
     "metadata": {},
     "output_type": "execute_result"
    }
   ],
   "source": [
    "df_clean.describe()"
   ]
  },
  {
   "cell_type": "markdown",
   "metadata": {},
   "source": [
    "Observe that counts on all columns are 1021. Values that were null in original datasets are now held as zeros, resulting in incorrect counts. Incorrect counts on columns will cause wrong values for mean, min, max and other aggregations.\n",
    "\n",
    "We will need to change the zeros back to null."
   ]
  },
  {
   "cell_type": "code",
   "execution_count": 82,
   "metadata": {},
   "outputs": [
    {
     "data": {
      "text/html": [
       "<div>\n",
       "<style scoped>\n",
       "    .dataframe tbody tr th:only-of-type {\n",
       "        vertical-align: middle;\n",
       "    }\n",
       "\n",
       "    .dataframe tbody tr th {\n",
       "        vertical-align: top;\n",
       "    }\n",
       "\n",
       "    .dataframe thead th {\n",
       "        text-align: right;\n",
       "    }\n",
       "</style>\n",
       "<table border=\"1\" class=\"dataframe\">\n",
       "  <thead>\n",
       "    <tr style=\"text-align: right;\">\n",
       "      <th></th>\n",
       "      <th>year</th>\n",
       "      <th>cpi_score</th>\n",
       "      <th>infant_mortality_rate</th>\n",
       "      <th>literacy_rate</th>\n",
       "      <th>gini_index</th>\n",
       "      <th>poverty_index</th>\n",
       "      <th>gdp_per_capita</th>\n",
       "    </tr>\n",
       "  </thead>\n",
       "  <tbody>\n",
       "    <tr>\n",
       "      <th>count</th>\n",
       "      <td>1021.000000</td>\n",
       "      <td>894.000000</td>\n",
       "      <td>983.000000</td>\n",
       "      <td>206.000000</td>\n",
       "      <td>376.000000</td>\n",
       "      <td>57.000000</td>\n",
       "      <td>930.000000</td>\n",
       "    </tr>\n",
       "    <tr>\n",
       "      <th>mean</th>\n",
       "      <td>2008.980411</td>\n",
       "      <td>4.022707</td>\n",
       "      <td>28.860905</td>\n",
       "      <td>84.283146</td>\n",
       "      <td>36.582979</td>\n",
       "      <td>9.700000</td>\n",
       "      <td>8418.930436</td>\n",
       "    </tr>\n",
       "    <tr>\n",
       "      <th>std</th>\n",
       "      <td>1.416848</td>\n",
       "      <td>2.101977</td>\n",
       "      <td>26.159773</td>\n",
       "      <td>17.152699</td>\n",
       "      <td>8.551911</td>\n",
       "      <td>16.006952</td>\n",
       "      <td>13276.734101</td>\n",
       "    </tr>\n",
       "    <tr>\n",
       "      <th>min</th>\n",
       "      <td>2007.000000</td>\n",
       "      <td>1.000000</td>\n",
       "      <td>1.760000</td>\n",
       "      <td>25.307745</td>\n",
       "      <td>23.700000</td>\n",
       "      <td>0.100000</td>\n",
       "      <td>97.910183</td>\n",
       "    </tr>\n",
       "    <tr>\n",
       "      <th>25%</th>\n",
       "      <td>2008.000000</td>\n",
       "      <td>2.500000</td>\n",
       "      <td>7.750000</td>\n",
       "      <td>76.014593</td>\n",
       "      <td>30.175000</td>\n",
       "      <td>0.500000</td>\n",
       "      <td>672.367236</td>\n",
       "    </tr>\n",
       "    <tr>\n",
       "      <th>50%</th>\n",
       "      <td>2009.000000</td>\n",
       "      <td>3.300000</td>\n",
       "      <td>18.300000</td>\n",
       "      <td>91.845252</td>\n",
       "      <td>33.950000</td>\n",
       "      <td>1.800000</td>\n",
       "      <td>2503.908898</td>\n",
       "    </tr>\n",
       "    <tr>\n",
       "      <th>75%</th>\n",
       "      <td>2010.000000</td>\n",
       "      <td>5.100000</td>\n",
       "      <td>45.400000</td>\n",
       "      <td>96.178175</td>\n",
       "      <td>42.325000</td>\n",
       "      <td>7.900000</td>\n",
       "      <td>9783.327358</td>\n",
       "    </tr>\n",
       "    <tr>\n",
       "      <th>max</th>\n",
       "      <td>2011.000000</td>\n",
       "      <td>11.000000</td>\n",
       "      <td>120.500000</td>\n",
       "      <td>99.998262</td>\n",
       "      <td>63.400000</td>\n",
       "      <td>54.200000</td>\n",
       "      <td>108111.212800</td>\n",
       "    </tr>\n",
       "  </tbody>\n",
       "</table>\n",
       "</div>"
      ],
      "text/plain": [
       "              year   cpi_score  infant_mortality_rate  literacy_rate  \\\n",
       "count  1021.000000  894.000000             983.000000     206.000000   \n",
       "mean   2008.980411    4.022707              28.860905      84.283146   \n",
       "std       1.416848    2.101977              26.159773      17.152699   \n",
       "min    2007.000000    1.000000               1.760000      25.307745   \n",
       "25%    2008.000000    2.500000               7.750000      76.014593   \n",
       "50%    2009.000000    3.300000              18.300000      91.845252   \n",
       "75%    2010.000000    5.100000              45.400000      96.178175   \n",
       "max    2011.000000   11.000000             120.500000      99.998262   \n",
       "\n",
       "       gini_index  poverty_index  gdp_per_capita  \n",
       "count  376.000000      57.000000      930.000000  \n",
       "mean    36.582979       9.700000     8418.930436  \n",
       "std      8.551911      16.006952    13276.734101  \n",
       "min     23.700000       0.100000       97.910183  \n",
       "25%     30.175000       0.500000      672.367236  \n",
       "50%     33.950000       1.800000     2503.908898  \n",
       "75%     42.325000       7.900000     9783.327358  \n",
       "max     63.400000      54.200000   108111.212800  "
      ]
     },
     "execution_count": 82,
     "metadata": {},
     "output_type": "execute_result"
    }
   ],
   "source": [
    "# Replace all zeros with NaN, so our aggregations (count, mean, sum, min) are accurate\n",
    "\n",
    "df_clean = df_clean.replace(0.0, np.nan)\n",
    "df_clean.describe()"
   ]
  },
  {
   "cell_type": "markdown",
   "metadata": {},
   "source": [
    "Obeserving the output in the last two cells, we note that the 'count' aggregation now correctly shows the number of non-zero values in each column. Also, min, mean and other aggregations are now correctly calculated."
   ]
  },
  {
   "cell_type": "markdown",
   "metadata": {},
   "source": [
    "We will now create a version of our dataset that contains average of each measure by country. This will be used for most of the following analysis. Why have taken this decision?\n",
    "\n",
    "Within the five year window of our dataset, countries will have missing data across years. Taking an average of yearly observations by country allows us to run comparisons among countries with reduced concern over availability of data in a given year."
   ]
  },
  {
   "cell_type": "code",
   "execution_count": 83,
   "metadata": {},
   "outputs": [
    {
     "data": {
      "text/html": [
       "<div>\n",
       "<style scoped>\n",
       "    .dataframe tbody tr th:only-of-type {\n",
       "        vertical-align: middle;\n",
       "    }\n",
       "\n",
       "    .dataframe tbody tr th {\n",
       "        vertical-align: top;\n",
       "    }\n",
       "\n",
       "    .dataframe thead th {\n",
       "        text-align: right;\n",
       "    }\n",
       "</style>\n",
       "<table border=\"1\" class=\"dataframe\">\n",
       "  <thead>\n",
       "    <tr style=\"text-align: right;\">\n",
       "      <th></th>\n",
       "      <th>country</th>\n",
       "      <th>region</th>\n",
       "      <th>cpi_score</th>\n",
       "      <th>infant_mortality_rate</th>\n",
       "      <th>literacy_rate</th>\n",
       "      <th>gini_index</th>\n",
       "      <th>poverty_index</th>\n",
       "      <th>gdp_per_capita</th>\n",
       "    </tr>\n",
       "  </thead>\n",
       "  <tbody>\n",
       "    <tr>\n",
       "      <th>0</th>\n",
       "      <td>Afghanistan</td>\n",
       "      <td>Asia &amp; Pacific</td>\n",
       "      <td>1.48</td>\n",
       "      <td>76.86</td>\n",
       "      <td>39.000000</td>\n",
       "      <td>NaN</td>\n",
       "      <td>NaN</td>\n",
       "      <td>NaN</td>\n",
       "    </tr>\n",
       "    <tr>\n",
       "      <th>1</th>\n",
       "      <td>Albania</td>\n",
       "      <td>Europe</td>\n",
       "      <td>3.16</td>\n",
       "      <td>15.44</td>\n",
       "      <td>96.391969</td>\n",
       "      <td>30.00</td>\n",
       "      <td>NaN</td>\n",
       "      <td>1844.903592</td>\n",
       "    </tr>\n",
       "    <tr>\n",
       "      <th>2</th>\n",
       "      <td>Algeria</td>\n",
       "      <td>Arab States</td>\n",
       "      <td>2.90</td>\n",
       "      <td>24.46</td>\n",
       "      <td>NaN</td>\n",
       "      <td>27.60</td>\n",
       "      <td>0.5</td>\n",
       "      <td>2201.836568</td>\n",
       "    </tr>\n",
       "    <tr>\n",
       "      <th>3</th>\n",
       "      <td>Andorra</td>\n",
       "      <td>Europe</td>\n",
       "      <td>NaN</td>\n",
       "      <td>2.60</td>\n",
       "      <td>NaN</td>\n",
       "      <td>NaN</td>\n",
       "      <td>NaN</td>\n",
       "      <td>21719.572490</td>\n",
       "    </tr>\n",
       "    <tr>\n",
       "      <th>4</th>\n",
       "      <td>Angola</td>\n",
       "      <td>Africa</td>\n",
       "      <td>1.98</td>\n",
       "      <td>112.08</td>\n",
       "      <td>70.362420</td>\n",
       "      <td>42.70</td>\n",
       "      <td>NaN</td>\n",
       "      <td>611.714745</td>\n",
       "    </tr>\n",
       "    <tr>\n",
       "      <th>5</th>\n",
       "      <td>Antigua and Barbuda</td>\n",
       "      <td>South/Latin America</td>\n",
       "      <td>NaN</td>\n",
       "      <td>8.22</td>\n",
       "      <td>98.950000</td>\n",
       "      <td>NaN</td>\n",
       "      <td>NaN</td>\n",
       "      <td>11817.136463</td>\n",
       "    </tr>\n",
       "    <tr>\n",
       "      <th>6</th>\n",
       "      <td>Argentina</td>\n",
       "      <td>South/Latin America</td>\n",
       "      <td>2.92</td>\n",
       "      <td>13.38</td>\n",
       "      <td>97.858770</td>\n",
       "      <td>44.00</td>\n",
       "      <td>0.9</td>\n",
       "      <td>10321.740247</td>\n",
       "    </tr>\n",
       "    <tr>\n",
       "      <th>7</th>\n",
       "      <td>Armenia</td>\n",
       "      <td>CIS</td>\n",
       "      <td>2.70</td>\n",
       "      <td>17.02</td>\n",
       "      <td>99.568170</td>\n",
       "      <td>29.56</td>\n",
       "      <td>2.2</td>\n",
       "      <td>1391.495500</td>\n",
       "    </tr>\n",
       "    <tr>\n",
       "      <th>8</th>\n",
       "      <td>Aruba</td>\n",
       "      <td>South/Latin America</td>\n",
       "      <td>NaN</td>\n",
       "      <td>NaN</td>\n",
       "      <td>96.822640</td>\n",
       "      <td>NaN</td>\n",
       "      <td>NaN</td>\n",
       "      <td>NaN</td>\n",
       "    </tr>\n",
       "    <tr>\n",
       "      <th>9</th>\n",
       "      <td>Australia</td>\n",
       "      <td>Asia &amp; Pacific</td>\n",
       "      <td>8.70</td>\n",
       "      <td>4.20</td>\n",
       "      <td>NaN</td>\n",
       "      <td>35.05</td>\n",
       "      <td>NaN</td>\n",
       "      <td>25092.326418</td>\n",
       "    </tr>\n",
       "  </tbody>\n",
       "</table>\n",
       "</div>"
      ],
      "text/plain": [
       "               country               region  cpi_score  infant_mortality_rate  \\\n",
       "0          Afghanistan       Asia & Pacific       1.48                  76.86   \n",
       "1              Albania               Europe       3.16                  15.44   \n",
       "2              Algeria          Arab States       2.90                  24.46   \n",
       "3              Andorra               Europe        NaN                   2.60   \n",
       "4               Angola               Africa       1.98                 112.08   \n",
       "5  Antigua and Barbuda  South/Latin America        NaN                   8.22   \n",
       "6            Argentina  South/Latin America       2.92                  13.38   \n",
       "7              Armenia                  CIS       2.70                  17.02   \n",
       "8                Aruba  South/Latin America        NaN                    NaN   \n",
       "9            Australia       Asia & Pacific       8.70                   4.20   \n",
       "\n",
       "   literacy_rate  gini_index  poverty_index  gdp_per_capita  \n",
       "0      39.000000         NaN            NaN             NaN  \n",
       "1      96.391969       30.00            NaN     1844.903592  \n",
       "2            NaN       27.60            0.5     2201.836568  \n",
       "3            NaN         NaN            NaN    21719.572490  \n",
       "4      70.362420       42.70            NaN      611.714745  \n",
       "5      98.950000         NaN            NaN    11817.136463  \n",
       "6      97.858770       44.00            0.9    10321.740247  \n",
       "7      99.568170       29.56            2.2     1391.495500  \n",
       "8      96.822640         NaN            NaN             NaN  \n",
       "9            NaN       35.05            NaN    25092.326418  "
      ]
     },
     "execution_count": 83,
     "metadata": {},
     "output_type": "execute_result"
    }
   ],
   "source": [
    "# Create dataframe of average observations by country. \n",
    "df_avg = df_clean.drop('year', axis=1)\n",
    "df_avg = pd.DataFrame(df_avg.groupby(['country','region']).mean())\n",
    "\n",
    "# reset indexes and restore 'country' and 'region' columns\n",
    "df_avg.reset_index(level=df_avg.index.names, inplace=True)\n",
    "\n",
    "df_avg.head(10)"
   ]
  },
  {
   "cell_type": "markdown",
   "metadata": {},
   "source": [
    "'Averages' dataframe was successfully created.\n",
    "\n",
    "Let us inspect this dataframe, to identify any anomalies and plan any corrective actions. "
   ]
  },
  {
   "cell_type": "code",
   "execution_count": 84,
   "metadata": {},
   "outputs": [
    {
     "name": "stdout",
     "output_type": "stream",
     "text": [
      "<class 'pandas.core.frame.DataFrame'>\n",
      "RangeIndex: 211 entries, 0 to 210\n",
      "Data columns (total 8 columns):\n",
      "country                  211 non-null object\n",
      "region                   211 non-null object\n",
      "cpi_score                185 non-null float64\n",
      "infant_mortality_rate    199 non-null float64\n",
      "literacy_rate            140 non-null float64\n",
      "gini_index               134 non-null float64\n",
      "poverty_index            57 non-null float64\n",
      "gdp_per_capita           193 non-null float64\n",
      "dtypes: float64(6), object(2)\n",
      "memory usage: 13.3+ KB\n"
     ]
    }
   ],
   "source": [
    "df_avg.info()"
   ]
  },
  {
   "cell_type": "code",
   "execution_count": 85,
   "metadata": {
    "scrolled": false
   },
   "outputs": [
    {
     "data": {
      "text/plain": [
       "cpi_score                   4.025874\n",
       "infant_mortality_rate      28.644548\n",
       "literacy_rate              82.733571\n",
       "gini_index                 38.365933\n",
       "poverty_index               9.700000\n",
       "gdp_per_capita           9170.833436\n",
       "dtype: float64"
      ]
     },
     "execution_count": 85,
     "metadata": {},
     "output_type": "execute_result"
    }
   ],
   "source": [
    "df_avg.mean()"
   ]
  },
  {
   "cell_type": "code",
   "execution_count": 86,
   "metadata": {
    "scrolled": true
   },
   "outputs": [
    {
     "data": {
      "text/html": [
       "<div>\n",
       "<style scoped>\n",
       "    .dataframe tbody tr th:only-of-type {\n",
       "        vertical-align: middle;\n",
       "    }\n",
       "\n",
       "    .dataframe tbody tr th {\n",
       "        vertical-align: top;\n",
       "    }\n",
       "\n",
       "    .dataframe thead th {\n",
       "        text-align: right;\n",
       "    }\n",
       "</style>\n",
       "<table border=\"1\" class=\"dataframe\">\n",
       "  <thead>\n",
       "    <tr style=\"text-align: right;\">\n",
       "      <th></th>\n",
       "      <th>cpi_score</th>\n",
       "      <th>infant_mortality_rate</th>\n",
       "      <th>literacy_rate</th>\n",
       "      <th>gini_index</th>\n",
       "      <th>poverty_index</th>\n",
       "      <th>gdp_per_capita</th>\n",
       "    </tr>\n",
       "  </thead>\n",
       "  <tbody>\n",
       "    <tr>\n",
       "      <th>count</th>\n",
       "      <td>185.000000</td>\n",
       "      <td>199.000000</td>\n",
       "      <td>140.000000</td>\n",
       "      <td>134.000000</td>\n",
       "      <td>57.000000</td>\n",
       "      <td>193.000000</td>\n",
       "    </tr>\n",
       "    <tr>\n",
       "      <th>mean</th>\n",
       "      <td>4.025874</td>\n",
       "      <td>28.644548</td>\n",
       "      <td>82.733571</td>\n",
       "      <td>38.365933</td>\n",
       "      <td>9.700000</td>\n",
       "      <td>9170.833436</td>\n",
       "    </tr>\n",
       "    <tr>\n",
       "      <th>std</th>\n",
       "      <td>2.090305</td>\n",
       "      <td>26.047186</td>\n",
       "      <td>18.664967</td>\n",
       "      <td>8.469815</td>\n",
       "      <td>16.006952</td>\n",
       "      <td>14625.856835</td>\n",
       "    </tr>\n",
       "    <tr>\n",
       "      <th>min</th>\n",
       "      <td>1.000000</td>\n",
       "      <td>1.930000</td>\n",
       "      <td>25.307745</td>\n",
       "      <td>24.540000</td>\n",
       "      <td>0.100000</td>\n",
       "      <td>103.104815</td>\n",
       "    </tr>\n",
       "    <tr>\n",
       "      <th>25%</th>\n",
       "      <td>2.460000</td>\n",
       "      <td>7.677500</td>\n",
       "      <td>71.369112</td>\n",
       "      <td>31.875000</td>\n",
       "      <td>0.500000</td>\n",
       "      <td>731.926135</td>\n",
       "    </tr>\n",
       "    <tr>\n",
       "      <th>50%</th>\n",
       "      <td>3.240000</td>\n",
       "      <td>17.680000</td>\n",
       "      <td>90.599093</td>\n",
       "      <td>36.340000</td>\n",
       "      <td>1.800000</td>\n",
       "      <td>2581.767415</td>\n",
       "    </tr>\n",
       "    <tr>\n",
       "      <th>75%</th>\n",
       "      <td>5.140000</td>\n",
       "      <td>44.650000</td>\n",
       "      <td>97.713798</td>\n",
       "      <td>43.550000</td>\n",
       "      <td>7.900000</td>\n",
       "      <td>10558.767324</td>\n",
       "    </tr>\n",
       "    <tr>\n",
       "      <th>max</th>\n",
       "      <td>9.380000</td>\n",
       "      <td>112.080000</td>\n",
       "      <td>99.998262</td>\n",
       "      <td>63.200000</td>\n",
       "      <td>54.200000</td>\n",
       "      <td>103885.246787</td>\n",
       "    </tr>\n",
       "  </tbody>\n",
       "</table>\n",
       "</div>"
      ],
      "text/plain": [
       "        cpi_score  infant_mortality_rate  literacy_rate  gini_index  \\\n",
       "count  185.000000             199.000000     140.000000  134.000000   \n",
       "mean     4.025874              28.644548      82.733571   38.365933   \n",
       "std      2.090305              26.047186      18.664967    8.469815   \n",
       "min      1.000000               1.930000      25.307745   24.540000   \n",
       "25%      2.460000               7.677500      71.369112   31.875000   \n",
       "50%      3.240000              17.680000      90.599093   36.340000   \n",
       "75%      5.140000              44.650000      97.713798   43.550000   \n",
       "max      9.380000             112.080000      99.998262   63.200000   \n",
       "\n",
       "       poverty_index  gdp_per_capita  \n",
       "count      57.000000      193.000000  \n",
       "mean        9.700000     9170.833436  \n",
       "std        16.006952    14625.856835  \n",
       "min         0.100000      103.104815  \n",
       "25%         0.500000      731.926135  \n",
       "50%         1.800000     2581.767415  \n",
       "75%         7.900000    10558.767324  \n",
       "max        54.200000   103885.246787  "
      ]
     },
     "execution_count": 86,
     "metadata": {},
     "output_type": "execute_result"
    }
   ],
   "source": [
    "df_avg.describe()"
   ]
  },
  {
   "cell_type": "markdown",
   "metadata": {},
   "source": [
    "We notice there are null values in the metrics columns, with the worst being 'poverty_index' with only 57 valid records in our dataset of 211 records.\n",
    "\n",
    "**The paucity of values against 'poverty' suggests our ability to run comparisons across countries in this column will be limited. We will therefore remove the 'poverty_index' column from our df_avg dataset.**"
   ]
  },
  {
   "cell_type": "code",
   "execution_count": 87,
   "metadata": {
    "scrolled": true
   },
   "outputs": [
    {
     "name": "stdout",
     "output_type": "stream",
     "text": [
      "<class 'pandas.core.frame.DataFrame'>\n",
      "RangeIndex: 211 entries, 0 to 210\n",
      "Data columns (total 7 columns):\n",
      "country                  211 non-null object\n",
      "region                   211 non-null object\n",
      "cpi_score                185 non-null float64\n",
      "infant_mortality_rate    199 non-null float64\n",
      "literacy_rate            140 non-null float64\n",
      "gini_index               134 non-null float64\n",
      "gdp_per_capita           193 non-null float64\n",
      "dtypes: float64(5), object(2)\n",
      "memory usage: 11.6+ KB\n"
     ]
    }
   ],
   "source": [
    "# Remove 'poverty_index' column\n",
    "\n",
    "df_avg.drop('poverty_index', axis=1, inplace=True)\n",
    "df_avg.info()"
   ]
  },
  {
   "cell_type": "markdown",
   "metadata": {},
   "source": [
    "Null values in other columns will need to be filled in. Our approach will be to use the 'Region' averages to fill in missing values. "
   ]
  },
  {
   "cell_type": "code",
   "execution_count": 88,
   "metadata": {
    "scrolled": true
   },
   "outputs": [
    {
     "data": {
      "text/html": [
       "<div>\n",
       "<style scoped>\n",
       "    .dataframe tbody tr th:only-of-type {\n",
       "        vertical-align: middle;\n",
       "    }\n",
       "\n",
       "    .dataframe tbody tr th {\n",
       "        vertical-align: top;\n",
       "    }\n",
       "\n",
       "    .dataframe thead th {\n",
       "        text-align: right;\n",
       "    }\n",
       "</style>\n",
       "<table border=\"1\" class=\"dataframe\">\n",
       "  <thead>\n",
       "    <tr style=\"text-align: right;\">\n",
       "      <th></th>\n",
       "      <th>cpi_score</th>\n",
       "      <th>infant_mortality_rate</th>\n",
       "      <th>literacy_rate</th>\n",
       "      <th>gini_index</th>\n",
       "      <th>gdp_per_capita</th>\n",
       "    </tr>\n",
       "    <tr>\n",
       "      <th>region</th>\n",
       "      <th></th>\n",
       "      <th></th>\n",
       "      <th></th>\n",
       "      <th></th>\n",
       "      <th></th>\n",
       "    </tr>\n",
       "  </thead>\n",
       "  <tbody>\n",
       "    <tr>\n",
       "      <th>Africa</th>\n",
       "      <td>2.945891</td>\n",
       "      <td>61.859545</td>\n",
       "      <td>64.777314</td>\n",
       "      <td>45.027143</td>\n",
       "      <td>1256.879586</td>\n",
       "    </tr>\n",
       "    <tr>\n",
       "      <th>Arab States</th>\n",
       "      <td>3.478000</td>\n",
       "      <td>30.746667</td>\n",
       "      <td>81.398935</td>\n",
       "      <td>33.212500</td>\n",
       "      <td>7493.379077</td>\n",
       "    </tr>\n",
       "    <tr>\n",
       "      <th>Asia &amp; Pacific</th>\n",
       "      <td>3.890270</td>\n",
       "      <td>27.043810</td>\n",
       "      <td>81.383965</td>\n",
       "      <td>37.144133</td>\n",
       "      <td>6875.002351</td>\n",
       "    </tr>\n",
       "    <tr>\n",
       "      <th>CIS</th>\n",
       "      <td>2.380000</td>\n",
       "      <td>27.272000</td>\n",
       "      <td>99.603976</td>\n",
       "      <td>30.420000</td>\n",
       "      <td>1361.668615</td>\n",
       "    </tr>\n",
       "    <tr>\n",
       "      <th>Europe</th>\n",
       "      <td>5.789512</td>\n",
       "      <td>5.607500</td>\n",
       "      <td>98.149657</td>\n",
       "      <td>31.779065</td>\n",
       "      <td>20446.367688</td>\n",
       "    </tr>\n",
       "    <tr>\n",
       "      <th>North America</th>\n",
       "      <td>7.990000</td>\n",
       "      <td>5.660000</td>\n",
       "      <td>NaN</td>\n",
       "      <td>37.225000</td>\n",
       "      <td>42977.916206</td>\n",
       "    </tr>\n",
       "    <tr>\n",
       "      <th>South/Latin America</th>\n",
       "      <td>3.983229</td>\n",
       "      <td>18.504306</td>\n",
       "      <td>92.565855</td>\n",
       "      <td>48.778125</td>\n",
       "      <td>5744.894997</td>\n",
       "    </tr>\n",
       "  </tbody>\n",
       "</table>\n",
       "</div>"
      ],
      "text/plain": [
       "                     cpi_score  infant_mortality_rate  literacy_rate  \\\n",
       "region                                                                 \n",
       "Africa                2.945891              61.859545      64.777314   \n",
       "Arab States           3.478000              30.746667      81.398935   \n",
       "Asia & Pacific        3.890270              27.043810      81.383965   \n",
       "CIS                   2.380000              27.272000      99.603976   \n",
       "Europe                5.789512               5.607500      98.149657   \n",
       "North America         7.990000               5.660000            NaN   \n",
       "South/Latin America   3.983229              18.504306      92.565855   \n",
       "\n",
       "                     gini_index  gdp_per_capita  \n",
       "region                                           \n",
       "Africa                45.027143     1256.879586  \n",
       "Arab States           33.212500     7493.379077  \n",
       "Asia & Pacific        37.144133     6875.002351  \n",
       "CIS                   30.420000     1361.668615  \n",
       "Europe                31.779065    20446.367688  \n",
       "North America         37.225000    42977.916206  \n",
       "South/Latin America   48.778125     5744.894997  "
      ]
     },
     "execution_count": 88,
     "metadata": {},
     "output_type": "execute_result"
    }
   ],
   "source": [
    "# Calculate and inspect Region mean values \n",
    "\n",
    "df_avg.groupby(['region']).mean()"
   ]
  },
  {
   "cell_type": "markdown",
   "metadata": {},
   "source": [
    "We observe that with only one exception, we can obtain region mean for all metrics. These region mean values will be used to fill in the missing values.\n",
    "\n",
    "Literacy rate appears to be missing for the entire North American region. We will fill this in by using the overall or global literacy rate mean. \n",
    "\n",
    "First, however, we will now fill in the missing values using region averages where available."
   ]
  },
  {
   "cell_type": "code",
   "execution_count": 89,
   "metadata": {},
   "outputs": [
    {
     "data": {
      "text/html": [
       "<div>\n",
       "<style scoped>\n",
       "    .dataframe tbody tr th:only-of-type {\n",
       "        vertical-align: middle;\n",
       "    }\n",
       "\n",
       "    .dataframe tbody tr th {\n",
       "        vertical-align: top;\n",
       "    }\n",
       "\n",
       "    .dataframe thead th {\n",
       "        text-align: right;\n",
       "    }\n",
       "</style>\n",
       "<table border=\"1\" class=\"dataframe\">\n",
       "  <thead>\n",
       "    <tr style=\"text-align: right;\">\n",
       "      <th></th>\n",
       "      <th>cpi_score</th>\n",
       "      <th>infant_mortality_rate</th>\n",
       "      <th>literacy_rate</th>\n",
       "      <th>gini_index</th>\n",
       "      <th>gdp_per_capita</th>\n",
       "    </tr>\n",
       "  </thead>\n",
       "  <tbody>\n",
       "    <tr>\n",
       "      <th>0</th>\n",
       "      <td>1.480000</td>\n",
       "      <td>76.86</td>\n",
       "      <td>39.000000</td>\n",
       "      <td>37.144133</td>\n",
       "      <td>6875.002351</td>\n",
       "    </tr>\n",
       "    <tr>\n",
       "      <th>1</th>\n",
       "      <td>3.160000</td>\n",
       "      <td>15.44</td>\n",
       "      <td>96.391969</td>\n",
       "      <td>30.000000</td>\n",
       "      <td>1844.903592</td>\n",
       "    </tr>\n",
       "    <tr>\n",
       "      <th>2</th>\n",
       "      <td>2.900000</td>\n",
       "      <td>24.46</td>\n",
       "      <td>81.398935</td>\n",
       "      <td>27.600000</td>\n",
       "      <td>2201.836568</td>\n",
       "    </tr>\n",
       "    <tr>\n",
       "      <th>3</th>\n",
       "      <td>5.789512</td>\n",
       "      <td>2.60</td>\n",
       "      <td>98.149657</td>\n",
       "      <td>31.779065</td>\n",
       "      <td>21719.572490</td>\n",
       "    </tr>\n",
       "    <tr>\n",
       "      <th>4</th>\n",
       "      <td>1.980000</td>\n",
       "      <td>112.08</td>\n",
       "      <td>70.362420</td>\n",
       "      <td>42.700000</td>\n",
       "      <td>611.714745</td>\n",
       "    </tr>\n",
       "  </tbody>\n",
       "</table>\n",
       "</div>"
      ],
      "text/plain": [
       "   cpi_score  infant_mortality_rate  literacy_rate  gini_index  gdp_per_capita\n",
       "0   1.480000                  76.86      39.000000   37.144133     6875.002351\n",
       "1   3.160000                  15.44      96.391969   30.000000     1844.903592\n",
       "2   2.900000                  24.46      81.398935   27.600000     2201.836568\n",
       "3   5.789512                   2.60      98.149657   31.779065    21719.572490\n",
       "4   1.980000                 112.08      70.362420   42.700000      611.714745"
      ]
     },
     "execution_count": 89,
     "metadata": {},
     "output_type": "execute_result"
    }
   ],
   "source": [
    "# Temporary dataframe with missing values filled in with region averages \n",
    "\n",
    "df_avg_fill = df_avg.groupby('region').transform(lambda x: x.fillna(x.mean()))\n",
    "df_avg_fill.head()"
   ]
  },
  {
   "cell_type": "markdown",
   "metadata": {
    "scrolled": true
   },
   "source": [
    "We will now replace columns in our 'averages' dataset with columns from our 'filled-in-values' dataset"
   ]
  },
  {
   "cell_type": "code",
   "execution_count": 90,
   "metadata": {},
   "outputs": [],
   "source": [
    "# Copy filled-in values into our working 'averages' dataset\n",
    "\n",
    "df_avg.cpi_score = df_avg_fill.cpi_score\n",
    "df_avg.infant_mortality_rate = df_avg_fill.infant_mortality_rate\n",
    "df_avg.literacy_rate = df_avg_fill.literacy_rate\n",
    "df_avg.gini_index = df_avg_fill.gini_index\n",
    "df_avg.gdp_per_capita = df_avg_fill.gdp_per_capita"
   ]
  },
  {
   "cell_type": "markdown",
   "metadata": {},
   "source": [
    "Using a temporary dataframe, we obtained corrected metrics columns and then used these fixed columns to replace columns in our dataset. With the exception of literacy_rate for North America, all null values should now be filled.\n",
    "\n",
    "Let us now inspect our working dataset."
   ]
  },
  {
   "cell_type": "code",
   "execution_count": 91,
   "metadata": {},
   "outputs": [
    {
     "data": {
      "text/html": [
       "<div>\n",
       "<style scoped>\n",
       "    .dataframe tbody tr th:only-of-type {\n",
       "        vertical-align: middle;\n",
       "    }\n",
       "\n",
       "    .dataframe tbody tr th {\n",
       "        vertical-align: top;\n",
       "    }\n",
       "\n",
       "    .dataframe thead th {\n",
       "        text-align: right;\n",
       "    }\n",
       "</style>\n",
       "<table border=\"1\" class=\"dataframe\">\n",
       "  <thead>\n",
       "    <tr style=\"text-align: right;\">\n",
       "      <th></th>\n",
       "      <th>country</th>\n",
       "      <th>region</th>\n",
       "      <th>cpi_score</th>\n",
       "      <th>infant_mortality_rate</th>\n",
       "      <th>literacy_rate</th>\n",
       "      <th>gini_index</th>\n",
       "      <th>gdp_per_capita</th>\n",
       "    </tr>\n",
       "  </thead>\n",
       "  <tbody>\n",
       "    <tr>\n",
       "      <th>0</th>\n",
       "      <td>Afghanistan</td>\n",
       "      <td>Asia &amp; Pacific</td>\n",
       "      <td>1.480000</td>\n",
       "      <td>76.86</td>\n",
       "      <td>39.000000</td>\n",
       "      <td>37.144133</td>\n",
       "      <td>6875.002351</td>\n",
       "    </tr>\n",
       "    <tr>\n",
       "      <th>1</th>\n",
       "      <td>Albania</td>\n",
       "      <td>Europe</td>\n",
       "      <td>3.160000</td>\n",
       "      <td>15.44</td>\n",
       "      <td>96.391969</td>\n",
       "      <td>30.000000</td>\n",
       "      <td>1844.903592</td>\n",
       "    </tr>\n",
       "    <tr>\n",
       "      <th>2</th>\n",
       "      <td>Algeria</td>\n",
       "      <td>Arab States</td>\n",
       "      <td>2.900000</td>\n",
       "      <td>24.46</td>\n",
       "      <td>81.398935</td>\n",
       "      <td>27.600000</td>\n",
       "      <td>2201.836568</td>\n",
       "    </tr>\n",
       "    <tr>\n",
       "      <th>3</th>\n",
       "      <td>Andorra</td>\n",
       "      <td>Europe</td>\n",
       "      <td>5.789512</td>\n",
       "      <td>2.60</td>\n",
       "      <td>98.149657</td>\n",
       "      <td>31.779065</td>\n",
       "      <td>21719.572490</td>\n",
       "    </tr>\n",
       "    <tr>\n",
       "      <th>4</th>\n",
       "      <td>Angola</td>\n",
       "      <td>Africa</td>\n",
       "      <td>1.980000</td>\n",
       "      <td>112.08</td>\n",
       "      <td>70.362420</td>\n",
       "      <td>42.700000</td>\n",
       "      <td>611.714745</td>\n",
       "    </tr>\n",
       "  </tbody>\n",
       "</table>\n",
       "</div>"
      ],
      "text/plain": [
       "       country          region  cpi_score  infant_mortality_rate  \\\n",
       "0  Afghanistan  Asia & Pacific   1.480000                  76.86   \n",
       "1      Albania          Europe   3.160000                  15.44   \n",
       "2      Algeria     Arab States   2.900000                  24.46   \n",
       "3      Andorra          Europe   5.789512                   2.60   \n",
       "4       Angola          Africa   1.980000                 112.08   \n",
       "\n",
       "   literacy_rate  gini_index  gdp_per_capita  \n",
       "0      39.000000   37.144133     6875.002351  \n",
       "1      96.391969   30.000000     1844.903592  \n",
       "2      81.398935   27.600000     2201.836568  \n",
       "3      98.149657   31.779065    21719.572490  \n",
       "4      70.362420   42.700000      611.714745  "
      ]
     },
     "execution_count": 91,
     "metadata": {},
     "output_type": "execute_result"
    }
   ],
   "source": [
    "df_avg.head()"
   ]
  },
  {
   "cell_type": "code",
   "execution_count": 92,
   "metadata": {
    "scrolled": false
   },
   "outputs": [
    {
     "name": "stdout",
     "output_type": "stream",
     "text": [
      "<class 'pandas.core.frame.DataFrame'>\n",
      "RangeIndex: 211 entries, 0 to 210\n",
      "Data columns (total 7 columns):\n",
      "country                  211 non-null object\n",
      "region                   211 non-null object\n",
      "cpi_score                211 non-null float64\n",
      "infant_mortality_rate    211 non-null float64\n",
      "literacy_rate            208 non-null float64\n",
      "gini_index               211 non-null float64\n",
      "gdp_per_capita           211 non-null float64\n",
      "dtypes: float64(5), object(2)\n",
      "memory usage: 11.6+ KB\n"
     ]
    }
   ],
   "source": [
    "df_avg.info()"
   ]
  },
  {
   "cell_type": "markdown",
   "metadata": {},
   "source": [
    "As observed earlier, 'literacy_rate' has some null values. Let us see details of those records."
   ]
  },
  {
   "cell_type": "code",
   "execution_count": 93,
   "metadata": {
    "scrolled": false
   },
   "outputs": [
    {
     "data": {
      "text/html": [
       "<div>\n",
       "<style scoped>\n",
       "    .dataframe tbody tr th:only-of-type {\n",
       "        vertical-align: middle;\n",
       "    }\n",
       "\n",
       "    .dataframe tbody tr th {\n",
       "        vertical-align: top;\n",
       "    }\n",
       "\n",
       "    .dataframe thead th {\n",
       "        text-align: right;\n",
       "    }\n",
       "</style>\n",
       "<table border=\"1\" class=\"dataframe\">\n",
       "  <thead>\n",
       "    <tr style=\"text-align: right;\">\n",
       "      <th></th>\n",
       "      <th>country</th>\n",
       "      <th>region</th>\n",
       "      <th>cpi_score</th>\n",
       "      <th>infant_mortality_rate</th>\n",
       "      <th>literacy_rate</th>\n",
       "      <th>gini_index</th>\n",
       "      <th>gdp_per_capita</th>\n",
       "    </tr>\n",
       "  </thead>\n",
       "  <tbody>\n",
       "    <tr>\n",
       "      <th>20</th>\n",
       "      <td>Bermuda</td>\n",
       "      <td>North America</td>\n",
       "      <td>7.99</td>\n",
       "      <td>5.66</td>\n",
       "      <td>NaN</td>\n",
       "      <td>37.225</td>\n",
       "      <td>65455.868678</td>\n",
       "    </tr>\n",
       "    <tr>\n",
       "      <th>33</th>\n",
       "      <td>Canada</td>\n",
       "      <td>North America</td>\n",
       "      <td>8.78</td>\n",
       "      <td>4.94</td>\n",
       "      <td>NaN</td>\n",
       "      <td>33.700</td>\n",
       "      <td>25781.976322</td>\n",
       "    </tr>\n",
       "    <tr>\n",
       "      <th>201</th>\n",
       "      <td>United States</td>\n",
       "      <td>North America</td>\n",
       "      <td>7.20</td>\n",
       "      <td>6.38</td>\n",
       "      <td>NaN</td>\n",
       "      <td>40.750</td>\n",
       "      <td>37695.903618</td>\n",
       "    </tr>\n",
       "  </tbody>\n",
       "</table>\n",
       "</div>"
      ],
      "text/plain": [
       "           country         region  cpi_score  infant_mortality_rate  \\\n",
       "20         Bermuda  North America       7.99                   5.66   \n",
       "33          Canada  North America       8.78                   4.94   \n",
       "201  United States  North America       7.20                   6.38   \n",
       "\n",
       "     literacy_rate  gini_index  gdp_per_capita  \n",
       "20             NaN      37.225    65455.868678  \n",
       "33             NaN      33.700    25781.976322  \n",
       "201            NaN      40.750    37695.903618  "
      ]
     },
     "execution_count": 93,
     "metadata": {},
     "output_type": "execute_result"
    }
   ],
   "source": [
    "# List records with Null\n",
    "\n",
    "df_avg[pd.isnull(df_avg).any(axis=1)]"
   ]
  },
  {
   "cell_type": "markdown",
   "metadata": {},
   "source": [
    "As decided earlier, we will obtain the global mean of literacy_rate and assign this to North American countries."
   ]
  },
  {
   "cell_type": "code",
   "execution_count": 94,
   "metadata": {
    "scrolled": true
   },
   "outputs": [
    {
     "data": {
      "text/html": [
       "<div>\n",
       "<style scoped>\n",
       "    .dataframe tbody tr th:only-of-type {\n",
       "        vertical-align: middle;\n",
       "    }\n",
       "\n",
       "    .dataframe tbody tr th {\n",
       "        vertical-align: top;\n",
       "    }\n",
       "\n",
       "    .dataframe thead th {\n",
       "        text-align: right;\n",
       "    }\n",
       "</style>\n",
       "<table border=\"1\" class=\"dataframe\">\n",
       "  <thead>\n",
       "    <tr style=\"text-align: right;\">\n",
       "      <th></th>\n",
       "      <th>cpi_score</th>\n",
       "      <th>infant_mortality_rate</th>\n",
       "      <th>literacy_rate</th>\n",
       "      <th>gini_index</th>\n",
       "      <th>gdp_per_capita</th>\n",
       "    </tr>\n",
       "  </thead>\n",
       "  <tbody>\n",
       "    <tr>\n",
       "      <th>count</th>\n",
       "      <td>211.000000</td>\n",
       "      <td>211.000000</td>\n",
       "      <td>208.000000</td>\n",
       "      <td>211.000000</td>\n",
       "      <td>211.000000</td>\n",
       "    </tr>\n",
       "    <tr>\n",
       "      <th>mean</th>\n",
       "      <td>4.088697</td>\n",
       "      <td>27.883904</td>\n",
       "      <td>84.767862</td>\n",
       "      <td>39.064161</td>\n",
       "      <td>8890.097876</td>\n",
       "    </tr>\n",
       "    <tr>\n",
       "      <th>std</th>\n",
       "      <td>2.002674</td>\n",
       "      <td>25.568050</td>\n",
       "      <td>16.496973</td>\n",
       "      <td>7.960935</td>\n",
       "      <td>14024.659745</td>\n",
       "    </tr>\n",
       "    <tr>\n",
       "      <th>min</th>\n",
       "      <td>1.000000</td>\n",
       "      <td>1.930000</td>\n",
       "      <td>25.307745</td>\n",
       "      <td>24.540000</td>\n",
       "      <td>103.104815</td>\n",
       "    </tr>\n",
       "    <tr>\n",
       "      <th>25%</th>\n",
       "      <td>2.610000</td>\n",
       "      <td>7.550000</td>\n",
       "      <td>81.383965</td>\n",
       "      <td>33.035000</td>\n",
       "      <td>878.625684</td>\n",
       "    </tr>\n",
       "    <tr>\n",
       "      <th>50%</th>\n",
       "      <td>3.480000</td>\n",
       "      <td>17.780000</td>\n",
       "      <td>92.182549</td>\n",
       "      <td>37.144133</td>\n",
       "      <td>3036.536292</td>\n",
       "    </tr>\n",
       "    <tr>\n",
       "      <th>75%</th>\n",
       "      <td>5.170000</td>\n",
       "      <td>43.290000</td>\n",
       "      <td>98.149657</td>\n",
       "      <td>45.027143</td>\n",
       "      <td>9054.292336</td>\n",
       "    </tr>\n",
       "    <tr>\n",
       "      <th>max</th>\n",
       "      <td>9.380000</td>\n",
       "      <td>112.080000</td>\n",
       "      <td>99.998262</td>\n",
       "      <td>63.200000</td>\n",
       "      <td>103885.246787</td>\n",
       "    </tr>\n",
       "  </tbody>\n",
       "</table>\n",
       "</div>"
      ],
      "text/plain": [
       "        cpi_score  infant_mortality_rate  literacy_rate  gini_index  \\\n",
       "count  211.000000             211.000000     208.000000  211.000000   \n",
       "mean     4.088697              27.883904      84.767862   39.064161   \n",
       "std      2.002674              25.568050      16.496973    7.960935   \n",
       "min      1.000000               1.930000      25.307745   24.540000   \n",
       "25%      2.610000               7.550000      81.383965   33.035000   \n",
       "50%      3.480000              17.780000      92.182549   37.144133   \n",
       "75%      5.170000              43.290000      98.149657   45.027143   \n",
       "max      9.380000             112.080000      99.998262   63.200000   \n",
       "\n",
       "       gdp_per_capita  \n",
       "count      211.000000  \n",
       "mean      8890.097876  \n",
       "std      14024.659745  \n",
       "min        103.104815  \n",
       "25%        878.625684  \n",
       "50%       3036.536292  \n",
       "75%       9054.292336  \n",
       "max     103885.246787  "
      ]
     },
     "execution_count": 94,
     "metadata": {},
     "output_type": "execute_result"
    }
   ],
   "source": [
    "# We are interested in the mean of Literacy rate\n",
    "\n",
    "df_avg.describe()"
   ]
  },
  {
   "cell_type": "markdown",
   "metadata": {},
   "source": [
    "All columns now appear to have values, with exception of literacy rate. As observed earlier, literacy rate is missing values for 3 countries in North America.\n",
    "\n",
    "To remedy this, we will use the global literacy rate average, 84.7, for these North American countries."
   ]
  },
  {
   "cell_type": "code",
   "execution_count": 95,
   "metadata": {},
   "outputs": [],
   "source": [
    "# Fill in missing literacy rate values using global average\n",
    "\n",
    "df_avg.literacy_rate = df_avg.literacy_rate.fillna(df_avg.literacy_rate.mean())"
   ]
  },
  {
   "cell_type": "markdown",
   "metadata": {},
   "source": [
    "Let us confirm that the average literacy rate value has replaced the null North American values."
   ]
  },
  {
   "cell_type": "code",
   "execution_count": 96,
   "metadata": {},
   "outputs": [
    {
     "data": {
      "text/html": [
       "<div>\n",
       "<style scoped>\n",
       "    .dataframe tbody tr th:only-of-type {\n",
       "        vertical-align: middle;\n",
       "    }\n",
       "\n",
       "    .dataframe tbody tr th {\n",
       "        vertical-align: top;\n",
       "    }\n",
       "\n",
       "    .dataframe thead th {\n",
       "        text-align: right;\n",
       "    }\n",
       "</style>\n",
       "<table border=\"1\" class=\"dataframe\">\n",
       "  <thead>\n",
       "    <tr style=\"text-align: right;\">\n",
       "      <th></th>\n",
       "      <th>country</th>\n",
       "      <th>region</th>\n",
       "      <th>cpi_score</th>\n",
       "      <th>infant_mortality_rate</th>\n",
       "      <th>literacy_rate</th>\n",
       "      <th>gini_index</th>\n",
       "      <th>gdp_per_capita</th>\n",
       "    </tr>\n",
       "  </thead>\n",
       "  <tbody>\n",
       "    <tr>\n",
       "      <th>20</th>\n",
       "      <td>Bermuda</td>\n",
       "      <td>North America</td>\n",
       "      <td>7.99</td>\n",
       "      <td>5.66</td>\n",
       "      <td>84.767862</td>\n",
       "      <td>37.225</td>\n",
       "      <td>65455.868678</td>\n",
       "    </tr>\n",
       "    <tr>\n",
       "      <th>33</th>\n",
       "      <td>Canada</td>\n",
       "      <td>North America</td>\n",
       "      <td>8.78</td>\n",
       "      <td>4.94</td>\n",
       "      <td>84.767862</td>\n",
       "      <td>33.700</td>\n",
       "      <td>25781.976322</td>\n",
       "    </tr>\n",
       "    <tr>\n",
       "      <th>201</th>\n",
       "      <td>United States</td>\n",
       "      <td>North America</td>\n",
       "      <td>7.20</td>\n",
       "      <td>6.38</td>\n",
       "      <td>84.767862</td>\n",
       "      <td>40.750</td>\n",
       "      <td>37695.903618</td>\n",
       "    </tr>\n",
       "  </tbody>\n",
       "</table>\n",
       "</div>"
      ],
      "text/plain": [
       "           country         region  cpi_score  infant_mortality_rate  \\\n",
       "20         Bermuda  North America       7.99                   5.66   \n",
       "33          Canada  North America       8.78                   4.94   \n",
       "201  United States  North America       7.20                   6.38   \n",
       "\n",
       "     literacy_rate  gini_index  gdp_per_capita  \n",
       "20       84.767862      37.225    65455.868678  \n",
       "33       84.767862      33.700    25781.976322  \n",
       "201      84.767862      40.750    37695.903618  "
      ]
     },
     "execution_count": 96,
     "metadata": {},
     "output_type": "execute_result"
    }
   ],
   "source": [
    "df_avg.query('region == \"North America\"')"
   ]
  },
  {
   "cell_type": "code",
   "execution_count": 97,
   "metadata": {},
   "outputs": [
    {
     "data": {
      "text/html": [
       "<div>\n",
       "<style scoped>\n",
       "    .dataframe tbody tr th:only-of-type {\n",
       "        vertical-align: middle;\n",
       "    }\n",
       "\n",
       "    .dataframe tbody tr th {\n",
       "        vertical-align: top;\n",
       "    }\n",
       "\n",
       "    .dataframe thead th {\n",
       "        text-align: right;\n",
       "    }\n",
       "</style>\n",
       "<table border=\"1\" class=\"dataframe\">\n",
       "  <thead>\n",
       "    <tr style=\"text-align: right;\">\n",
       "      <th></th>\n",
       "      <th>country</th>\n",
       "      <th>region</th>\n",
       "      <th>cpi_score</th>\n",
       "      <th>infant_mortality_rate</th>\n",
       "      <th>literacy_rate</th>\n",
       "      <th>gini_index</th>\n",
       "      <th>gdp_per_capita</th>\n",
       "    </tr>\n",
       "  </thead>\n",
       "  <tbody>\n",
       "  </tbody>\n",
       "</table>\n",
       "</div>"
      ],
      "text/plain": [
       "Empty DataFrame\n",
       "Columns: [country, region, cpi_score, infant_mortality_rate, literacy_rate, gini_index, gdp_per_capita]\n",
       "Index: []"
      ]
     },
     "execution_count": 97,
     "metadata": {},
     "output_type": "execute_result"
    }
   ],
   "source": [
    "df_avg[pd.isnull(df_avg).any(axis=1)]"
   ]
  },
  {
   "cell_type": "markdown",
   "metadata": {},
   "source": [
    "Missing literacy rate for North America was correctly updated.\n",
    "\n",
    "One final check of our data, to confirm all cleaning actions have been successfully carried out."
   ]
  },
  {
   "cell_type": "code",
   "execution_count": 98,
   "metadata": {},
   "outputs": [
    {
     "name": "stdout",
     "output_type": "stream",
     "text": [
      "<class 'pandas.core.frame.DataFrame'>\n",
      "RangeIndex: 211 entries, 0 to 210\n",
      "Data columns (total 7 columns):\n",
      "country                  211 non-null object\n",
      "region                   211 non-null object\n",
      "cpi_score                211 non-null float64\n",
      "infant_mortality_rate    211 non-null float64\n",
      "literacy_rate            211 non-null float64\n",
      "gini_index               211 non-null float64\n",
      "gdp_per_capita           211 non-null float64\n",
      "dtypes: float64(5), object(2)\n",
      "memory usage: 11.6+ KB\n"
     ]
    }
   ],
   "source": [
    "df_avg.info()"
   ]
  },
  {
   "cell_type": "code",
   "execution_count": 99,
   "metadata": {},
   "outputs": [
    {
     "data": {
      "text/html": [
       "<div>\n",
       "<style scoped>\n",
       "    .dataframe tbody tr th:only-of-type {\n",
       "        vertical-align: middle;\n",
       "    }\n",
       "\n",
       "    .dataframe tbody tr th {\n",
       "        vertical-align: top;\n",
       "    }\n",
       "\n",
       "    .dataframe thead th {\n",
       "        text-align: right;\n",
       "    }\n",
       "</style>\n",
       "<table border=\"1\" class=\"dataframe\">\n",
       "  <thead>\n",
       "    <tr style=\"text-align: right;\">\n",
       "      <th></th>\n",
       "      <th>cpi_score</th>\n",
       "      <th>infant_mortality_rate</th>\n",
       "      <th>literacy_rate</th>\n",
       "      <th>gini_index</th>\n",
       "      <th>gdp_per_capita</th>\n",
       "    </tr>\n",
       "  </thead>\n",
       "  <tbody>\n",
       "    <tr>\n",
       "      <th>count</th>\n",
       "      <td>211.000000</td>\n",
       "      <td>211.000000</td>\n",
       "      <td>211.000000</td>\n",
       "      <td>211.000000</td>\n",
       "      <td>211.000000</td>\n",
       "    </tr>\n",
       "    <tr>\n",
       "      <th>mean</th>\n",
       "      <td>4.088697</td>\n",
       "      <td>27.883904</td>\n",
       "      <td>84.767862</td>\n",
       "      <td>39.064161</td>\n",
       "      <td>8890.097876</td>\n",
       "    </tr>\n",
       "    <tr>\n",
       "      <th>std</th>\n",
       "      <td>2.002674</td>\n",
       "      <td>25.568050</td>\n",
       "      <td>16.378714</td>\n",
       "      <td>7.960935</td>\n",
       "      <td>14024.659745</td>\n",
       "    </tr>\n",
       "    <tr>\n",
       "      <th>min</th>\n",
       "      <td>1.000000</td>\n",
       "      <td>1.930000</td>\n",
       "      <td>25.307745</td>\n",
       "      <td>24.540000</td>\n",
       "      <td>103.104815</td>\n",
       "    </tr>\n",
       "    <tr>\n",
       "      <th>25%</th>\n",
       "      <td>2.610000</td>\n",
       "      <td>7.550000</td>\n",
       "      <td>81.383965</td>\n",
       "      <td>33.035000</td>\n",
       "      <td>878.625684</td>\n",
       "    </tr>\n",
       "    <tr>\n",
       "      <th>50%</th>\n",
       "      <td>3.480000</td>\n",
       "      <td>17.780000</td>\n",
       "      <td>91.559827</td>\n",
       "      <td>37.144133</td>\n",
       "      <td>3036.536292</td>\n",
       "    </tr>\n",
       "    <tr>\n",
       "      <th>75%</th>\n",
       "      <td>5.170000</td>\n",
       "      <td>43.290000</td>\n",
       "      <td>98.149657</td>\n",
       "      <td>45.027143</td>\n",
       "      <td>9054.292336</td>\n",
       "    </tr>\n",
       "    <tr>\n",
       "      <th>max</th>\n",
       "      <td>9.380000</td>\n",
       "      <td>112.080000</td>\n",
       "      <td>99.998262</td>\n",
       "      <td>63.200000</td>\n",
       "      <td>103885.246787</td>\n",
       "    </tr>\n",
       "  </tbody>\n",
       "</table>\n",
       "</div>"
      ],
      "text/plain": [
       "        cpi_score  infant_mortality_rate  literacy_rate  gini_index  \\\n",
       "count  211.000000             211.000000     211.000000  211.000000   \n",
       "mean     4.088697              27.883904      84.767862   39.064161   \n",
       "std      2.002674              25.568050      16.378714    7.960935   \n",
       "min      1.000000               1.930000      25.307745   24.540000   \n",
       "25%      2.610000               7.550000      81.383965   33.035000   \n",
       "50%      3.480000              17.780000      91.559827   37.144133   \n",
       "75%      5.170000              43.290000      98.149657   45.027143   \n",
       "max      9.380000             112.080000      99.998262   63.200000   \n",
       "\n",
       "       gdp_per_capita  \n",
       "count      211.000000  \n",
       "mean      8890.097876  \n",
       "std      14024.659745  \n",
       "min        103.104815  \n",
       "25%        878.625684  \n",
       "50%       3036.536292  \n",
       "75%       9054.292336  \n",
       "max     103885.246787  "
      ]
     },
     "execution_count": 99,
     "metadata": {},
     "output_type": "execute_result"
    }
   ],
   "source": [
    "df_avg.describe()"
   ]
  },
  {
   "cell_type": "code",
   "execution_count": 100,
   "metadata": {
    "scrolled": true
   },
   "outputs": [
    {
     "data": {
      "text/html": [
       "<div>\n",
       "<style scoped>\n",
       "    .dataframe tbody tr th:only-of-type {\n",
       "        vertical-align: middle;\n",
       "    }\n",
       "\n",
       "    .dataframe tbody tr th {\n",
       "        vertical-align: top;\n",
       "    }\n",
       "\n",
       "    .dataframe thead th {\n",
       "        text-align: right;\n",
       "    }\n",
       "</style>\n",
       "<table border=\"1\" class=\"dataframe\">\n",
       "  <thead>\n",
       "    <tr style=\"text-align: right;\">\n",
       "      <th></th>\n",
       "      <th>country</th>\n",
       "      <th>region</th>\n",
       "      <th>cpi_score</th>\n",
       "      <th>infant_mortality_rate</th>\n",
       "      <th>literacy_rate</th>\n",
       "      <th>gini_index</th>\n",
       "      <th>gdp_per_capita</th>\n",
       "    </tr>\n",
       "  </thead>\n",
       "  <tbody>\n",
       "    <tr>\n",
       "      <th>0</th>\n",
       "      <td>Afghanistan</td>\n",
       "      <td>Asia &amp; Pacific</td>\n",
       "      <td>1.480000</td>\n",
       "      <td>76.86</td>\n",
       "      <td>39.000000</td>\n",
       "      <td>37.144133</td>\n",
       "      <td>6875.002351</td>\n",
       "    </tr>\n",
       "    <tr>\n",
       "      <th>1</th>\n",
       "      <td>Albania</td>\n",
       "      <td>Europe</td>\n",
       "      <td>3.160000</td>\n",
       "      <td>15.44</td>\n",
       "      <td>96.391969</td>\n",
       "      <td>30.000000</td>\n",
       "      <td>1844.903592</td>\n",
       "    </tr>\n",
       "    <tr>\n",
       "      <th>2</th>\n",
       "      <td>Algeria</td>\n",
       "      <td>Arab States</td>\n",
       "      <td>2.900000</td>\n",
       "      <td>24.46</td>\n",
       "      <td>81.398935</td>\n",
       "      <td>27.600000</td>\n",
       "      <td>2201.836568</td>\n",
       "    </tr>\n",
       "    <tr>\n",
       "      <th>3</th>\n",
       "      <td>Andorra</td>\n",
       "      <td>Europe</td>\n",
       "      <td>5.789512</td>\n",
       "      <td>2.60</td>\n",
       "      <td>98.149657</td>\n",
       "      <td>31.779065</td>\n",
       "      <td>21719.572490</td>\n",
       "    </tr>\n",
       "    <tr>\n",
       "      <th>4</th>\n",
       "      <td>Angola</td>\n",
       "      <td>Africa</td>\n",
       "      <td>1.980000</td>\n",
       "      <td>112.08</td>\n",
       "      <td>70.362420</td>\n",
       "      <td>42.700000</td>\n",
       "      <td>611.714745</td>\n",
       "    </tr>\n",
       "  </tbody>\n",
       "</table>\n",
       "</div>"
      ],
      "text/plain": [
       "       country          region  cpi_score  infant_mortality_rate  \\\n",
       "0  Afghanistan  Asia & Pacific   1.480000                  76.86   \n",
       "1      Albania          Europe   3.160000                  15.44   \n",
       "2      Algeria     Arab States   2.900000                  24.46   \n",
       "3      Andorra          Europe   5.789512                   2.60   \n",
       "4       Angola          Africa   1.980000                 112.08   \n",
       "\n",
       "   literacy_rate  gini_index  gdp_per_capita  \n",
       "0      39.000000   37.144133     6875.002351  \n",
       "1      96.391969   30.000000     1844.903592  \n",
       "2      81.398935   27.600000     2201.836568  \n",
       "3      98.149657   31.779065    21719.572490  \n",
       "4      70.362420   42.700000      611.714745  "
      ]
     },
     "execution_count": 100,
     "metadata": {},
     "output_type": "execute_result"
    }
   ],
   "source": [
    "df_avg.head()"
   ]
  },
  {
   "cell_type": "markdown",
   "metadata": {},
   "source": [
    "Cleaning now appears complete, missing values appear to have been filled in."
   ]
  },
  {
   "cell_type": "markdown",
   "metadata": {},
   "source": [
    "What have we done so far? We have :\n",
    "   \n",
    "   - Consolidated our data from multiple files / sources into a single data set\n",
    "   - Removed data for non-country entities\n",
    "   - Resolved naming discrepancies, and combined observations where needed\n",
    "   - Augmented our data by adding 'region' classification\n",
    "   - Created a version of our dataset that holds the five-year average of observations in each metric\n",
    "   - Identified missing values\n",
    "   - Removed 'Poverty' metric from our dataset, and re-framed our questions, due to large number of missing values\n",
    "   - Used Region averages to fill in missing values, and a global average where regional average was not available\n",
    "   - Checked and confirmed all cleaning actions successsful and complete. \n",
    "\n",
    "As a result of these steps, our data is now ready for exploratory analysis."
   ]
  },
  {
   "cell_type": "markdown",
   "metadata": {},
   "source": [
    "Before we dive into exploratory analysis however, let us take a quick overview of distributions within our metrics, followed by a brief description of the range of values in each."
   ]
  },
  {
   "cell_type": "code",
   "execution_count": 101,
   "metadata": {},
   "outputs": [
    {
     "data": {
      "image/png": "[encoded data removed]",
      "text/plain": [
       "<Figure size 1080x1080 with 6 Axes>"
      ]
     },
     "metadata": {},
     "output_type": "display_data"
    }
   ],
   "source": [
    "df_avg.hist(figsize=(15,15));"
   ]
  },
  {
   "cell_type": "markdown",
   "metadata": {},
   "source": [
    "**A brief reminder of the columns, what they measure and the value range.**"
   ]
  },
  {
   "cell_type": "markdown",
   "metadata": {},
   "source": [
    "\n",
    "**CPI Score:** Ranks countries/territories based on how corrupt their public sector is perceived to be. 0 means that a country is perceived as highly corrupt and 10 means that a country is perceived as very clean.\n",
    "\n",
    "\n",
    "**GDP per Capita:** Per capita GDP is a measure of the total output of a country that takes the gross domestic product (GDP) and divides it by the number of people in that country. Higher values for per capita GDP signals high productivity withiin a country. Values are in USD.\n",
    "\n",
    "\n",
    "**GINI Index:** Measures the extent to which the distribution of income among individuals or households within an economy deviates from a perfectly equal distribution. A Gini index of 0 represents perfect equality, while an index of 100 implies perfect inequality.\n",
    "\n",
    "**Infant Mortality Rate (IMR):** IMR has been defined as the number of deaths in children under 1 year of age per 1000 live births in the same year.\n",
    "\n",
    "**Adult Literacy Rate:** Adult literacy rate is the percentage of people aged 15 years and above who can read and write.\n"
   ]
  },
  {
   "cell_type": "markdown",
   "metadata": {},
   "source": [
    "<a id='eda'></a>\n",
    "## Exploratory Data Analysis\n",
    "\n",
    "Let us now explore our data, using our research questions as guide."
   ]
  },
  {
   "cell_type": "markdown",
   "metadata": {},
   "source": [
    "### Q1. Which five countries have the worst and best measures of income inequality?"
   ]
  },
  {
   "cell_type": "markdown",
   "metadata": {},
   "source": [
    "A Gini index of 0 represents perfect equality, while an index of 100 implies perfect inequality.\n"
   ]
  },
  {
   "cell_type": "code",
   "execution_count": 102,
   "metadata": {},
   "outputs": [
    {
     "data": {
      "image/png": "[encoded data removed]",
      "text/plain": [
       "<Figure size 432x288 with 1 Axes>"
      ]
     },
     "metadata": {},
     "output_type": "display_data"
    }
   ],
   "source": [
    "# Quick view of distribution of GINI data\n",
    "\n",
    "df_avg.gini_index.hist()\n",
    "plt.title('Spread and Count of GINI Index Values')\n",
    "plt.ylabel('Frequency')\n",
    "plt.xlabel('GINI Index');"
   ]
  },
  {
   "cell_type": "code",
   "execution_count": 103,
   "metadata": {},
   "outputs": [
    {
     "data": {
      "text/plain": [
       "(39.064160699836485, 37.144133333333336)"
      ]
     },
     "execution_count": 103,
     "metadata": {},
     "output_type": "execute_result"
    }
   ],
   "source": [
    "df_avg.gini_index.mean(), df_avg.gini_index.median()"
   ]
  },
  {
   "cell_type": "markdown",
   "metadata": {},
   "source": [
    "Data appears to skew to the right, implying that if we split the data around the middle point, we will find there are more countries with high income inequality (low values in the index) than there are with low inequality. Let us identify the five highest and lowest. \n",
    "\n",
    "The next cell will identify the 5 highest and 5 lowest, and combine the results into a single dataframe."
   ]
  },
  {
   "cell_type": "code",
   "execution_count": 104,
   "metadata": {
    "scrolled": false
   },
   "outputs": [
    {
     "data": {
      "text/html": [
       "<div>\n",
       "<style scoped>\n",
       "    .dataframe tbody tr th:only-of-type {\n",
       "        vertical-align: middle;\n",
       "    }\n",
       "\n",
       "    .dataframe tbody tr th {\n",
       "        vertical-align: top;\n",
       "    }\n",
       "\n",
       "    .dataframe thead th {\n",
       "        text-align: right;\n",
       "    }\n",
       "</style>\n",
       "<table border=\"1\" class=\"dataframe\">\n",
       "  <thead>\n",
       "    <tr style=\"text-align: right;\">\n",
       "      <th></th>\n",
       "      <th>country</th>\n",
       "      <th>region</th>\n",
       "      <th>gini_index</th>\n",
       "      <th>gini_type</th>\n",
       "    </tr>\n",
       "  </thead>\n",
       "  <tbody>\n",
       "    <tr>\n",
       "      <th>51</th>\n",
       "      <td>Czech Republic</td>\n",
       "      <td>Europe</td>\n",
       "      <td>26.30</td>\n",
       "      <td>Lowest inequality</td>\n",
       "    </tr>\n",
       "    <tr>\n",
       "      <th>141</th>\n",
       "      <td>Norway</td>\n",
       "      <td>Europe</td>\n",
       "      <td>26.26</td>\n",
       "      <td>Lowest inequality</td>\n",
       "    </tr>\n",
       "    <tr>\n",
       "      <th>166</th>\n",
       "      <td>Slovakia</td>\n",
       "      <td>Europe</td>\n",
       "      <td>26.34</td>\n",
       "      <td>Lowest inequality</td>\n",
       "    </tr>\n",
       "    <tr>\n",
       "      <th>167</th>\n",
       "      <td>Slovenia</td>\n",
       "      <td>Europe</td>\n",
       "      <td>24.54</td>\n",
       "      <td>Lowest inequality</td>\n",
       "    </tr>\n",
       "    <tr>\n",
       "      <th>198</th>\n",
       "      <td>Ukraine</td>\n",
       "      <td>CIS</td>\n",
       "      <td>25.66</td>\n",
       "      <td>Lowest inequality</td>\n",
       "    </tr>\n",
       "    <tr>\n",
       "      <th>24</th>\n",
       "      <td>Botswana</td>\n",
       "      <td>Africa</td>\n",
       "      <td>60.50</td>\n",
       "      <td>Highest inequality</td>\n",
       "    </tr>\n",
       "    <tr>\n",
       "      <th>36</th>\n",
       "      <td>Central African Republic</td>\n",
       "      <td>Africa</td>\n",
       "      <td>56.20</td>\n",
       "      <td>Highest inequality</td>\n",
       "    </tr>\n",
       "    <tr>\n",
       "      <th>130</th>\n",
       "      <td>Namibia</td>\n",
       "      <td>Africa</td>\n",
       "      <td>61.00</td>\n",
       "      <td>Highest inequality</td>\n",
       "    </tr>\n",
       "    <tr>\n",
       "      <th>170</th>\n",
       "      <td>South Africa</td>\n",
       "      <td>Africa</td>\n",
       "      <td>63.20</td>\n",
       "      <td>Highest inequality</td>\n",
       "    </tr>\n",
       "    <tr>\n",
       "      <th>209</th>\n",
       "      <td>Zambia</td>\n",
       "      <td>Africa</td>\n",
       "      <td>55.60</td>\n",
       "      <td>Highest inequality</td>\n",
       "    </tr>\n",
       "  </tbody>\n",
       "</table>\n",
       "</div>"
      ],
      "text/plain": [
       "                      country  region  gini_index           gini_type\n",
       "51             Czech Republic  Europe       26.30   Lowest inequality\n",
       "141                    Norway  Europe       26.26   Lowest inequality\n",
       "166                  Slovakia  Europe       26.34   Lowest inequality\n",
       "167                  Slovenia  Europe       24.54   Lowest inequality\n",
       "198                   Ukraine     CIS       25.66   Lowest inequality\n",
       "24                   Botswana  Africa       60.50  Highest inequality\n",
       "36   Central African Republic  Africa       56.20  Highest inequality\n",
       "130                   Namibia  Africa       61.00  Highest inequality\n",
       "170              South Africa  Africa       63.20  Highest inequality\n",
       "209                    Zambia  Africa       55.60  Highest inequality"
      ]
     },
     "execution_count": 104,
     "metadata": {},
     "output_type": "execute_result"
    }
   ],
   "source": [
    "# Lowest income inequality\n",
    "l = df_avg.gini_index.drop_duplicates().nsmallest(5)\n",
    "df_lowest_gini = df_avg.query('gini_index == @l')\n",
    "df_lowest_gini_t = df_lowest_gini.drop(['cpi_score', 'infant_mortality_rate', 'literacy_rate', 'gdp_per_capita'], axis=1)\n",
    "df_lowest_gini_t['gini_type'] = 'Lowest inequality'\n",
    "\n",
    "# Highest income inequality\n",
    "h = df_avg.gini_index.drop_duplicates().nlargest(5)\n",
    "df_highest_gini = df_avg.query('gini_index == @h')\n",
    "df_highest_gini_t = df_highest_gini.drop(['cpi_score', 'infant_mortality_rate', 'literacy_rate', 'gdp_per_capita'], axis=1)\n",
    "df_highest_gini_t['gini_type'] = 'Highest inequality'\n",
    "\n",
    "# Combine lowest and Highest GINI\n",
    "df_gini_lh_t = df_lowest_gini_t.append(df_highest_gini_t)\n",
    "df_gini_lh_t"
   ]
  },
  {
   "cell_type": "code",
   "execution_count": 105,
   "metadata": {
    "scrolled": true
   },
   "outputs": [
    {
     "data": {
      "image/png": "[encoded data removed]",
      "text/plain": [
       "<Figure size 432x288 with 1 Axes>"
      ]
     },
     "metadata": {},
     "output_type": "display_data"
    }
   ],
   "source": [
    "# Plot five highest and five lowest on a horizontal bar chart\n",
    "\n",
    "df_gini_lh_t.sort_values(by=['gini_index'], inplace=True)\n",
    "ax = df_gini_lh_t.plot(kind='barh')\n",
    "ax.set_yticklabels(df_gini_lh_t.country)\n",
    "\n",
    "ax.set_title('Top 5 and Bottom 5 GINI Countries')\n",
    "\n",
    "# set individual bar labels\n",
    "for i in ax.patches:\n",
    "    # get_width pulls left or right; get_y pushes up or down\n",
    "    ax.text(i.get_width(), i.get_y(), str(round((i.get_width()), 2)));\n",
    "    \n",
    "# Credit for annotations: http://robertmitchellv.com/blog-bar-chart-annotations-pandas-mpl.html"
   ]
  },
  {
   "cell_type": "markdown",
   "metadata": {},
   "source": [
    "All five worst inequality scores are in Africa, while countries with best (lowest) inequality scores are in Europe. Let's use the 'region' calssification to see if this trend extends beyong the five highest and lowest."
   ]
  },
  {
   "cell_type": "code",
   "execution_count": 106,
   "metadata": {},
   "outputs": [
    {
     "data": {
      "text/plain": [
       "region\n",
       "Africa                 45.027143\n",
       "Arab States            33.212500\n",
       "Asia & Pacific         37.144133\n",
       "CIS                    30.420000\n",
       "Europe                 31.779065\n",
       "North America          37.225000\n",
       "South/Latin America    48.778125\n",
       "Name: gini_index, dtype: float64"
      ]
     },
     "execution_count": 106,
     "metadata": {},
     "output_type": "execute_result"
    }
   ],
   "source": [
    "# GINI index by region \n",
    "\n",
    "df_avg.groupby('region')['gini_index'].mean()"
   ]
  },
  {
   "cell_type": "code",
   "execution_count": 107,
   "metadata": {},
   "outputs": [
    {
     "data": {
      "image/png": "[encoded data removed]",
      "text/plain": [
       "<Figure size 432x288 with 1 Axes>"
      ]
     },
     "metadata": {},
     "output_type": "display_data"
    }
   ],
   "source": [
    "# Groupby 'region' in the main dataset, and plot a histogram on the value count\n",
    "\n",
    "df_avg_mean = df_avg.groupby('region')['gini_index'].mean()\n",
    "df_avg_mean.sort_values(inplace=True)\n",
    "ax = df_avg_mean.plot(kind='barh')\n",
    "\n",
    "ax.set_title('Average Income Inequality Score (GINI) by Region')\n",
    "ax.set_xlabel('GINI Index')\n",
    "ax.set_ylabel('Region')\n",
    "\n",
    "for i in ax.patches:\n",
    "    # get_width pulls left or right; get_y pushes up or down\n",
    "    ax.text(i.get_width(), i.get_y(), str(round((i.get_width()), 2)));"
   ]
  },
  {
   "cell_type": "markdown",
   "metadata": {},
   "source": [
    "Surprisingly, although Africa has the five worst countries with income inequality, the region with worst average income equality appears to be South America. Let us try to understand why by comparing inequality among three regions: Africa, Europe and South America"
   ]
  },
  {
   "cell_type": "code",
   "execution_count": 108,
   "metadata": {},
   "outputs": [
    {
     "data": {
      "image/png": "[encoded data removed]",
      "text/plain": [
       "<Figure size 720x432 with 1 Axes>"
      ]
     },
     "metadata": {},
     "output_type": "display_data"
    }
   ],
   "source": [
    "# Create masks\n",
    "africa = df_avg.region == 'Africa'\n",
    "europe = df_avg.region == 'Europe'\n",
    "s_america = df_avg.region == 'South/Latin America'\n",
    "\n",
    "# Filter and plot\n",
    "df_avg.gini_index[africa].hist(alpha=0.5, bins=5, label='Africa', figsize=(10,6))\n",
    "df_avg.gini_index[europe].hist(alpha=0.5, bins=5, label='Europe', figsize=(10,6))\n",
    "df_avg.gini_index[s_america].hist(alpha=0.5, bins=5, label='S. America', figsize=(10,6))\n",
    "#plt.figure(figsize=(15,15))\n",
    "plt.title('GINI Index Distribution in Africa, Europe and South America')\n",
    "plt.ylabel('Count of Observations')\n",
    "plt.xlabel('GINI Index Bins')\n",
    "\n",
    "plt.legend();"
   ]
  },
  {
   "cell_type": "markdown",
   "metadata": {},
   "source": [
    "The above histogram helps us understand our earlier finding. The GINI observations in South America are tightly clustered between 44 and 55. With Africa on the other hand, observations are spread across a broad value range. A few African countries appear to have low levels of income inequality (low GINI indexes), and these countries push Africa to a superior average score relative to South America. \n",
    "\n",
    "Lastly, let us identify these unusual African countries with low income inequality scores. "
   ]
  },
  {
   "cell_type": "code",
   "execution_count": 109,
   "metadata": {
    "scrolled": false
   },
   "outputs": [
    {
     "data": {
      "text/html": [
       "<div>\n",
       "<style scoped>\n",
       "    .dataframe tbody tr th:only-of-type {\n",
       "        vertical-align: middle;\n",
       "    }\n",
       "\n",
       "    .dataframe tbody tr th {\n",
       "        vertical-align: top;\n",
       "    }\n",
       "\n",
       "    .dataframe thead th {\n",
       "        text-align: right;\n",
       "    }\n",
       "</style>\n",
       "<table border=\"1\" class=\"dataframe\">\n",
       "  <thead>\n",
       "    <tr style=\"text-align: right;\">\n",
       "      <th></th>\n",
       "      <th>country</th>\n",
       "      <th>region</th>\n",
       "      <th>gini_index</th>\n",
       "      <th>gini_type</th>\n",
       "    </tr>\n",
       "  </thead>\n",
       "  <tbody>\n",
       "    <tr>\n",
       "      <th>159</th>\n",
       "      <td>Sao Tome and Principe</td>\n",
       "      <td>Africa</td>\n",
       "      <td>30.8</td>\n",
       "      <td>Lowest inequality</td>\n",
       "    </tr>\n",
       "    <tr>\n",
       "      <th>115</th>\n",
       "      <td>Mali</td>\n",
       "      <td>Africa</td>\n",
       "      <td>33.0</td>\n",
       "      <td>Lowest inequality</td>\n",
       "    </tr>\n",
       "    <tr>\n",
       "      <th>62</th>\n",
       "      <td>Ethiopia</td>\n",
       "      <td>Africa</td>\n",
       "      <td>33.2</td>\n",
       "      <td>Lowest inequality</td>\n",
       "    </tr>\n",
       "    <tr>\n",
       "      <th>164</th>\n",
       "      <td>Sierra Leone</td>\n",
       "      <td>Africa</td>\n",
       "      <td>34.0</td>\n",
       "      <td>Lowest inequality</td>\n",
       "    </tr>\n",
       "    <tr>\n",
       "      <th>137</th>\n",
       "      <td>Niger</td>\n",
       "      <td>Africa</td>\n",
       "      <td>34.4</td>\n",
       "      <td>Lowest inequality</td>\n",
       "    </tr>\n",
       "  </tbody>\n",
       "</table>\n",
       "</div>"
      ],
      "text/plain": [
       "                   country  region  gini_index          gini_type\n",
       "159  Sao Tome and Principe  Africa        30.8  Lowest inequality\n",
       "115                   Mali  Africa        33.0  Lowest inequality\n",
       "62                Ethiopia  Africa        33.2  Lowest inequality\n",
       "164           Sierra Leone  Africa        34.0  Lowest inequality\n",
       "137                  Niger  Africa        34.4  Lowest inequality"
      ]
     },
     "execution_count": 109,
     "metadata": {},
     "output_type": "execute_result"
    }
   ],
   "source": [
    "# Top five African countries with best income inequality measures\n",
    "\n",
    "al = df_avg[africa].gini_index.drop_duplicates().nsmallest(5)\n",
    "df_africa_lowest_gini = df_avg[africa].query('gini_index == @al')\n",
    "df_africa_lowest_gini_t = df_africa_lowest_gini.drop(['cpi_score', 'infant_mortality_rate', 'literacy_rate', 'gdp_per_capita'], axis=1)\n",
    "df_africa_lowest_gini_t['gini_type'] = 'Lowest inequality'\n",
    "df_africa_lowest_gini_t.sort_values(by='gini_index')"
   ]
  },
  {
   "cell_type": "markdown",
   "metadata": {},
   "source": [
    "So our observation in relation to this question is that **the top five countries with lowest income inequality are in Europe. On the other hand, the top 5 countries with highest income inquality are in Africa.** However, a few Afrian countries seem to have admirably high levels of fair income distribution, so that on average, South America, not Africa, appears to have the worst income inequality."
   ]
  },
  {
   "cell_type": "markdown",
   "metadata": {},
   "source": [
    "### Q2. Is there a relationship between income inequality and corruption?"
   ]
  },
  {
   "cell_type": "markdown",
   "metadata": {},
   "source": [
    "**Important Note:**\n",
    "\n",
    "**With GINI, 0 is perfect income distribution and 100 is totally imperfect income distribution**\n",
    "\n",
    "**With CPI, 0 is very corrupt and 10 is very clean**"
   ]
  },
  {
   "cell_type": "code",
   "execution_count": 110,
   "metadata": {},
   "outputs": [
    {
     "name": "stdout",
     "output_type": "stream",
     "text": [
      "<class 'pandas.core.frame.DataFrame'>\n",
      "RangeIndex: 211 entries, 0 to 210\n",
      "Data columns (total 4 columns):\n",
      "country       211 non-null object\n",
      "region        211 non-null object\n",
      "cpi_score     211 non-null float64\n",
      "gini_index    211 non-null float64\n",
      "dtypes: float64(2), object(2)\n",
      "memory usage: 6.7+ KB\n"
     ]
    }
   ],
   "source": [
    "# Create dataframe with only these two columns\n",
    "\n",
    "df_q2 = df_avg.drop(['infant_mortality_rate', 'literacy_rate', 'gdp_per_capita'], axis=1)\n",
    "\n",
    "df_q2.info()"
   ]
  },
  {
   "cell_type": "markdown",
   "metadata": {},
   "source": [
    "In earlier exploration, we have looked closely at the income inequality (GINI) data. Let us now examine data in the 'corruption perception' column.\n",
    "\n",
    "As a reminder, CPI Score ranks countries based on how corrupt their public sector is perceived to be. **0 means that a country is perceived as highly corrupt and 10 means that a country is perceived as very clean.**"
   ]
  },
  {
   "cell_type": "code",
   "execution_count": 111,
   "metadata": {},
   "outputs": [
    {
     "data": {
      "image/png": "[encoded data removed]",
      "text/plain": [
       "<Figure size 432x288 with 1 Axes>"
      ]
     },
     "metadata": {},
     "output_type": "display_data"
    }
   ],
   "source": [
    "#Plot  frequency distribution of cpi score\n",
    "\n",
    "df_q2.cpi_score.plot(kind='hist')\n",
    "plt.title('Frequency Distribution of CPI Score')\n",
    "plt.xlabel('CPI Score');"
   ]
  },
  {
   "cell_type": "code",
   "execution_count": 112,
   "metadata": {},
   "outputs": [
    {
     "data": {
      "text/plain": [
       "count    211.000000\n",
       "mean       4.088697\n",
       "std        2.002674\n",
       "min        1.000000\n",
       "25%        2.610000\n",
       "50%        3.480000\n",
       "75%        5.170000\n",
       "max        9.380000\n",
       "Name: cpi_score, dtype: float64"
      ]
     },
     "execution_count": 112,
     "metadata": {},
     "output_type": "execute_result"
    }
   ],
   "source": [
    "df_q2.cpi_score.describe()"
   ]
  },
  {
   "cell_type": "markdown",
   "metadata": {},
   "source": [
    "We note that the CPI distribution is skewed to the right, implying that a larger number of countries score lower than the average corruption perception.\n",
    "\n",
    "Let us see how this differs by region."
   ]
  },
  {
   "cell_type": "code",
   "execution_count": 113,
   "metadata": {},
   "outputs": [
    {
     "data": {
      "text/plain": [
       "0          Asia & Pacific\n",
       "1                  Europe\n",
       "2             Arab States\n",
       "4                  Africa\n",
       "5     South/Latin America\n",
       "7                     CIS\n",
       "20          North America\n",
       "Name: region, dtype: object"
      ]
     },
     "execution_count": 113,
     "metadata": {},
     "output_type": "execute_result"
    }
   ],
   "source": [
    "# List all regions\n",
    "\n",
    "df_q2.region.drop_duplicates()"
   ]
  },
  {
   "cell_type": "code",
   "execution_count": 114,
   "metadata": {},
   "outputs": [],
   "source": [
    "# Create masks\n",
    "\n",
    "asia = df_q2.region == 'Asia & Pacific'\n",
    "europe = df_q2.region == 'Europe'\n",
    "arab = df_q2.region == 'Arab States'\n",
    "africa = df_q2.region == 'Africa'\n",
    "s_america = df_q2.region == 'South/Latin America'\n",
    "cis = df_q2.region == 'CIS'\n",
    "n_america = df_q2.region == 'North America'"
   ]
  },
  {
   "cell_type": "code",
   "execution_count": 115,
   "metadata": {},
   "outputs": [
    {
     "data": {
      "image/png": "[encoded data removed]",
      "text/plain": [
       "<Figure size 1080x576 with 1 Axes>"
      ]
     },
     "metadata": {},
     "output_type": "display_data"
    }
   ],
   "source": [
    "# Filter dataframe by masks and plot histogram\n",
    "\n",
    "df_q2.cpi_score[asia].hist(alpha=0.5, bins=2, label='Asia', figsize=(15,8))\n",
    "df_q2.cpi_score[europe].hist(alpha=0.5, bins=2, label='Europe', figsize=(15,8))\n",
    "df_q2.cpi_score[arab].hist(alpha=0.5, bins=2, label='Arab States', figsize=(15,8))\n",
    "df_q2.cpi_score[africa].hist(alpha=0.5, bins=2, label='Africa', figsize=(15,8))\n",
    "df_q2.cpi_score[s_america].hist(alpha=0.5, bins=2, label='S. America', figsize=(10,8))\n",
    "df_q2.cpi_score[cis].hist(alpha=0.5, bins=2, label='CIS', figsize=(15,8))\n",
    "df_q2.cpi_score[n_america].hist(alpha=0.5, bins=2, label='N. America', figsize=(15,8))\n",
    "\n",
    "# Set title and label axes\n",
    "plt.title('Frequency Distribution of CPI Score by Region')\n",
    "plt.xlabel('CPI Score')\n",
    "plt.ylabel('Frequency')\n",
    "\n",
    "plt.legend();"
   ]
  },
  {
   "cell_type": "markdown",
   "metadata": {},
   "source": [
    "Some interesting observations here regarding CPI Score.\n",
    "\n",
    "Most countries in Africa, Asia, North America have poor scores on corruption perception, whereas Europe appears to have a small marority of countries with higher than average scores.\n",
    "\n",
    "Africa in particular appears to have most countries scoring below the global average.\n",
    "\n",
    "Given that this is a measure of perception as opposed to presence of corruption (which is near impossible to objectively measure), it can be pointed out that a population dissatisfied with its standard of living is likely to percieve it's public servants as corrupt. Obviously this perception will be further heightened when public sector inefficiency is combined with ostentatious living of public officials, and where the justice system does not act consistently and promptly against accused corrupt officers.\n",
    "\n"
   ]
  },
  {
   "cell_type": "markdown",
   "metadata": {},
   "source": [
    "Let us now examine the data to see if a relationship exists between income inequality and corruption perception."
   ]
  },
  {
   "cell_type": "markdown",
   "metadata": {},
   "source": [
    "Recall that CPI goes from zero to ten, where zero means a country is percieved as highly corrupt. GINI goes from zero to 100, where 100 denotes perfect income inequality, that is, one person earns all income. So the measures are not travelling in the same direction. Careful interpretation and careful use of terms will therefore be required."
   ]
  },
  {
   "cell_type": "code",
   "execution_count": 116,
   "metadata": {},
   "outputs": [
    {
     "data": {
      "image/png": "[encoded data removed]",
      "text/plain": [
       "<Figure size 576x576 with 1 Axes>"
      ]
     },
     "metadata": {},
     "output_type": "display_data"
    }
   ],
   "source": [
    "# Plot a scatter diagram, using adjusted cpi scores\n",
    "\n",
    "df_q2.plot(x='gini_index', y='cpi_score', kind='scatter', figsize=(8,8))\n",
    "plt.title('Income Inequality (GINI) and Corruption Perception Index');"
   ]
  },
  {
   "cell_type": "code",
   "execution_count": 117,
   "metadata": {},
   "outputs": [
    {
     "data": {
      "text/html": [
       "<div>\n",
       "<style scoped>\n",
       "    .dataframe tbody tr th:only-of-type {\n",
       "        vertical-align: middle;\n",
       "    }\n",
       "\n",
       "    .dataframe tbody tr th {\n",
       "        vertical-align: top;\n",
       "    }\n",
       "\n",
       "    .dataframe thead th {\n",
       "        text-align: right;\n",
       "    }\n",
       "</style>\n",
       "<table border=\"1\" class=\"dataframe\">\n",
       "  <thead>\n",
       "    <tr style=\"text-align: right;\">\n",
       "      <th></th>\n",
       "      <th>cpi_score</th>\n",
       "      <th>gini_index</th>\n",
       "    </tr>\n",
       "  </thead>\n",
       "  <tbody>\n",
       "    <tr>\n",
       "      <th>count</th>\n",
       "      <td>211.000000</td>\n",
       "      <td>211.000000</td>\n",
       "    </tr>\n",
       "    <tr>\n",
       "      <th>mean</th>\n",
       "      <td>4.088697</td>\n",
       "      <td>39.064161</td>\n",
       "    </tr>\n",
       "    <tr>\n",
       "      <th>std</th>\n",
       "      <td>2.002674</td>\n",
       "      <td>7.960935</td>\n",
       "    </tr>\n",
       "    <tr>\n",
       "      <th>min</th>\n",
       "      <td>1.000000</td>\n",
       "      <td>24.540000</td>\n",
       "    </tr>\n",
       "    <tr>\n",
       "      <th>25%</th>\n",
       "      <td>2.610000</td>\n",
       "      <td>33.035000</td>\n",
       "    </tr>\n",
       "    <tr>\n",
       "      <th>50%</th>\n",
       "      <td>3.480000</td>\n",
       "      <td>37.144133</td>\n",
       "    </tr>\n",
       "    <tr>\n",
       "      <th>75%</th>\n",
       "      <td>5.170000</td>\n",
       "      <td>45.027143</td>\n",
       "    </tr>\n",
       "    <tr>\n",
       "      <th>max</th>\n",
       "      <td>9.380000</td>\n",
       "      <td>63.200000</td>\n",
       "    </tr>\n",
       "  </tbody>\n",
       "</table>\n",
       "</div>"
      ],
      "text/plain": [
       "        cpi_score  gini_index\n",
       "count  211.000000  211.000000\n",
       "mean     4.088697   39.064161\n",
       "std      2.002674    7.960935\n",
       "min      1.000000   24.540000\n",
       "25%      2.610000   33.035000\n",
       "50%      3.480000   37.144133\n",
       "75%      5.170000   45.027143\n",
       "max      9.380000   63.200000"
      ]
     },
     "execution_count": 117,
     "metadata": {},
     "output_type": "execute_result"
    }
   ],
   "source": [
    "df_q2.describe()"
   ]
  },
  {
   "cell_type": "markdown",
   "metadata": {},
   "source": [
    "From above, we observe a very weak negative correlation between income inequality and corruption. **The data therefore is inconclusive with regards to a relationship between income inequality and corruption perception.** \n",
    "\n",
    "We will nevertheless seek to confirm this graphical observation by computing the correlation coefficient of these two data columns."
   ]
  },
  {
   "cell_type": "code",
   "execution_count": 118,
   "metadata": {},
   "outputs": [
    {
     "name": "stdout",
     "output_type": "stream",
     "text": [
      "Correlation coefficient between GINI and CPI: -0.22182758050583504\n"
     ]
    }
   ],
   "source": [
    "q2_correl = df_q2.gini_index.corr(df_q2.cpi_score)\n",
    "print('Correlation coefficient between GINI and CPI: {}'.format(q2_correl))"
   ]
  },
  {
   "cell_type": "markdown",
   "metadata": {},
   "source": [
    "Negative value of -0.2 suggests a very weak negative correlation between income inequality and corruption perception, in line with visual observation."
   ]
  },
  {
   "cell_type": "markdown",
   "metadata": {},
   "source": [
    "### Q3. Is GDP per capita a good predictor of income inequality?"
   ]
  },
  {
   "cell_type": "code",
   "execution_count": 119,
   "metadata": {},
   "outputs": [
    {
     "name": "stdout",
     "output_type": "stream",
     "text": [
      "<class 'pandas.core.frame.DataFrame'>\n",
      "RangeIndex: 211 entries, 0 to 210\n",
      "Data columns (total 4 columns):\n",
      "country           211 non-null object\n",
      "region            211 non-null object\n",
      "gini_index        211 non-null float64\n",
      "gdp_per_capita    211 non-null float64\n",
      "dtypes: float64(2), object(2)\n",
      "memory usage: 6.7+ KB\n"
     ]
    }
   ],
   "source": [
    "# Create dataframe with only these two columns\n",
    "\n",
    "df_q3 = df_avg.drop(['cpi_score', 'infant_mortality_rate', 'literacy_rate'], axis=1)\n",
    "df_q3.info()"
   ]
  },
  {
   "cell_type": "code",
   "execution_count": 120,
   "metadata": {},
   "outputs": [
    {
     "data": {
      "text/html": [
       "<div>\n",
       "<style scoped>\n",
       "    .dataframe tbody tr th:only-of-type {\n",
       "        vertical-align: middle;\n",
       "    }\n",
       "\n",
       "    .dataframe tbody tr th {\n",
       "        vertical-align: top;\n",
       "    }\n",
       "\n",
       "    .dataframe thead th {\n",
       "        text-align: right;\n",
       "    }\n",
       "</style>\n",
       "<table border=\"1\" class=\"dataframe\">\n",
       "  <thead>\n",
       "    <tr style=\"text-align: right;\">\n",
       "      <th></th>\n",
       "      <th>country</th>\n",
       "      <th>region</th>\n",
       "      <th>gini_index</th>\n",
       "      <th>gdp_per_capita</th>\n",
       "    </tr>\n",
       "  </thead>\n",
       "  <tbody>\n",
       "    <tr>\n",
       "      <th>0</th>\n",
       "      <td>Afghanistan</td>\n",
       "      <td>Asia &amp; Pacific</td>\n",
       "      <td>37.144133</td>\n",
       "      <td>6875.002351</td>\n",
       "    </tr>\n",
       "    <tr>\n",
       "      <th>1</th>\n",
       "      <td>Albania</td>\n",
       "      <td>Europe</td>\n",
       "      <td>30.000000</td>\n",
       "      <td>1844.903592</td>\n",
       "    </tr>\n",
       "    <tr>\n",
       "      <th>2</th>\n",
       "      <td>Algeria</td>\n",
       "      <td>Arab States</td>\n",
       "      <td>27.600000</td>\n",
       "      <td>2201.836568</td>\n",
       "    </tr>\n",
       "    <tr>\n",
       "      <th>3</th>\n",
       "      <td>Andorra</td>\n",
       "      <td>Europe</td>\n",
       "      <td>31.779065</td>\n",
       "      <td>21719.572490</td>\n",
       "    </tr>\n",
       "    <tr>\n",
       "      <th>4</th>\n",
       "      <td>Angola</td>\n",
       "      <td>Africa</td>\n",
       "      <td>42.700000</td>\n",
       "      <td>611.714745</td>\n",
       "    </tr>\n",
       "  </tbody>\n",
       "</table>\n",
       "</div>"
      ],
      "text/plain": [
       "       country          region  gini_index  gdp_per_capita\n",
       "0  Afghanistan  Asia & Pacific   37.144133     6875.002351\n",
       "1      Albania          Europe   30.000000     1844.903592\n",
       "2      Algeria     Arab States   27.600000     2201.836568\n",
       "3      Andorra          Europe   31.779065    21719.572490\n",
       "4       Angola          Africa   42.700000      611.714745"
      ]
     },
     "execution_count": 120,
     "metadata": {},
     "output_type": "execute_result"
    }
   ],
   "source": [
    "df_q3.head()"
   ]
  },
  {
   "cell_type": "code",
   "execution_count": 121,
   "metadata": {
    "scrolled": false
   },
   "outputs": [
    {
     "data": {
      "text/html": [
       "<div>\n",
       "<style scoped>\n",
       "    .dataframe tbody tr th:only-of-type {\n",
       "        vertical-align: middle;\n",
       "    }\n",
       "\n",
       "    .dataframe tbody tr th {\n",
       "        vertical-align: top;\n",
       "    }\n",
       "\n",
       "    .dataframe thead th {\n",
       "        text-align: right;\n",
       "    }\n",
       "</style>\n",
       "<table border=\"1\" class=\"dataframe\">\n",
       "  <thead>\n",
       "    <tr style=\"text-align: right;\">\n",
       "      <th></th>\n",
       "      <th>gini_index</th>\n",
       "      <th>gdp_per_capita</th>\n",
       "    </tr>\n",
       "  </thead>\n",
       "  <tbody>\n",
       "    <tr>\n",
       "      <th>count</th>\n",
       "      <td>211.000000</td>\n",
       "      <td>211.000000</td>\n",
       "    </tr>\n",
       "    <tr>\n",
       "      <th>mean</th>\n",
       "      <td>39.064161</td>\n",
       "      <td>8890.097876</td>\n",
       "    </tr>\n",
       "    <tr>\n",
       "      <th>std</th>\n",
       "      <td>7.960935</td>\n",
       "      <td>14024.659745</td>\n",
       "    </tr>\n",
       "    <tr>\n",
       "      <th>min</th>\n",
       "      <td>24.540000</td>\n",
       "      <td>103.104815</td>\n",
       "    </tr>\n",
       "    <tr>\n",
       "      <th>25%</th>\n",
       "      <td>33.035000</td>\n",
       "      <td>878.625684</td>\n",
       "    </tr>\n",
       "    <tr>\n",
       "      <th>50%</th>\n",
       "      <td>37.144133</td>\n",
       "      <td>3036.536292</td>\n",
       "    </tr>\n",
       "    <tr>\n",
       "      <th>75%</th>\n",
       "      <td>45.027143</td>\n",
       "      <td>9054.292336</td>\n",
       "    </tr>\n",
       "    <tr>\n",
       "      <th>max</th>\n",
       "      <td>63.200000</td>\n",
       "      <td>103885.246787</td>\n",
       "    </tr>\n",
       "  </tbody>\n",
       "</table>\n",
       "</div>"
      ],
      "text/plain": [
       "       gini_index  gdp_per_capita\n",
       "count  211.000000      211.000000\n",
       "mean    39.064161     8890.097876\n",
       "std      7.960935    14024.659745\n",
       "min     24.540000      103.104815\n",
       "25%     33.035000      878.625684\n",
       "50%     37.144133     3036.536292\n",
       "75%     45.027143     9054.292336\n",
       "max     63.200000   103885.246787"
      ]
     },
     "execution_count": 121,
     "metadata": {},
     "output_type": "execute_result"
    }
   ],
   "source": [
    "df_q3.describe()"
   ]
  },
  {
   "cell_type": "markdown",
   "metadata": {},
   "source": [
    "We have earlier examined GINI data and observed its right-ward skew, confirmed by the median being lower than the mean.\n",
    "\n",
    "Looking at the gdp_per_capita data, we also observe the median to be significantly below the mean, suggesting there are outliers with large values and the distribution is skewed heavily to the right. \n",
    "\n",
    "Let us use a histogram to check this."
   ]
  },
  {
   "cell_type": "code",
   "execution_count": 122,
   "metadata": {},
   "outputs": [
    {
     "data": {
      "image/png": "[encoded data removed]",
      "text/plain": [
       "<Figure size 432x288 with 1 Axes>"
      ]
     },
     "metadata": {},
     "output_type": "display_data"
    }
   ],
   "source": [
    "df_q3.gdp_per_capita.hist()\n",
    "plt.title('Frequency Distribution of GDP Per Capita')\n",
    "plt.ylabel('Frequency')\n",
    "plt.xlabel('GDP Per Capita USD');\n"
   ]
  },
  {
   "cell_type": "markdown",
   "metadata": {},
   "source": [
    "We can quickly look to see which countries have the highest GDP Per Capita, to better understand the chart."
   ]
  },
  {
   "cell_type": "code",
   "execution_count": 123,
   "metadata": {},
   "outputs": [
    {
     "data": {
      "text/html": [
       "<div>\n",
       "<style scoped>\n",
       "    .dataframe tbody tr th:only-of-type {\n",
       "        vertical-align: middle;\n",
       "    }\n",
       "\n",
       "    .dataframe tbody tr th {\n",
       "        vertical-align: top;\n",
       "    }\n",
       "\n",
       "    .dataframe thead th {\n",
       "        text-align: right;\n",
       "    }\n",
       "</style>\n",
       "<table border=\"1\" class=\"dataframe\">\n",
       "  <thead>\n",
       "    <tr style=\"text-align: right;\">\n",
       "      <th></th>\n",
       "      <th>country</th>\n",
       "      <th>region</th>\n",
       "      <th>gini_index</th>\n",
       "      <th>gdp_per_capita</th>\n",
       "    </tr>\n",
       "  </thead>\n",
       "  <tbody>\n",
       "    <tr>\n",
       "      <th>123</th>\n",
       "      <td>Monaco</td>\n",
       "      <td>Europe</td>\n",
       "      <td>31.779065</td>\n",
       "      <td>103885.246787</td>\n",
       "    </tr>\n",
       "    <tr>\n",
       "      <th>106</th>\n",
       "      <td>Liechtenstein</td>\n",
       "      <td>Europe</td>\n",
       "      <td>31.779065</td>\n",
       "      <td>82380.816170</td>\n",
       "    </tr>\n",
       "    <tr>\n",
       "      <th>20</th>\n",
       "      <td>Bermuda</td>\n",
       "      <td>North America</td>\n",
       "      <td>37.225000</td>\n",
       "      <td>65455.868678</td>\n",
       "    </tr>\n",
       "    <tr>\n",
       "      <th>108</th>\n",
       "      <td>Luxembourg</td>\n",
       "      <td>Europe</td>\n",
       "      <td>31.500000</td>\n",
       "      <td>53424.811696</td>\n",
       "    </tr>\n",
       "    <tr>\n",
       "      <th>38</th>\n",
       "      <td>Channel Islands</td>\n",
       "      <td>Europe</td>\n",
       "      <td>31.779065</td>\n",
       "      <td>45226.031700</td>\n",
       "    </tr>\n",
       "  </tbody>\n",
       "</table>\n",
       "</div>"
      ],
      "text/plain": [
       "             country         region  gini_index  gdp_per_capita\n",
       "123           Monaco         Europe   31.779065   103885.246787\n",
       "106    Liechtenstein         Europe   31.779065    82380.816170\n",
       "20           Bermuda  North America   37.225000    65455.868678\n",
       "108       Luxembourg         Europe   31.500000    53424.811696\n",
       "38   Channel Islands         Europe   31.779065    45226.031700"
      ]
     },
     "execution_count": 123,
     "metadata": {},
     "output_type": "execute_result"
    }
   ],
   "source": [
    "# Highest GDP Per Capita\n",
    "gdp_high = df_q3.gdp_per_capita.drop_duplicates().nlargest(5)\n",
    "df_largest_gdp = df_q3.query('gdp_per_capita == @gdp_high')\n",
    "df_largest_gdp.sort_values(by='gdp_per_capita', ascending=False)"
   ]
  },
  {
   "cell_type": "markdown",
   "metadata": {},
   "source": [
    "Monaco is the source of the large outlier value, and this is supported by other publicly available data sources, such as CIA World Factbook:\n",
    "\n",
    "https://www.cia.gov/library/publications/the-world-factbook/rankorder/2004rank.html"
   ]
  },
  {
   "cell_type": "markdown",
   "metadata": {},
   "source": [
    "One other point of concern is the suggestion, from the mean and the 25th percentile, that a significant number of countries have very low GDP per capita values. It will be instructive to see the countries with the ten lowest values, and possibly also see the distribution spread by region "
   ]
  },
  {
   "cell_type": "code",
   "execution_count": 124,
   "metadata": {},
   "outputs": [
    {
     "data": {
      "text/html": [
       "<div>\n",
       "<style scoped>\n",
       "    .dataframe tbody tr th:only-of-type {\n",
       "        vertical-align: middle;\n",
       "    }\n",
       "\n",
       "    .dataframe tbody tr th {\n",
       "        vertical-align: top;\n",
       "    }\n",
       "\n",
       "    .dataframe thead th {\n",
       "        text-align: right;\n",
       "    }\n",
       "</style>\n",
       "<table border=\"1\" class=\"dataframe\">\n",
       "  <thead>\n",
       "    <tr style=\"text-align: right;\">\n",
       "      <th></th>\n",
       "      <th>country</th>\n",
       "      <th>region</th>\n",
       "      <th>gini_index</th>\n",
       "      <th>gdp_per_capita</th>\n",
       "    </tr>\n",
       "  </thead>\n",
       "  <tbody>\n",
       "    <tr>\n",
       "      <th>43</th>\n",
       "      <td>Congo, Dem. Rep.</td>\n",
       "      <td>Africa</td>\n",
       "      <td>45.027143</td>\n",
       "      <td>103.104815</td>\n",
       "    </tr>\n",
       "    <tr>\n",
       "      <th>30</th>\n",
       "      <td>Burundi</td>\n",
       "      <td>Africa</td>\n",
       "      <td>45.027143</td>\n",
       "      <td>136.974269</td>\n",
       "    </tr>\n",
       "    <tr>\n",
       "      <th>60</th>\n",
       "      <td>Eritrea</td>\n",
       "      <td>Africa</td>\n",
       "      <td>45.027143</td>\n",
       "      <td>152.838384</td>\n",
       "    </tr>\n",
       "    <tr>\n",
       "      <th>76</th>\n",
       "      <td>Guinea-Bissau</td>\n",
       "      <td>Africa</td>\n",
       "      <td>50.700000</td>\n",
       "      <td>160.105497</td>\n",
       "    </tr>\n",
       "    <tr>\n",
       "      <th>112</th>\n",
       "      <td>Malawi</td>\n",
       "      <td>Africa</td>\n",
       "      <td>45.500000</td>\n",
       "      <td>172.459054</td>\n",
       "    </tr>\n",
       "    <tr>\n",
       "      <th>137</th>\n",
       "      <td>Niger</td>\n",
       "      <td>Africa</td>\n",
       "      <td>34.400000</td>\n",
       "      <td>175.920115</td>\n",
       "    </tr>\n",
       "    <tr>\n",
       "      <th>62</th>\n",
       "      <td>Ethiopia</td>\n",
       "      <td>Africa</td>\n",
       "      <td>33.200000</td>\n",
       "      <td>203.703223</td>\n",
       "    </tr>\n",
       "    <tr>\n",
       "      <th>36</th>\n",
       "      <td>Central African Republic</td>\n",
       "      <td>Africa</td>\n",
       "      <td>56.200000</td>\n",
       "      <td>228.850633</td>\n",
       "    </tr>\n",
       "    <tr>\n",
       "      <th>104</th>\n",
       "      <td>Liberia</td>\n",
       "      <td>Africa</td>\n",
       "      <td>36.500000</td>\n",
       "      <td>247.134621</td>\n",
       "    </tr>\n",
       "    <tr>\n",
       "      <th>111</th>\n",
       "      <td>Madagascar</td>\n",
       "      <td>Africa</td>\n",
       "      <td>42.400000</td>\n",
       "      <td>249.453045</td>\n",
       "    </tr>\n",
       "  </tbody>\n",
       "</table>\n",
       "</div>"
      ],
      "text/plain": [
       "                      country  region  gini_index  gdp_per_capita\n",
       "43           Congo, Dem. Rep.  Africa   45.027143      103.104815\n",
       "30                    Burundi  Africa   45.027143      136.974269\n",
       "60                    Eritrea  Africa   45.027143      152.838384\n",
       "76              Guinea-Bissau  Africa   50.700000      160.105497\n",
       "112                    Malawi  Africa   45.500000      172.459054\n",
       "137                     Niger  Africa   34.400000      175.920115\n",
       "62                   Ethiopia  Africa   33.200000      203.703223\n",
       "36   Central African Republic  Africa   56.200000      228.850633\n",
       "104                   Liberia  Africa   36.500000      247.134621\n",
       "111                Madagascar  Africa   42.400000      249.453045"
      ]
     },
     "execution_count": 124,
     "metadata": {},
     "output_type": "execute_result"
    }
   ],
   "source": [
    "# Lowest GDP per capita\n",
    "\n",
    "gdp_low = df_q3.gdp_per_capita.drop_duplicates().nsmallest(10)\n",
    "df_smallest_gdp = df_q3.query('gdp_per_capita in @gdp_low')\n",
    "df_smallest_gdp.sort_values(by='gdp_per_capita')"
   ]
  },
  {
   "cell_type": "markdown",
   "metadata": {},
   "source": [
    "All ten countries with lowest GDP per capita are in Africa, with the lowest value being Democratic Republic of Congo, showing **GDP per capita of USD103**. Contrasting this with Monaco at over **USD103,000** or even with war-torn Afghanistan at **USD6,875** is a shocking illustration of differences in standards of living across the world.\n",
    "\n",
    "Let us see the average GDP Per Capita by region."
   ]
  },
  {
   "cell_type": "code",
   "execution_count": 125,
   "metadata": {},
   "outputs": [
    {
     "data": {
      "image/png": "[encoded data removed]",
      "text/plain": [
       "<Figure size 432x288 with 1 Axes>"
      ]
     },
     "metadata": {},
     "output_type": "display_data"
    }
   ],
   "source": [
    "# GDP Per Capita by Region\n",
    "\n",
    "df_q3_gdp_region = df_q3.groupby('region')['gdp_per_capita'].mean()\n",
    "df_q3_gdp_region.sort_values(inplace=True)\n",
    "\n",
    "ax = df_q3_gdp_region.plot(kind='barh')\n",
    "\n",
    "ax.set_title('GDP Per Capita by Region')\n",
    "ax.set_xlabel('GDP Per Capita USD')\n",
    "ax.set_ylabel('Region')\n",
    "\n",
    "for i in ax.patches:\n",
    "    # get_width pulls left or right; get_y pushes up or down\n",
    "    ax.text(i.get_width(), i.get_y(), str(round((i.get_width()), 2)));"
   ]
  },
  {
   "cell_type": "markdown",
   "metadata": {},
   "source": [
    "Chart above illustrates the huge discrepancies in national wealth and productivity, given that GDP Per Capita is gross national income divided by population.\n",
    "\n",
    "North America has by far the highest values, most likely driven by the huge USD19 trillion GDP of the USA.\n",
    "\n",
    "One important point to add is that the GDP Per Capita figure is not adjusted for cost of living differences. Cost of living comparison website https://www.numbeo.com/cost-of-living/ for example, estimates that consumer prices including rent are 40% lower in South Africa compared to USA. This number will be higher for poorer African countries, suggesting that living conditions may not be as stark as the raw difference in GDP per capita suggests."
   ]
  },
  {
   "cell_type": "markdown",
   "metadata": {},
   "source": [
    "We will now draw a scatter plot to check for a relationship between GINI index and GDP per capita"
   ]
  },
  {
   "cell_type": "code",
   "execution_count": 126,
   "metadata": {},
   "outputs": [
    {
     "data": {
      "image/png": "[encoded data removed]",
      "text/plain": [
       "<Figure size 576x576 with 1 Axes>"
      ]
     },
     "metadata": {},
     "output_type": "display_data"
    }
   ],
   "source": [
    "# Plot a scatter diagram, using adjusted cpi scores\n",
    "\n",
    "df_q3.plot(x='gini_index', y='gdp_per_capita', kind='scatter', figsize=(8,8))\n",
    "plt.title('Income Inequality (GINI) and GDP per Capita')\n",
    "plt.ylabel('GDP Per Capita USD')\n",
    "plt.xlabel('Income Inequality (GINI)');"
   ]
  },
  {
   "cell_type": "markdown",
   "metadata": {},
   "source": [
    "From scatter plot above, there appears to be a weak negative correlation between income inequality and GDP per capita. This suggests that **the lower gdp per capita in a given country, the greater its income inequality is likely to be.** Put another way, **richer countries tend to have a fairer income distribution among their citizens.** \n",
    "\n",
    "Again, this association is weak and is not considered causative, merely correlative.\n",
    "\n",
    "We will confirm this obervation by calculating the correlation coefficient."
   ]
  },
  {
   "cell_type": "code",
   "execution_count": 127,
   "metadata": {},
   "outputs": [],
   "source": [
    "q3_correl = df_q3.gini_index.corr(df_q3.gdp_per_capita)"
   ]
  },
  {
   "cell_type": "code",
   "execution_count": 128,
   "metadata": {},
   "outputs": [
    {
     "name": "stdout",
     "output_type": "stream",
     "text": [
      "Correlation coefficient between income inequality and GDP per Capita: -0.3038398435955632\n"
     ]
    }
   ],
   "source": [
    "print('Correlation coefficient between income inequality and GDP per Capita: {}'.format(q3_correl))"
   ]
  },
  {
   "cell_type": "markdown",
   "metadata": {},
   "source": [
    "Negative coefficient of -0.3 confirms the visual observation."
   ]
  },
  {
   "cell_type": "markdown",
   "metadata": {},
   "source": [
    "### Q4. Does a correlation exist between literacy and health?"
   ]
  },
  {
   "cell_type": "markdown",
   "metadata": {},
   "source": [
    "In this section, we seek to understand if any correlation exists between literacy and population health. This question is relevant because, for example, it will be useful for public policy if it can be shown that a literate population is more likely to be healthy.\n",
    "\n",
    "As a reminder:\n",
    "\n",
    "**Adult Literacy Rate:** Adult literacy rate is the percentage of people aged 15 years and above who can read and write.\n",
    "\n",
    "**Infant Mortality Rate (IMR):** IMR has been defined as the number of deaths in children under 1 year of age per 1000 live births in the same year.\n",
    "\n",
    "Let us examine the data."
   ]
  },
  {
   "cell_type": "code",
   "execution_count": 129,
   "metadata": {},
   "outputs": [
    {
     "name": "stdout",
     "output_type": "stream",
     "text": [
      "<class 'pandas.core.frame.DataFrame'>\n",
      "RangeIndex: 211 entries, 0 to 210\n",
      "Data columns (total 4 columns):\n",
      "country                  211 non-null object\n",
      "region                   211 non-null object\n",
      "infant_mortality_rate    211 non-null float64\n",
      "literacy_rate            211 non-null float64\n",
      "dtypes: float64(2), object(2)\n",
      "memory usage: 6.7+ KB\n"
     ]
    }
   ],
   "source": [
    "# Create dataframe with only these relevant columns\n",
    "\n",
    "df_q4 = df_avg.drop(['cpi_score', 'gdp_per_capita', 'gini_index'], axis=1)\n",
    "df_q4.info()"
   ]
  },
  {
   "cell_type": "code",
   "execution_count": 130,
   "metadata": {},
   "outputs": [
    {
     "data": {
      "text/html": [
       "<div>\n",
       "<style scoped>\n",
       "    .dataframe tbody tr th:only-of-type {\n",
       "        vertical-align: middle;\n",
       "    }\n",
       "\n",
       "    .dataframe tbody tr th {\n",
       "        vertical-align: top;\n",
       "    }\n",
       "\n",
       "    .dataframe thead th {\n",
       "        text-align: right;\n",
       "    }\n",
       "</style>\n",
       "<table border=\"1\" class=\"dataframe\">\n",
       "  <thead>\n",
       "    <tr style=\"text-align: right;\">\n",
       "      <th></th>\n",
       "      <th>country</th>\n",
       "      <th>region</th>\n",
       "      <th>infant_mortality_rate</th>\n",
       "      <th>literacy_rate</th>\n",
       "    </tr>\n",
       "  </thead>\n",
       "  <tbody>\n",
       "    <tr>\n",
       "      <th>0</th>\n",
       "      <td>Afghanistan</td>\n",
       "      <td>Asia &amp; Pacific</td>\n",
       "      <td>76.86</td>\n",
       "      <td>39.000000</td>\n",
       "    </tr>\n",
       "    <tr>\n",
       "      <th>1</th>\n",
       "      <td>Albania</td>\n",
       "      <td>Europe</td>\n",
       "      <td>15.44</td>\n",
       "      <td>96.391969</td>\n",
       "    </tr>\n",
       "    <tr>\n",
       "      <th>2</th>\n",
       "      <td>Algeria</td>\n",
       "      <td>Arab States</td>\n",
       "      <td>24.46</td>\n",
       "      <td>81.398935</td>\n",
       "    </tr>\n",
       "    <tr>\n",
       "      <th>3</th>\n",
       "      <td>Andorra</td>\n",
       "      <td>Europe</td>\n",
       "      <td>2.60</td>\n",
       "      <td>98.149657</td>\n",
       "    </tr>\n",
       "    <tr>\n",
       "      <th>4</th>\n",
       "      <td>Angola</td>\n",
       "      <td>Africa</td>\n",
       "      <td>112.08</td>\n",
       "      <td>70.362420</td>\n",
       "    </tr>\n",
       "  </tbody>\n",
       "</table>\n",
       "</div>"
      ],
      "text/plain": [
       "       country          region  infant_mortality_rate  literacy_rate\n",
       "0  Afghanistan  Asia & Pacific                  76.86      39.000000\n",
       "1      Albania          Europe                  15.44      96.391969\n",
       "2      Algeria     Arab States                  24.46      81.398935\n",
       "3      Andorra          Europe                   2.60      98.149657\n",
       "4       Angola          Africa                 112.08      70.362420"
      ]
     },
     "execution_count": 130,
     "metadata": {},
     "output_type": "execute_result"
    }
   ],
   "source": [
    "df_q4.head()"
   ]
  },
  {
   "cell_type": "code",
   "execution_count": 131,
   "metadata": {},
   "outputs": [
    {
     "data": {
      "text/html": [
       "<div>\n",
       "<style scoped>\n",
       "    .dataframe tbody tr th:only-of-type {\n",
       "        vertical-align: middle;\n",
       "    }\n",
       "\n",
       "    .dataframe tbody tr th {\n",
       "        vertical-align: top;\n",
       "    }\n",
       "\n",
       "    .dataframe thead th {\n",
       "        text-align: right;\n",
       "    }\n",
       "</style>\n",
       "<table border=\"1\" class=\"dataframe\">\n",
       "  <thead>\n",
       "    <tr style=\"text-align: right;\">\n",
       "      <th></th>\n",
       "      <th>infant_mortality_rate</th>\n",
       "      <th>literacy_rate</th>\n",
       "    </tr>\n",
       "  </thead>\n",
       "  <tbody>\n",
       "    <tr>\n",
       "      <th>count</th>\n",
       "      <td>211.000000</td>\n",
       "      <td>211.000000</td>\n",
       "    </tr>\n",
       "    <tr>\n",
       "      <th>mean</th>\n",
       "      <td>27.883904</td>\n",
       "      <td>84.767862</td>\n",
       "    </tr>\n",
       "    <tr>\n",
       "      <th>std</th>\n",
       "      <td>25.568050</td>\n",
       "      <td>16.378714</td>\n",
       "    </tr>\n",
       "    <tr>\n",
       "      <th>min</th>\n",
       "      <td>1.930000</td>\n",
       "      <td>25.307745</td>\n",
       "    </tr>\n",
       "    <tr>\n",
       "      <th>25%</th>\n",
       "      <td>7.550000</td>\n",
       "      <td>81.383965</td>\n",
       "    </tr>\n",
       "    <tr>\n",
       "      <th>50%</th>\n",
       "      <td>17.780000</td>\n",
       "      <td>91.559827</td>\n",
       "    </tr>\n",
       "    <tr>\n",
       "      <th>75%</th>\n",
       "      <td>43.290000</td>\n",
       "      <td>98.149657</td>\n",
       "    </tr>\n",
       "    <tr>\n",
       "      <th>max</th>\n",
       "      <td>112.080000</td>\n",
       "      <td>99.998262</td>\n",
       "    </tr>\n",
       "  </tbody>\n",
       "</table>\n",
       "</div>"
      ],
      "text/plain": [
       "       infant_mortality_rate  literacy_rate\n",
       "count             211.000000     211.000000\n",
       "mean               27.883904      84.767862\n",
       "std                25.568050      16.378714\n",
       "min                 1.930000      25.307745\n",
       "25%                 7.550000      81.383965\n",
       "50%                17.780000      91.559827\n",
       "75%                43.290000      98.149657\n",
       "max               112.080000      99.998262"
      ]
     },
     "execution_count": 131,
     "metadata": {},
     "output_type": "execute_result"
    }
   ],
   "source": [
    "df_q4.describe()"
   ]
  },
  {
   "cell_type": "code",
   "execution_count": 132,
   "metadata": {},
   "outputs": [
    {
     "data": {
      "image/png": "[encoded data removed]",
      "text/plain": [
       "<Figure size 432x288 with 1 Axes>"
      ]
     },
     "metadata": {},
     "output_type": "display_data"
    }
   ],
   "source": [
    "# Histogram of Literacy Rate\n",
    "\n",
    "df_q4.literacy_rate.plot(kind='hist')\n",
    "plt.title('Frequency Distribution of Adult Literacy Rate')\n",
    "plt.xlabel('Literacy Rate %');"
   ]
  },
  {
   "cell_type": "markdown",
   "metadata": {},
   "source": [
    "Literacy rate is the percentage of adults aged 15 and over who can read and write. \n",
    "\n",
    "While it's heartening to observe that most countries seem to have a high percentage of educated adults, we observe that in a small number of countries, there are disturbingly high numbers of adults wo are unable to read and write. \n",
    "\n",
    "Let us quickly try to dentify these countries. "
   ]
  },
  {
   "cell_type": "code",
   "execution_count": 133,
   "metadata": {},
   "outputs": [
    {
     "data": {
      "text/html": [
       "<div>\n",
       "<style scoped>\n",
       "    .dataframe tbody tr th:only-of-type {\n",
       "        vertical-align: middle;\n",
       "    }\n",
       "\n",
       "    .dataframe tbody tr th {\n",
       "        vertical-align: top;\n",
       "    }\n",
       "\n",
       "    .dataframe thead th {\n",
       "        text-align: right;\n",
       "    }\n",
       "</style>\n",
       "<table border=\"1\" class=\"dataframe\">\n",
       "  <thead>\n",
       "    <tr style=\"text-align: right;\">\n",
       "      <th></th>\n",
       "      <th>country</th>\n",
       "      <th>region</th>\n",
       "      <th>literacy_rate</th>\n",
       "    </tr>\n",
       "  </thead>\n",
       "  <tbody>\n",
       "    <tr>\n",
       "      <th>75</th>\n",
       "      <td>Guinea</td>\n",
       "      <td>Africa</td>\n",
       "      <td>25.307745</td>\n",
       "    </tr>\n",
       "    <tr>\n",
       "      <th>29</th>\n",
       "      <td>Burkina Faso</td>\n",
       "      <td>Africa</td>\n",
       "      <td>28.729214</td>\n",
       "    </tr>\n",
       "    <tr>\n",
       "      <th>115</th>\n",
       "      <td>Mali</td>\n",
       "      <td>Africa</td>\n",
       "      <td>32.270483</td>\n",
       "    </tr>\n",
       "    <tr>\n",
       "      <th>37</th>\n",
       "      <td>Chad</td>\n",
       "      <td>Africa</td>\n",
       "      <td>35.391470</td>\n",
       "    </tr>\n",
       "    <tr>\n",
       "      <th>62</th>\n",
       "      <td>Ethiopia</td>\n",
       "      <td>Africa</td>\n",
       "      <td>38.995982</td>\n",
       "    </tr>\n",
       "    <tr>\n",
       "      <th>0</th>\n",
       "      <td>Afghanistan</td>\n",
       "      <td>Asia &amp; Pacific</td>\n",
       "      <td>39.000000</td>\n",
       "    </tr>\n",
       "    <tr>\n",
       "      <th>104</th>\n",
       "      <td>Liberia</td>\n",
       "      <td>Africa</td>\n",
       "      <td>42.941084</td>\n",
       "    </tr>\n",
       "    <tr>\n",
       "      <th>164</th>\n",
       "      <td>Sierra Leone</td>\n",
       "      <td>Africa</td>\n",
       "      <td>43.283100</td>\n",
       "    </tr>\n",
       "    <tr>\n",
       "      <th>161</th>\n",
       "      <td>Senegal</td>\n",
       "      <td>Africa</td>\n",
       "      <td>49.695127</td>\n",
       "    </tr>\n",
       "    <tr>\n",
       "      <th>128</th>\n",
       "      <td>Mozambique</td>\n",
       "      <td>Africa</td>\n",
       "      <td>50.583811</td>\n",
       "    </tr>\n",
       "  </tbody>\n",
       "</table>\n",
       "</div>"
      ],
      "text/plain": [
       "          country          region  literacy_rate\n",
       "75         Guinea          Africa      25.307745\n",
       "29   Burkina Faso          Africa      28.729214\n",
       "115          Mali          Africa      32.270483\n",
       "37           Chad          Africa      35.391470\n",
       "62       Ethiopia          Africa      38.995982\n",
       "0     Afghanistan  Asia & Pacific      39.000000\n",
       "104       Liberia          Africa      42.941084\n",
       "164  Sierra Leone          Africa      43.283100\n",
       "161       Senegal          Africa      49.695127\n",
       "128    Mozambique          Africa      50.583811"
      ]
     },
     "execution_count": 133,
     "metadata": {},
     "output_type": "execute_result"
    }
   ],
   "source": [
    "# Copy dataframe and remove unneeded column\n",
    "literacy_nsmall = df_q4.copy()\n",
    "literacy_nsmall = literacy_nsmall.drop('infant_mortality_rate', axis=1)\n",
    "\n",
    "# Filter to 10 lowest literacy rate countries\n",
    "literacy_nsmall_list = literacy_nsmall.literacy_rate.drop_duplicates().nsmallest(10)\n",
    "literacy_nsmall = literacy_nsmall.query('literacy_rate in @literacy_nsmall_list')\n",
    "\n",
    "# Sort dataframe\n",
    "literacy_nsmall.sort_values('literacy_rate', inplace=True)\n",
    "literacy_nsmall"
   ]
  },
  {
   "cell_type": "markdown",
   "metadata": {},
   "source": [
    "The ten countries with lowest literacy rates are overwhelmingly in Africa, with Guinea, Burkina Faso and Mali as the lowest three at 25%, 29%, and 32%.\n",
    "\n",
    "Let us perform the same quick check of countries with hightest literacy rates."
   ]
  },
  {
   "cell_type": "code",
   "execution_count": 134,
   "metadata": {
    "scrolled": true
   },
   "outputs": [
    {
     "data": {
      "text/html": [
       "<div>\n",
       "<style scoped>\n",
       "    .dataframe tbody tr th:only-of-type {\n",
       "        vertical-align: middle;\n",
       "    }\n",
       "\n",
       "    .dataframe tbody tr th {\n",
       "        vertical-align: top;\n",
       "    }\n",
       "\n",
       "    .dataframe thead th {\n",
       "        text-align: right;\n",
       "    }\n",
       "</style>\n",
       "<table border=\"1\" class=\"dataframe\">\n",
       "  <thead>\n",
       "    <tr style=\"text-align: right;\">\n",
       "      <th></th>\n",
       "      <th>country</th>\n",
       "      <th>region</th>\n",
       "      <th>literacy_rate</th>\n",
       "    </tr>\n",
       "  </thead>\n",
       "  <tbody>\n",
       "    <tr>\n",
       "      <th>140</th>\n",
       "      <td>North Korea</td>\n",
       "      <td>Asia &amp; Pacific</td>\n",
       "      <td>99.998262</td>\n",
       "    </tr>\n",
       "    <tr>\n",
       "      <th>49</th>\n",
       "      <td>Cuba</td>\n",
       "      <td>South/Latin America</td>\n",
       "      <td>99.834250</td>\n",
       "    </tr>\n",
       "    <tr>\n",
       "      <th>61</th>\n",
       "      <td>Estonia</td>\n",
       "      <td>Europe</td>\n",
       "      <td>99.796890</td>\n",
       "    </tr>\n",
       "    <tr>\n",
       "      <th>101</th>\n",
       "      <td>Latvia</td>\n",
       "      <td>Europe</td>\n",
       "      <td>99.784240</td>\n",
       "    </tr>\n",
       "    <tr>\n",
       "      <th>68</th>\n",
       "      <td>Georgia</td>\n",
       "      <td>CIS</td>\n",
       "      <td>99.732470</td>\n",
       "    </tr>\n",
       "    <tr>\n",
       "      <th>94</th>\n",
       "      <td>Kazakhstan</td>\n",
       "      <td>CIS</td>\n",
       "      <td>99.732411</td>\n",
       "    </tr>\n",
       "    <tr>\n",
       "      <th>150</th>\n",
       "      <td>Poland</td>\n",
       "      <td>Europe</td>\n",
       "      <td>99.730190</td>\n",
       "    </tr>\n",
       "    <tr>\n",
       "      <th>198</th>\n",
       "      <td>Ukraine</td>\n",
       "      <td>CIS</td>\n",
       "      <td>99.718740</td>\n",
       "    </tr>\n",
       "    <tr>\n",
       "      <th>185</th>\n",
       "      <td>Tajikistan</td>\n",
       "      <td>CIS</td>\n",
       "      <td>99.707060</td>\n",
       "    </tr>\n",
       "    <tr>\n",
       "      <th>107</th>\n",
       "      <td>Lithuania</td>\n",
       "      <td>Europe</td>\n",
       "      <td>99.703550</td>\n",
       "    </tr>\n",
       "  </tbody>\n",
       "</table>\n",
       "</div>"
      ],
      "text/plain": [
       "         country               region  literacy_rate\n",
       "140  North Korea       Asia & Pacific      99.998262\n",
       "49          Cuba  South/Latin America      99.834250\n",
       "61       Estonia               Europe      99.796890\n",
       "101       Latvia               Europe      99.784240\n",
       "68       Georgia                  CIS      99.732470\n",
       "94    Kazakhstan                  CIS      99.732411\n",
       "150       Poland               Europe      99.730190\n",
       "198      Ukraine                  CIS      99.718740\n",
       "185   Tajikistan                  CIS      99.707060\n",
       "107    Lithuania               Europe      99.703550"
      ]
     },
     "execution_count": 134,
     "metadata": {},
     "output_type": "execute_result"
    }
   ],
   "source": [
    "# Copy dataframe and remove unneeded column\n",
    "literacy_nlarge = df_q4.copy()\n",
    "literacy_nlarge = literacy_nlarge.drop('infant_mortality_rate', axis=1)\n",
    "\n",
    "# Filter to 10 highest literacy rate countries\n",
    "literacy_nlarge_list = literacy_nlarge.literacy_rate.drop_duplicates().nlargest(10)\n",
    "literacy_nlarge = literacy_nlarge.query('literacy_rate in @literacy_nlarge_list')\n",
    "\n",
    "# Sort dataframe\n",
    "literacy_nlarge.sort_values(by='literacy_rate', ascending=False, inplace=True)\n",
    "literacy_nlarge"
   ]
  },
  {
   "cell_type": "markdown",
   "metadata": {},
   "source": [
    "Some surprise appearances are North Korea, Cuba and Kazakhstan."
   ]
  },
  {
   "cell_type": "markdown",
   "metadata": {},
   "source": [
    "We should take a similar look at our infant mortality rate data: distribution, ten highest and ten lowest. After taking an overview of the data in this way, we will finally attempt to answer the research question.\n",
    "\n",
    "Recall that infant mortality rate is the number of deaths in children under 1 year of age per 1000 live births, and this measure is seen as a good indicator of population health."
   ]
  },
  {
   "cell_type": "markdown",
   "metadata": {},
   "source": [
    "Let us start by looking at the distribution of infant mortality rates."
   ]
  },
  {
   "cell_type": "code",
   "execution_count": 135,
   "metadata": {},
   "outputs": [
    {
     "data": {
      "image/png": "[encoded data removed]",
      "text/plain": [
       "<Figure size 432x288 with 1 Axes>"
      ]
     },
     "metadata": {},
     "output_type": "display_data"
    }
   ],
   "source": [
    "df_q4.infant_mortality_rate.plot(kind='hist')\n",
    "plt.title('Distribution of Infant Mortality Rates')\n",
    "plt.ylabel('Frequency')\n",
    "plt.xlabel('Infant Mortality Rate');"
   ]
  },
  {
   "cell_type": "markdown",
   "metadata": {},
   "source": [
    "Data is skewed to right, with most countries having low IMR. Unfortunately, however, a few countries have high IMR values. We will take a look at the ten highest and ten lowest IMR countries."
   ]
  },
  {
   "cell_type": "code",
   "execution_count": 136,
   "metadata": {},
   "outputs": [
    {
     "data": {
      "text/html": [
       "<div>\n",
       "<style scoped>\n",
       "    .dataframe tbody tr th:only-of-type {\n",
       "        vertical-align: middle;\n",
       "    }\n",
       "\n",
       "    .dataframe tbody tr th {\n",
       "        vertical-align: top;\n",
       "    }\n",
       "\n",
       "    .dataframe thead th {\n",
       "        text-align: right;\n",
       "    }\n",
       "</style>\n",
       "<table border=\"1\" class=\"dataframe\">\n",
       "  <thead>\n",
       "    <tr style=\"text-align: right;\">\n",
       "      <th></th>\n",
       "      <th>country</th>\n",
       "      <th>region</th>\n",
       "      <th>infant_mortality_rate</th>\n",
       "    </tr>\n",
       "  </thead>\n",
       "  <tbody>\n",
       "    <tr>\n",
       "      <th>4</th>\n",
       "      <td>Angola</td>\n",
       "      <td>Africa</td>\n",
       "      <td>112.08</td>\n",
       "    </tr>\n",
       "    <tr>\n",
       "      <th>164</th>\n",
       "      <td>Sierra Leone</td>\n",
       "      <td>Africa</td>\n",
       "      <td>111.54</td>\n",
       "    </tr>\n",
       "    <tr>\n",
       "      <th>36</th>\n",
       "      <td>Central African Republic</td>\n",
       "      <td>Africa</td>\n",
       "      <td>103.48</td>\n",
       "    </tr>\n",
       "    <tr>\n",
       "      <th>169</th>\n",
       "      <td>Somalia</td>\n",
       "      <td>Arab States</td>\n",
       "      <td>99.80</td>\n",
       "    </tr>\n",
       "    <tr>\n",
       "      <th>37</th>\n",
       "      <td>Chad</td>\n",
       "      <td>Africa</td>\n",
       "      <td>95.08</td>\n",
       "    </tr>\n",
       "    <tr>\n",
       "      <th>43</th>\n",
       "      <td>Congo, Dem. Rep.</td>\n",
       "      <td>Africa</td>\n",
       "      <td>87.00</td>\n",
       "    </tr>\n",
       "    <tr>\n",
       "      <th>115</th>\n",
       "      <td>Mali</td>\n",
       "      <td>Africa</td>\n",
       "      <td>85.30</td>\n",
       "    </tr>\n",
       "    <tr>\n",
       "      <th>138</th>\n",
       "      <td>Nigeria</td>\n",
       "      <td>Africa</td>\n",
       "      <td>84.44</td>\n",
       "    </tr>\n",
       "    <tr>\n",
       "      <th>59</th>\n",
       "      <td>Equatorial Guinea</td>\n",
       "      <td>Africa</td>\n",
       "      <td>81.34</td>\n",
       "    </tr>\n",
       "    <tr>\n",
       "      <th>47</th>\n",
       "      <td>Cote d'Ivoire</td>\n",
       "      <td>Africa</td>\n",
       "      <td>79.26</td>\n",
       "    </tr>\n",
       "  </tbody>\n",
       "</table>\n",
       "</div>"
      ],
      "text/plain": [
       "                      country       region  infant_mortality_rate\n",
       "4                      Angola       Africa                 112.08\n",
       "164              Sierra Leone       Africa                 111.54\n",
       "36   Central African Republic       Africa                 103.48\n",
       "169                   Somalia  Arab States                  99.80\n",
       "37                       Chad       Africa                  95.08\n",
       "43           Congo, Dem. Rep.       Africa                  87.00\n",
       "115                      Mali       Africa                  85.30\n",
       "138                   Nigeria       Africa                  84.44\n",
       "59          Equatorial Guinea       Africa                  81.34\n",
       "47              Cote d'Ivoire       Africa                  79.26"
      ]
     },
     "execution_count": 136,
     "metadata": {},
     "output_type": "execute_result"
    }
   ],
   "source": [
    "# Copy dataframe and remove unneeded column\n",
    "imr_nlarge = df_q4.copy()\n",
    "imr_nlarge.drop('literacy_rate', axis=1, inplace=True)\n",
    "\n",
    "# Filter to 10 highest imr\n",
    "imr_nlarge_list = imr_nlarge.infant_mortality_rate.drop_duplicates().nlargest(10)\n",
    "imr_nlarge = imr_nlarge.query('infant_mortality_rate in @imr_nlarge_list')\n",
    "\n",
    "# Sort dataframe\n",
    "imr_nlarge.sort_values(by='infant_mortality_rate', ascending=False, inplace=True)\n",
    "imr_nlarge"
   ]
  },
  {
   "cell_type": "markdown",
   "metadata": {},
   "source": [
    "All ten countries with highest IMR are in Africa, including Somalia which our region classification shows as an Arab State. Let us also look at the ten countries with lowest IMR. "
   ]
  },
  {
   "cell_type": "code",
   "execution_count": 137,
   "metadata": {},
   "outputs": [
    {
     "data": {
      "text/html": [
       "<div>\n",
       "<style scoped>\n",
       "    .dataframe tbody tr th:only-of-type {\n",
       "        vertical-align: middle;\n",
       "    }\n",
       "\n",
       "    .dataframe tbody tr th {\n",
       "        vertical-align: top;\n",
       "    }\n",
       "\n",
       "    .dataframe thead th {\n",
       "        text-align: right;\n",
       "    }\n",
       "</style>\n",
       "<table border=\"1\" class=\"dataframe\">\n",
       "  <thead>\n",
       "    <tr style=\"text-align: right;\">\n",
       "      <th></th>\n",
       "      <th>country</th>\n",
       "      <th>region</th>\n",
       "      <th>infant_mortality_rate</th>\n",
       "    </tr>\n",
       "  </thead>\n",
       "  <tbody>\n",
       "    <tr>\n",
       "      <th>106</th>\n",
       "      <td>Liechtenstein</td>\n",
       "      <td>Europe</td>\n",
       "      <td>1.93</td>\n",
       "    </tr>\n",
       "    <tr>\n",
       "      <th>82</th>\n",
       "      <td>Iceland</td>\n",
       "      <td>Europe</td>\n",
       "      <td>1.98</td>\n",
       "    </tr>\n",
       "    <tr>\n",
       "      <th>108</th>\n",
       "      <td>Luxembourg</td>\n",
       "      <td>Europe</td>\n",
       "      <td>2.06</td>\n",
       "    </tr>\n",
       "    <tr>\n",
       "      <th>165</th>\n",
       "      <td>Singapore</td>\n",
       "      <td>Asia &amp; Pacific</td>\n",
       "      <td>2.22</td>\n",
       "    </tr>\n",
       "    <tr>\n",
       "      <th>92</th>\n",
       "      <td>Japan</td>\n",
       "      <td>Asia &amp; Pacific</td>\n",
       "      <td>2.44</td>\n",
       "    </tr>\n",
       "    <tr>\n",
       "      <th>181</th>\n",
       "      <td>Sweden</td>\n",
       "      <td>Europe</td>\n",
       "      <td>2.54</td>\n",
       "    </tr>\n",
       "    <tr>\n",
       "      <th>3</th>\n",
       "      <td>Andorra</td>\n",
       "      <td>Europe</td>\n",
       "      <td>2.60</td>\n",
       "    </tr>\n",
       "    <tr>\n",
       "      <th>64</th>\n",
       "      <td>Finland</td>\n",
       "      <td>Europe</td>\n",
       "      <td>2.62</td>\n",
       "    </tr>\n",
       "    <tr>\n",
       "      <th>141</th>\n",
       "      <td>Norway</td>\n",
       "      <td>Europe</td>\n",
       "      <td>2.74</td>\n",
       "    </tr>\n",
       "    <tr>\n",
       "      <th>167</th>\n",
       "      <td>Slovenia</td>\n",
       "      <td>Europe</td>\n",
       "      <td>2.86</td>\n",
       "    </tr>\n",
       "  </tbody>\n",
       "</table>\n",
       "</div>"
      ],
      "text/plain": [
       "           country          region  infant_mortality_rate\n",
       "106  Liechtenstein          Europe                   1.93\n",
       "82         Iceland          Europe                   1.98\n",
       "108     Luxembourg          Europe                   2.06\n",
       "165      Singapore  Asia & Pacific                   2.22\n",
       "92           Japan  Asia & Pacific                   2.44\n",
       "181         Sweden          Europe                   2.54\n",
       "3          Andorra          Europe                   2.60\n",
       "64         Finland          Europe                   2.62\n",
       "141         Norway          Europe                   2.74\n",
       "167       Slovenia          Europe                   2.86"
      ]
     },
     "execution_count": 137,
     "metadata": {},
     "output_type": "execute_result"
    }
   ],
   "source": [
    "# Copy dataframe and remove unneeded column\n",
    "imr_small = df_q4.copy()\n",
    "imr_small.drop('literacy_rate', axis=1, inplace=True)\n",
    "\n",
    "# Filter to 10 lowest imr\n",
    "imr_small_list = imr_small.infant_mortality_rate.drop_duplicates().nsmallest(10)\n",
    "imr_small = imr_small.query('infant_mortality_rate in @imr_small_list')\n",
    "\n",
    "# Sort dataframe\n",
    "imr_small.sort_values(by='infant_mortality_rate', inplace=True)\n",
    "imr_small"
   ]
  },
  {
   "cell_type": "markdown",
   "metadata": {},
   "source": [
    "The ten lowest IMR countries are shown above. The metric suggests high levels of populations health for these countries.\n",
    "\n",
    "We will now investigate if any relationship exists between adult literacy and health."
   ]
  },
  {
   "cell_type": "code",
   "execution_count": 138,
   "metadata": {},
   "outputs": [
    {
     "data": {
      "image/png": "[encoded data removed]",
      "text/plain": [
       "<Figure size 432x288 with 4 Axes>"
      ]
     },
     "metadata": {},
     "output_type": "display_data"
    }
   ],
   "source": [
    "# Single shot view of distributions and correlations\n",
    "\n",
    "pd.plotting.scatter_matrix(df_q4);"
   ]
  },
  {
   "cell_type": "code",
   "execution_count": 139,
   "metadata": {},
   "outputs": [
    {
     "data": {
      "image/png": "[encoded data removed]",
      "text/plain": [
       "<Figure size 432x288 with 1 Axes>"
      ]
     },
     "metadata": {},
     "output_type": "display_data"
    }
   ],
   "source": [
    "# Scatter plot between literacy and IMR\n",
    "\n",
    "q4_1 = df_q4.plot(kind='scatter', x='literacy_rate', y='infant_mortality_rate')\n",
    "q4_1.set_title('Literacy and Infant Mortality Rate')\n",
    "q4_1.set_xlabel('Literacy Rate')\n",
    "q4_1.set_ylabel('Infant Mortality Rate');"
   ]
  },
  {
   "cell_type": "markdown",
   "metadata": {},
   "source": [
    "There appears to be a strong negative correlation between literacy and infant mortality. **The higher the rate of adult literacy, the fewer infant deaths are recorded, indicating a healthier populations are associated with literate populations.**\n",
    "\n",
    "Let us confirm this by calculating the correlation coefficient."
   ]
  },
  {
   "cell_type": "code",
   "execution_count": 140,
   "metadata": {},
   "outputs": [
    {
     "data": {
      "text/plain": [
       "-0.7603129044114025"
      ]
     },
     "execution_count": 140,
     "metadata": {},
     "output_type": "execute_result"
    }
   ],
   "source": [
    "# Calculate correlation coefficient between literacy and infant mortality\n",
    "\n",
    "df_q4.literacy_rate.corr(df_q4.infant_mortality_rate)"
   ]
  },
  {
   "cell_type": "markdown",
   "metadata": {},
   "source": [
    "High negative coefficient of -0.76 confirms the visual observation.\n",
    "\n",
    "It must be repeated that this merely indicates a correlation and does not confirm causation. "
   ]
  },
  {
   "cell_type": "markdown",
   "metadata": {},
   "source": [
    "<a id='conclusions'></a>\n",
    "## Conclusions"
   ]
  },
  {
   "cell_type": "markdown",
   "metadata": {},
   "source": [
    "We will now summarize the findings from our data exploration, performed under the guidance of four questions.\n",
    "\n",
    "It must be stressed that the main tool of analysis here was descriptive statistics. And even that was limited to mainly correlation. This analysis therefore makes no claims about a causal relation between any of the measures used.\n",
    "\n",
    "Nevetheless, this analysis has explored multiple socio-economic indicators across countries of the world. For each indicator, we have identified global and regional frequency distributions, as well as top and bottom countries. So even though the research questions focused on correlation-type questions, our journey through the exploration process exposed some interesting learnings. \n",
    "\n",
    "For example, our exploration showed that while we find the worst cases of income inequality in Africa, on average by region it is South America that shows the worst levels.\n",
    "\n",
    "We also found, surprisingly for me, that North Korea, Cuba and Kazakhstan are in the top six most literate countries in the world.\n",
    "\n",
    "These insights and correlations exposed in this project can serve as a useful entry point into deeper analysis of the research questions posed here."
   ]
  },
  {
   "cell_type": "markdown",
   "metadata": {},
   "source": [
    "### Question 1 Findings: Which five countries have the highest and lowest income inequality?"
   ]
  },
  {
   "cell_type": "markdown",
   "metadata": {},
   "source": [
    "Our observation in relation to this question is that the five countries with lowest income inequality are in Europe. They are Slovenia, Ukraine, Norway, Czech Republic, Slovakia.\n",
    "\n",
    "On the other hand, the five countries with highest income inequality are in Africa. They are South Africa, Namibia, Botswana, Central African Republic, and Zambia. \n",
    "\n",
    "However, a few Afrian countries seem to have admirably high levels of fair income distribution, so that on average, South America, not Africa, appears to have the worst income inequality."
   ]
  },
  {
   "cell_type": "markdown",
   "metadata": {},
   "source": [
    "### Question 2 Findings: Is there a relationship between income inequality and corruption?"
   ]
  },
  {
   "cell_type": "markdown",
   "metadata": {},
   "source": [
    "Our observation is that a very weak negative correlation exists between income inequality and corruption. **The data therefore is inconclusive with regards to a relationship between income inequality and corruption perception.** \n"
   ]
  },
  {
   "cell_type": "markdown",
   "metadata": {},
   "source": [
    "### Question 3 Findings: Is GDP per capita a good predictor of income inequality?"
   ]
  },
  {
   "cell_type": "markdown",
   "metadata": {},
   "source": [
    "From analysis of our data, it appears there is a negative correlation between income inequality and GDP per capita. This suggests that **the lower the gdp per capita in a country, the greater its income inequality is likely to be.** Put another way, **richer countries tend to have a fairer income distribution among their citizens.** \n",
    "\n",
    "Again, this association is not considered to be causative, merely correlative."
   ]
  },
  {
   "cell_type": "markdown",
   "metadata": {},
   "source": [
    "### Question 4 Findings: Does a correlation exist between literacy and health?"
   ]
  },
  {
   "cell_type": "markdown",
   "metadata": {},
   "source": [
    "There appears to be a strong negative correlation between literacy and infant mortality. **This implies that the higher the rate of adult literacy, the fewer infant deaths are recorded, or put another way, healthy populations are likely to be literate.**"
   ]
  },
  {
   "cell_type": "markdown",
   "metadata": {},
   "source": [
    "## Resources\n",
    "\n",
    "### Coding resources\n",
    "\n",
    "- Python For Data Analysis 2nd Edition, Wes Mckinney, O'REILLY, ISBN: 9781491957660\n",
    "- https://stackoverflow.com/\n",
    "- http://robertmitchellv.com/blog-bar-chart-annotations-pandas-mpl.html\n",
    "- https://matplotlib.org/api/\n",
    "- http://pandas.pydata.org/pandas-docs/stable/\n",
    "- https://morphocode.com/pandas-cheat-sheet/\n",
    "\n",
    "\n",
    "\n",
    "### Definitions and Additional Information on metrics\n",
    "- https://www.cia.gov/library/publications/the-world-factbook/rankorder/2004rank.html\n",
    "- https://www.transparency.org/cpi2011/results\n",
    "- https://www.ncbi.nlm.nih.gov/pmc/articles/PMC1732453/\n",
    "- https://data.worldbank.org/indicator/SI.POV.GINI \n",
    "- https://meta.wikimedia.org/wiki/List_of_countries_by_regional_classification\n",
    "- https://www.numbeo.com/cost-of-living/\n",
    "\n"
   ]
  }
 ],
 "metadata": {
  "kernelspec": {
   "display_name": "Python [default]",
   "language": "python",
   "name": "python3"
  },
  "language_info": {
   "codemirror_mode": {
    "name": "ipython",
    "version": 3
   },
   "file_extension": ".py",
   "mimetype": "text/x-python",
   "name": "python",
   "nbconvert_exporter": "python",
   "pygments_lexer": "ipython3",
   "version": "3.6.5"
  }
 },
 "nbformat": 4,
 "nbformat_minor": 2
}
